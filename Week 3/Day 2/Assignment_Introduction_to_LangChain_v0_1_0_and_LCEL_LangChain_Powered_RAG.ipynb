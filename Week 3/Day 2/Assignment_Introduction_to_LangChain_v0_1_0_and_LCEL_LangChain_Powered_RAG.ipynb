{
  "cells": [
    {
      "cell_type": "markdown",
      "metadata": {
        "id": "47eTBHYNP4g1"
      },
      "source": [
        "# Introduction to LangChain v0.1.0 and LCEL: LangChain Powered RAG\n",
        "\n",
        "In the following notebook we're going to focus on learning how to navigate and build useful applications using LangChain, specifically LCEL, and how to integrate different APIs together into a coherent RAG application!\n",
        "\n",
        "In the notebook, you'll complete the following Tasks:\n",
        "\n",
        "- 🤝 Breakout Room #1:\n",
        "  1. Install required libraries\n",
        "  2. Set Environment Variables\n",
        "  3. Initialize a Simple Chain using LCEL\n",
        "  4. Implement Naive RAG using LCEL\n",
        "\n",
        "- 🤝 Breakout Room #2:\n",
        "  1. Create a Simple RAG Application Using QDrant, OpenAI, and LCEL\n",
        "\n",
        "Let's get started!\n",
        "\n"
      ]
    },
    {
      "cell_type": "markdown",
      "metadata": {
        "id": "2ayVXHXHRE_t"
      },
      "source": [
        "# 🤝 Breakout Room #1"
      ]
    },
    {
      "cell_type": "markdown",
      "metadata": {
        "id": "aVHd6POM0JFN"
      },
      "source": [
        "## Task 1: Installing Required Libraries\n",
        "\n",
        "One of the [key features](https://blog.langchain.dev/langchain-v0-1-0/) of LangChain v0.1.0 is the compartmentalization of the various LangChain ecosystem packages.\n",
        "\n",
        "Instead of one all encompassing Python package - LangChain has a `core` package and a number of additional supplementary packages.\n",
        "\n",
        "We'll start by grabbing all of our LangChain related packages!"
      ]
    },
    {
      "cell_type": "code",
      "execution_count": 1,
      "metadata": {
        "colab": {
          "base_uri": "https://localhost:8080/"
        },
        "id": "nCC2AR-Q0m0x",
        "outputId": "fe623cdf-cc3d-4ddd-fc8e-9405c5be8c50"
      },
      "outputs": [],
      "source": [
        "!pip install -qU langchain langchain-core langchain-community langchain-openai"
      ]
    },
    {
      "cell_type": "markdown",
      "metadata": {
        "id": "S5ELHQjQ1PYs"
      },
      "source": [
        "Now we can get our Qdrant dependencies!"
      ]
    },
    {
      "cell_type": "code",
      "execution_count": 2,
      "metadata": {
        "colab": {
          "base_uri": "https://localhost:8080/"
        },
        "id": "76XeYI9P1OXO",
        "outputId": "6384050b-85e9-44b5-bc91-18608fe62cd0"
      },
      "outputs": [],
      "source": [
        "!pip install -qU qdrant-client"
      ]
    },
    {
      "cell_type": "markdown",
      "metadata": {
        "id": "Iesey9OGCKJx"
      },
      "source": [
        "Let's finally get `tiktoken` and `pymupdf` so we can leverage them later on!"
      ]
    },
    {
      "cell_type": "code",
      "execution_count": 3,
      "metadata": {
        "colab": {
          "base_uri": "https://localhost:8080/"
        },
        "id": "K5qIUrFuENrS",
        "outputId": "1e6e0c65-b0e6-4997-8dc0-8e1528c27b8f"
      },
      "outputs": [],
      "source": [
        "!pip install -qU tiktoken pymupdf"
      ]
    },
    {
      "cell_type": "markdown",
      "metadata": {
        "id": "sl6wTp9C5qbY"
      },
      "source": [
        "## Task 2: Set Environment Variables\n",
        "\n",
        "We'll be leveraging OpenAI's suite of APIs - so we'll set our `OPENAI_API_KEY` `env` variable here!"
      ]
    },
    {
      "cell_type": "code",
      "execution_count": 9,
      "metadata": {
        "colab": {
          "base_uri": "https://localhost:8080/"
        },
        "id": "7pKAfycq73wE",
        "outputId": "13af9f4f-eb7b-466c-d6a0-0aefe9061cf0"
      },
      "outputs": [],
      "source": [
        "import os\n",
        "import getpass\n",
        "\n",
        "os.environ[\"OPENAI_API_KEY\"] = getpass.getpass(\"OpenAI API Key:\")"
      ]
    },
    {
      "cell_type": "markdown",
      "metadata": {
        "id": "Q_xp54wIA56_"
      },
      "source": [
        "## Task 3: Initialize a Simple Chain using LCEL\n",
        "\n",
        "The first thing we'll do is familiarize ourselves with LCEL and the specific ins and outs of how we can use it!"
      ]
    },
    {
      "cell_type": "markdown",
      "metadata": {
        "id": "SyGdhbS6SkD1"
      },
      "source": [
        "### LLM Orchestration Tool (LangChain)\n",
        "\n",
        "Let's dive right into [LangChain](https://www.langchain.com/)!\n",
        "\n",
        "The first thing we want to do is create an object that lets us access OpenAI's `gpt-3.5-turbo` model."
      ]
    },
    {
      "cell_type": "code",
      "execution_count": 10,
      "metadata": {
        "id": "3Uj6SorxMj8e"
      },
      "outputs": [],
      "source": [
        "from langchain_openai import ChatOpenAI\n",
        "\n",
        "openai_chat_model = ChatOpenAI(model=\"gpt-3.5-turbo\")"
      ]
    },
    {
      "cell_type": "markdown",
      "metadata": {
        "id": "HsmiieEh_Ye-"
      },
      "source": [
        "####❓ Question #1:\n",
        "\n",
        "What specific model are we using when we point to `gpt-3.5-turbo`?\n",
        "\n",
        "> HINT: Check out [this page](https://platform.openai.com/docs/models/gpt-3-5-turbo) to find the answer!"
      ]
    },
    {
      "cell_type": "markdown",
      "metadata": {},
      "source": [
        "**Answer:** gpt-3.5-turbo-0125"
      ]
    },
    {
      "cell_type": "markdown",
      "metadata": {
        "id": "9nU8SlHfH41T"
      },
      "source": [
        "### Prompt Template"
      ]
    },
    {
      "cell_type": "markdown",
      "metadata": {
        "id": "dcMKLZWBVYm7"
      },
      "source": [
        "Now, we'll set up a prompt template - more specifically a `ChatPromptTemplate`. This will let us build a prompt we can modify when we call our LLM!"
      ]
    },
    {
      "cell_type": "code",
      "execution_count": 6,
      "metadata": {
        "id": "Z770j4zPS3o5"
      },
      "outputs": [],
      "source": [
        "from langchain_core.prompts import ChatPromptTemplate\n",
        "\n",
        "system_template = \"You are a legendary and mythical Wizard. You speak in riddles and make obscure and pun-filled references to exotic cheeses.\"\n",
        "human_template = \"{content}\"\n",
        "\n",
        "chat_prompt = ChatPromptTemplate.from_messages(\n",
        "    [(\"system\", system_template), (\"human\", human_template)]\n",
        ")"
      ]
    },
    {
      "cell_type": "markdown",
      "metadata": {
        "id": "eGku_c2VVyd_"
      },
      "source": [
        "### Our First Chain\n",
        "\n",
        "Now we can set up our first chain!\n",
        "\n",
        "A chain is simply two components that feed directly into eachother in a sequential fashion!\n",
        "\n",
        "You'll notice that we're using the pipe operator `|` to connect our `chat_prompt` to our `llm`.\n",
        "\n",
        "This is a simplified method of creating chains and it leverages the LangChain Expression Language, or LCEL.\n",
        "\n",
        "You can read more about it [here](https://python.langchain.com/docs/expression_language/), but there a few features we should be aware of out of the box (taken directly from LangChain's documentation linked above):\n",
        "\n",
        "- **Async, Batch, and Streaming Support** Any chain constructed this way will automatically have full sync, async, batch, and streaming support. This makes it easy to prototype a chain in a Jupyter notebook using the sync interface, and then expose it as an async streaming interface.\n",
        "\n",
        "- **Fallbacks** The non-determinism of LLMs makes it important to be able to handle errors gracefully. With LCEL you can easily attach fallbacks to any chain.\n",
        "\n",
        "- **Parallelism** Since LLM applications involve (sometimes long) API calls, it often becomes important to run things in parallel. With LCEL syntax, any components that can be run in parallel automatically are.\n",
        "\n",
        "In the following code cell we have two components:\n",
        "\n",
        "- `chat_prompt`, which is a formattable `ChatPromptTemplate` that contains a system message and a human message.\n",
        "\n",
        "We'd like to be able to pass our own `content` (as found in our `human_template`) and then have the resulting message pair sent to our model and responded to!"
      ]
    },
    {
      "cell_type": "code",
      "execution_count": 7,
      "metadata": {
        "id": "RcJyqOiwVt04"
      },
      "outputs": [],
      "source": [
        "chain = chat_prompt | openai_chat_model"
      ]
    },
    {
      "cell_type": "markdown",
      "metadata": {
        "id": "QV_kHCjlL_01"
      },
      "source": [
        "Notice the pattern here:\n",
        "\n",
        "We invoke our chain with the `dict` `{\"content\" : \"Hello world!\"}`.\n",
        "\n",
        "It enters our chain:\n",
        "\n",
        "`{\"content\" : \"Hello world!\"}` -> `invoke()` -> `chat_prompt`\n",
        "\n",
        "Our `chat_prompt` returns a `PromptValue`, which is the formatted prompt. We then \"pipe\" the output of our `chat_prompt` into our `llm`.\n",
        "\n",
        "`PromptValue` -> `|` -> `llm`\n",
        "\n",
        "Our `llm` then takes the list of messages and provides an output which is return as a `str`!\n",
        "\n",
        "\n",
        "\n",
        "\n",
        "\n"
      ]
    },
    {
      "cell_type": "code",
      "execution_count": 8,
      "metadata": {
        "colab": {
          "base_uri": "https://localhost:8080/"
        },
        "id": "0cqr2QuMtIjn",
        "outputId": "8dd76a83-199a-44dc-8120-93210815908b"
      },
      "outputs": [
        {
          "name": "stdout",
          "output_type": "stream",
          "text": [
            "content='Greetings, oh seeker of knowledge, like a wheel of Roquefort aging in the depths of a mystical cave. What mysteries do you wish to uncover today, as complex and intricate as a Gruyère fondue swirling in a cauldron of magic?' response_metadata={'token_usage': {'completion_tokens': 53, 'prompt_tokens': 38, 'total_tokens': 91}, 'model_name': 'gpt-3.5-turbo', 'system_fingerprint': 'fp_d9767fc5b9', 'finish_reason': 'stop', 'logprobs': None} id='run-ab3ad330-3052-4784-b100-5698b3505c0f-0'\n"
          ]
        }
      ],
      "source": [
        "print(chain.invoke({\"content\": \"Hello world!\"}))"
      ]
    },
    {
      "cell_type": "markdown",
      "metadata": {
        "id": "2znL48ECNteM"
      },
      "source": [
        "Let's try it out with a different prompt!"
      ]
    },
    {
      "cell_type": "code",
      "execution_count": 9,
      "metadata": {
        "colab": {
          "base_uri": "https://localhost:8080/"
        },
        "id": "mjiTNeYXUCAB",
        "outputId": "1a0da3d2-c723-4421-a0d6-c6e36d5caeb3"
      },
      "outputs": [
        {
          "data": {
            "text/plain": [
              "AIMessage(content=\"Ah, young apprentice, to master the serpent's tongue, \\nOne must be as sharp as a blade and as swift as a song. \\nLike a fine Roquefort, embrace the complexity,\\nFor in its depths lie the secrets of proficiency.\\n\\nLearn to wield the loops like a Gouda on a plate,\\nAnd with functions, create a symphony so great.\\nJust as a Brie ripens with time and care,\\nSo too must you practice, with diligence and flair.\\n\\nSeek out the wisdom of the elders, my dear,\\nFor in their tales, the path to mastery is clear.\\nAnd remember, like a rare and exotic Camembert,\\nYour skills will mature and grow stronger with every effort.\\n\\nSo fear not the challenges that lie ahead,\\nFor with determination, you will forge ahead.\\nEmbrace the process, like a fine Stilton aged to perfection,\\nAnd soon you shall be a Python wizard of distinction.\", response_metadata={'token_usage': {'completion_tokens': 187, 'prompt_tokens': 50, 'total_tokens': 237}, 'model_name': 'gpt-3.5-turbo', 'system_fingerprint': 'fp_d9767fc5b9', 'finish_reason': 'stop', 'logprobs': None}, id='run-de9da203-aab8-4066-b6e0-558773cb4691-0')"
            ]
          },
          "execution_count": 9,
          "metadata": {},
          "output_type": "execute_result"
        }
      ],
      "source": [
        "chain.invoke(\n",
        "    {\n",
        "        \"content\": \"Could I please have some advice on how to become a better Python Programmer?\"\n",
        "    }\n",
        ")"
      ]
    },
    {
      "cell_type": "markdown",
      "metadata": {
        "id": "THcMz8YAWsjP"
      },
      "source": [
        "Notice how we specifically referenced our `content` format option!\n",
        "\n",
        "Now that we have the basics set up - let's see what we mean by \"Retrieval Augmented\" Generation."
      ]
    },
    {
      "cell_type": "markdown",
      "metadata": {
        "id": "P7o8aXbhRAPe"
      },
      "source": [
        "## Naive RAG - Manually Adding Context\n",
        "\n",
        "Let's look at how our model performs at a simple task - defining what LangChain is!\n",
        "\n",
        "We'll redo some of our previous work to change the `system_template` to be less...verbose."
      ]
    },
    {
      "cell_type": "code",
      "execution_count": 10,
      "metadata": {
        "colab": {
          "base_uri": "https://localhost:8080/"
        },
        "id": "Qu_Uox_pPKaf",
        "outputId": "d0c54832-fead-4427-fb19-cd7969d8e882"
      },
      "outputs": [
        {
          "name": "stdout",
          "output_type": "stream",
          "text": [
            "content='LangChain is a blockchain-based platform designed to support multi-language content creation and translation. It aims to connect content creators, translators, and businesses in a decentralized network that facilitates efficient and accurate translation services across different languages.' response_metadata={'token_usage': {'completion_tokens': 43, 'prompt_tokens': 22, 'total_tokens': 65}, 'model_name': 'gpt-3.5-turbo', 'system_fingerprint': 'fp_d9767fc5b9', 'finish_reason': 'stop', 'logprobs': None} id='run-aeebd074-df91-4f94-bfde-448a1e82683e-0'\n"
          ]
        }
      ],
      "source": [
        "system_template = \"You are a helpful assistant.\"\n",
        "human_template = \"{content}\"\n",
        "\n",
        "chat_prompt = ChatPromptTemplate.from_messages(\n",
        "    [(\"system\", system_template), (\"human\", human_template)]\n",
        ")\n",
        "\n",
        "chat_chain = chat_prompt | openai_chat_model\n",
        "\n",
        "print(chat_chain.invoke({\"content\": \"Please define LangChain.\"}))"
      ]
    },
    {
      "cell_type": "markdown",
      "metadata": {
        "id": "18KXqGI4XbMb"
      },
      "source": [
        "Well, that's not very good - is it!\n",
        "\n",
        "The issue at play here is that our model was not trained on the idea of \"LangChain\", and so it's left with nothing but a guess - definitely not what we want the answer to be!\n",
        "\n",
        "Let's ask another simple LangChain question!"
      ]
    },
    {
      "cell_type": "code",
      "execution_count": 11,
      "metadata": {
        "colab": {
          "base_uri": "https://localhost:8080/"
        },
        "id": "pRG5LwYoXnsr",
        "outputId": "94d61815-6a91-4c32-fc70-8b16c2366dc6"
      },
      "outputs": [
        {
          "name": "stdout",
          "output_type": "stream",
          "text": [
            "content='LangChain Expression Language (LECL) is a domain-specific language developed by LangChain, a company specializing in blockchain technology. LECL is designed to provide a standardized, secure, and efficient way to write smart contracts on various blockchain platforms. It is specifically tailored for the needs of blockchain developers and aims to simplify the process of writing complex logic for smart contracts. LECL includes features such as built-in security mechanisms, compatibility with different blockchain protocols, and a user-friendly syntax to make smart contract development more accessible to developers.' response_metadata={'token_usage': {'completion_tokens': 104, 'prompt_tokens': 27, 'total_tokens': 131}, 'model_name': 'gpt-3.5-turbo', 'system_fingerprint': 'fp_d9767fc5b9', 'finish_reason': 'stop', 'logprobs': None} id='run-36b40cf1-eec7-4f15-84ae-a88c83588968-0'\n"
          ]
        }
      ],
      "source": [
        "print(chat_chain.invoke({\"content\": \"What is LangChain Expression Language (LECL)?\"}))"
      ]
    },
    {
      "cell_type": "markdown",
      "metadata": {
        "id": "63pr0fgYXxC3"
      },
      "source": [
        "While it provides a confident response, that response is entirely ficticious! Not a great look, OpenAI!\n",
        "\n",
        "However, let's see what happens when we rework our prompts - and we add the content from the docs to our prompt as context."
      ]
    },
    {
      "cell_type": "code",
      "execution_count": 12,
      "metadata": {
        "colab": {
          "base_uri": "https://localhost:8080/"
        },
        "id": "Fgr25HjgYHwh",
        "outputId": "c62107bf-9d01-43bc-8ec0-6499e422aec5"
      },
      "outputs": [
        {
          "name": "stdout",
          "output_type": "stream",
          "text": [
            "content='LangChain Expression Language or LCEL is a declarative way to easily compose chains together. It offers benefits such as async, batch, and streaming support, fallback handling, parallelism, and seamless LangSmith tracing integration.' response_metadata={'token_usage': {'completion_tokens': 44, 'prompt_tokens': 274, 'total_tokens': 318}, 'model_name': 'gpt-3.5-turbo', 'system_fingerprint': 'fp_d9767fc5b9', 'finish_reason': 'stop', 'logprobs': None} id='run-c3840721-02d9-4fba-9435-8c5a96bd9990-0'\n"
          ]
        }
      ],
      "source": [
        "HUMAN_TEMPLATE = \"\"\"\n",
        "#CONTEXT:\n",
        "{context}\n",
        "\n",
        "QUERY:\n",
        "{query}\n",
        "\n",
        "Use the provide context to answer the provided user query. Only use the provided context to answer the query. If you do not know the answer, response with \"I don't know\"\n",
        "\"\"\"\n",
        "\n",
        "CONTEXT = \"\"\"\n",
        "LangChain Expression Language or LCEL is a declarative way to easily compose chains together. There are several benefits to writing chains in this manner (as opposed to writing normal code):\n",
        "\n",
        "Async, Batch, and Streaming Support Any chain constructed this way will automatically have full sync, async, batch, and streaming support. This makes it easy to prototype a chain in a Jupyter notebook using the sync interface, and then expose it as an async streaming interface.\n",
        "\n",
        "Fallbacks The non-determinism of LLMs makes it important to be able to handle errors gracefully. With LCEL you can easily attach fallbacks to any chain.\n",
        "\n",
        "Parallelism Since LLM applications involve (sometimes long) API calls, it often becomes important to run things in parallel. With LCEL syntax, any components that can be run in parallel automatically are.\n",
        "\n",
        "Seamless LangSmith Tracing Integration As your chains get more and more complex, it becomes increasingly important to understand what exactly is happening at every step. With LCEL, all steps are automatically logged to LangSmith for maximal observability and debuggability.\n",
        "\"\"\"\n",
        "\n",
        "chat_prompt = ChatPromptTemplate.from_messages([(\"human\", HUMAN_TEMPLATE)])\n",
        "\n",
        "chat_chain = chat_prompt | openai_chat_model\n",
        "\n",
        "print(\n",
        "    chat_chain.invoke(\n",
        "        {\"query\": \"What is LangChain Expression Language?\", \"context\": CONTEXT}\n",
        "    )\n",
        ")"
      ]
    },
    {
      "cell_type": "markdown",
      "metadata": {
        "id": "ppQdtCedY7C4"
      },
      "source": [
        "You'll notice that the response is much better this time. Not only does it answer the question well - but there's no trace of confabulation (hallucination) at all!\n",
        "\n",
        "> NOTE: While RAG is an effective strategy to *help* ground LLMs, it is not nearly 100% effective. You will still need to ensure your responses are factual through some other processes\n",
        "\n",
        "That, in essence, is the idea of RAG. We provide the model with context to answer our queries - and rely on it to translate the potentially lengthy and difficult to parse context into a natural language answer!\n",
        "\n",
        "However, manually providing context is not scalable - and doesn't really offer any benefit.\n",
        "\n",
        "Enter: Retrieval Pipelines."
      ]
    },
    {
      "cell_type": "markdown",
      "metadata": {
        "id": "DFmdARsVBJUq"
      },
      "source": [
        "## Task #2: Implement Naive RAG using LCEL\n",
        "\n",
        "Now we can make a naive RAG application that will help us bridge the gap between our Pythonic implementation and a fully LangChain powered solution!"
      ]
    },
    {
      "cell_type": "markdown",
      "metadata": {
        "id": "n4AozVoEZveK"
      },
      "source": [
        "## Putting the R in RAG: Retrieval 101\n",
        "\n",
        "In order to make our RAG system useful, we need a way to provide context that is most likely to answer our user's query to the LLM as additional context.\n",
        "\n",
        "Let's tackle an immediate problem first: The Context Window.\n",
        "\n",
        "All (most) LLMs have a limited context window which is typically measured in tokens. This window is an upper bound of how much stuff we can stuff in the model's input at a time.\n",
        "\n",
        "Let's say we want to work off of a relatively large piece of source data - like the Ultimate Hitchhiker's Guide to the Galaxy. All 898 pages of it!"
      ]
    },
    {
      "cell_type": "code",
      "execution_count": 1,
      "metadata": {
        "id": "PbXBxffibeyp"
      },
      "outputs": [],
      "source": [
        "context = \"\"\"THE HITCHHIKER'S GUIDE TO THE GALAXY\n",
        "BY DOUGLAS ADAMS\n",
        "2001 HANOMAG\n",
        "DOCUMENT VERSION 1.0\n",
        "\n",
        "COPYRIGHT © DOUGLAS ADAMS\n",
        "\n",
        "for Jonny Brock and Clare Gorst and all other Arlingtonians for tea, sympathy, and a sofa\n",
        "Far out in the uncharted backwaters of the unfashionable end of the western spiral arm of the Galaxy lies a small unregarded yellow sun.\n",
        "Orbiting this at a distance of roughly ninety-two million miles is an utterly insignificant little blue green planet whose ape- descended life forms are so amazingly primitive that they still think digital watches are a pretty neat idea.\n",
        "This planet has - or rather had - a problem, which was this: most of the people on it were unhappy for pretty much of the time. Many solutions were suggested for this problem, but most of these were largely concerned with the movements of small green pieces of paper, which is odd because on the whole it wasn't the small green pieces of paper that were unhappy.\n",
        "And so the problem remained; lots of the people were mean, and most of them were miserable, even the ones with digital watches.\n",
        "Many were increasingly of the opinion that they'd all made a big mistake in coming down from the trees in the first place. And some said that even the trees had been a bad move, and that no one should ever have left the oceans.\n",
        "And then, one Thursday, nearly two thousand years after one man had been nailed to a tree for saying how great it would be to be nice to people for a change, one girl sitting on her own in a small cafe in Rickmansworth suddenly realized what it was that had been going wrong all this time, and she finally knew how the world could be made a good and happy place. This time it was right, it would work, and no one would have to get nailed to anything.\n",
        "\n",
        "4 / DOUGLAS ADAMS\n",
        "Sadly, however, before she could get to a phone to tell anyone- about it, a terribly stupid catastrophe occurred, and the idea was lost forever.\n",
        "This is not her story.\n",
        "But it is the story of that terrible stupid catastrophe and some of its consequences.\n",
        "It is also the story of a book, a book called The Hitch Hiker's Guide to the Galaxy - not an Earth book, never published on Earth, and until the terrible catastrophe occurred, never seen or heard of by any Earthman.\n",
        "Nevertheless, a wholly remarkable book.\n",
        "in fact it was probably the most remarkable book ever to come out of the great publishing houses of Ursa Minor - of which no Earthman had ever heard either.\n",
        "Not only is it a wholly remarkable book, it is also a highly successful one - more popular than the Celestial Home Care Omnibus, better selling than Fifty More Things to do in Zero Gravity, and more controversial than Oolon Colluphid's trilogy of philosophical blockbusters Where God Went Wrong, Some More of God's Greatest Mistakes and Who is this God Person Anyway?\n",
        "In many of the more relaxed civilizations on the Outer Eastern Rim of the Galaxy, the Hitch Hiker's Guide has already supplanted the great Encyclopedia Galactica as the standard repository of all knowledge and wisdom, for though it has many omissions and contains much that is apocryphal, or at least wildly inaccurate, it scores over the older, more pedestrian work in two important respects.\n",
        "\n",
        "THE HITCHHIKER'S GUIDE TO THE GALAXY / 5\n",
        "First, it is slightly cheaper; and secondly it has the words Don't Panic inscribed in large friendly letters on its cover.\n",
        "But the story of this terrible, stupid Thursday, the story of its extraordinary consequences, and the story of how these consequences are inextricably intertwined with this remarkable book begins very simply.\n",
        "It begins with a house.\n",
        "\n",
        "6 / DOUGLAS ADAMS\n",
        "The house stood on a slight rise just on the edge of the village. It stood on its own and looked over a broad spread of West Country farmland. Not a remarkable house by any means - it was about thirty years old, squattish, squarish, made of brick, and had four windows set in the front of a size and proportion which more or less exactly failed to please the eye.\n",
        "The only person for whom the house was in any way special was Arthur Dent, and that was only because it happened to be the one he lived in. He had lived in it for about three years, ever since he had moved out of London because it made him nervous and irritable. He was about thirty as well, dark haired and never- quite at ease with himself. The thing that used to worry him most was the fact that people always used to ask him what he was looking so worried about. He worked in local radio which he always used to tell his friends was a lot more interesting than they probably thought. It was, too - most of his friends worked in advertising.\n",
        "It hadn't properly registered with Arthur that the council wanted to knock down his house and build a bypass instead.\n",
        "At eight o'clock on Thursday morning Arthur didn't feel very good. He woke up blearily, got up, wandered blearily round his room, opened a window, saw a bulldozer, found his slippers, and stomped off to the bathroom to wash.\n",
        "Toothpaste on the brush - so. Scrub.\n",
        "Shaving mirror - pointing at the ceiling. He adjusted it. For a moment it reflected a second bulldozer through the bathroom window. Properly adjusted, it reflected Arthur Dent's bristles. He shaved them off, washed, dried, and stomped off to the kitchen to find something pleasant to put in his mouth.\n",
        "\n",
        "THE HITCHHIKER'S GUIDE TO THE GALAXY / 7 Kettle, plug, fridge, milk, coffee. Yawn.\n",
        "The word bulldozer wandered through his mind for a moment in search of something to connect with.\n",
        "The bulldozer outside the kitchen window was quite a big one. He stared at it.\n",
        "\"Yellow,\" he thought and stomped off back to his bedroom to get dressed.\n",
        "Passing the bathroom he stopped to drink a large glass of water, and another. He began to suspect that he was hung over. Why was he hung over? Had he been drinking the night before? He supposed that he must have been. He caught a glint in the shaving mirror. \"Yellow,\" he thought and stomped on to the bedroom.\n",
        "He stood and thought. The pub, he thought. Oh dear, the pub. He vaguely remembered being angry, angry about something that seemed important. He'd been telling people about it, telling people about it at great length, he rather suspected: his clearest visual recollection was of glazed looks on other people's faces. Something about a new bypass he had just found out about. It had been in the pipeline for months only no one seemed to have known about it. Ridiculous. He took a swig of water. It would sort itself out, he'd decided, no one wanted a bypass, the council didn't have a leg to stand on. It would sort itself out.\n",
        "God what a terrible hangover it had earned him though. He looked at himself in the wardrobe mirror. He stuck out his tongue. \"Yellow,\" he thought. The word yellow wandered through his mind in search of something to connect with.\n",
        "\n",
        "8 / DOUGLAS ADAMS\n",
        "Fifteen seconds later he was out of the house and lying in front of a big yellow bulldozer that was advancing up his garden path. Mr L Prosser was, as they say, only human. In other words he was a carbon-based life form descended from an ape. More specifically he was forty, fat and shabby and worked for the local council. Curiously enough, though he didn't know it, he was also a direct male-line descendant of Genghis Khan, though intervening generations and racial mixing had so juggled his genes that he had no discernible Mongoloid characteristics, and the only vestiges left in Mr L Prosser of his mighty ancestry were a pronounced stoutness about the tum and a predilection for little fur hats.\n",
        "He was by no means a great warrior: in fact he was a nervous worried man. Today he was particularly nervous and worried because something had gone seriously wrong with his job - which was to see that Arthur Dent's house got cleared out of the way before the day was out.\n",
        "\"Come off it, Mr Dent,\", he said, \"you can't win you know. You can't lie in front of the bulldozer indefinitely.\" He tried to make his eyes blaze fiercely but they just wouldn't do it.\n",
        "Arthur lay in the mud and squelched at him.\n",
        "\"I'm game,\" he said, \"we'll see who rusts first.\"\n",
        "\"I'm afraid you're going to have to accept it,\" said Mr Prosser gripping his fur hat and rolling it round the top of his head, \"this bypass has got to be built and it's going to be built!\"\n",
        "\"First I've heard of it,\" said Arthur, \"why's it going to be built?\"\n",
        "Mr Prosser shook his finger at him for a bit, then stopped and put it away again.\n",
        "\n",
        "THE HITCHHIKER'S GUIDE TO THE GALAXY / 9\n",
        "\"What do you mean, why's it got to be built?\" he said. \"It's a bypass. You've got to build bypasses.\"\n",
        "Bypasses are devices which allow some people to drive from point A to point B very fast whilst other people dash from point B to point A very fast. People living at point C, being a point directly in between, are often given to wonder what's so great about point A that so many people of point B are so keen to get there, and what's so great about point B that so many people of point A are so keen to get there. They often wish that people would just once and for all work out where the hell they wanted to be.\n",
        "Mr Prosser wanted to be at point D. Point D wasn't anywhere in particular, it was just any convenient point a very long way from points A, B and C. He would have a nice little cottage at point D, with axes over the door, and spend a pleasant amount of time at point E, which would be the nearest pub to point D. His wife of course wanted climbing roses, but he wanted axes. He didn't know why - he just liked axes. He flushed hotly under the derisive grins of the bulldozer drivers.\n",
        "He shifted his weight from foot to foot, but it was equally uncomfortable on each. Obviously somebody had been appallingly incompetent and he hoped to God it wasn't him.\n",
        "Mr Prosser said: \"You were quite entitled to make any suggestions or protests at the appropriate time you know.\"\n",
        "\"Appropriate time?\" hooted Arthur. \"Appropriate time? The first I knew about it was when a workman arrived at my home yesterday. I asked him if he'd come to clean the windows and he said no he'd come to demolish the house. He didn't tell me\n",
        "\n",
        "10 / DOUGLAS ADAMS\n",
        "straight away of course. Oh no. First he wiped a couple of windows and charged me a fiver. Then he told me.\"\n",
        "\"But Mr Dent, the plans have been available in the local planning office for the last nine month.\"\n",
        "\"Oh yes, well as soon as I heard I went straight round to see them, yesterday afternoon. You hadn't exactly gone out of your way to call attention to them had you? I mean like actually telling anybody or anything.\"\n",
        "\"But the plans were on display ...\"\n",
        "\"On display? I eventually had to go down to the cellar to find them.\"\n",
        "\"That's the display department.\"\n",
        "\"With a torch.\"\n",
        "\"Ah, well the lights had probably gone.\"\n",
        "\"So had the stairs.\"\n",
        "\"But look, you found the notice didn't you?\"\n",
        "\"Yes,\" said Arthur, \"yes I did. It was on display in the bottom of a locked filing cabinet stuck in a disused lavatory with a sign on the door saying Beware of the Leopard.\"\n",
        "A cloud passed overhead. It cast a shadow over Arthur Dent as he lay propped up on his elbow in the cold mud. It cast a shadow over Arthur Dent's house. Mr Prosser frowned at it.\n",
        "\"It's not as if it's a particularly nice house,\" he said.\n",
        "\n",
        "THE HITCHHIKER'S GUIDE TO THE GALAXY / 11 \"I'm sorry, but I happen to like it.\"\n",
        "\"You'll like the bypass.\"\n",
        "\"Oh shut up,\" said Arthur Dent. \"Shut up and go away, and take your bloody bypass with you. You haven't got a leg to stand on and you know it.\"\n",
        "Mr Prosser's mouth opened and closed a couple of times while his mind was for a moment filled with inexplicable but terribly attractive visions of Arthur Dent's house being consumed with fire and Arthur himself running screaming from the blazing ruin with at least three hefty spears protruding from his back. Mr Prosser was often bothered with visions like these and they made him feel very nervous. He stuttered for a moment and then pulled himself together.\n",
        "\"Mr Dent,\" he said.\n",
        "\"Hello? Yes?\" said Arthur.\n",
        "\"Some factual information for you. Have you any idea how much damage that bulldozer would suffer if I just let it roll straight over you?\"\n",
        "\"How much?\" said Arthur.\n",
        "\"None at all,\" said Mr Prosser, and stormed nervously off wondering why his brain was filled with a thousand hairy horsemen all shouting at him.\n",
        "By a curious coincidence, None at all is exactly how much suspicion the ape-descendant Arthur Dent had that one of his closest friends was not descended from an ape, but was in fact\n",
        "\n",
        "12 / DOUGLAS ADAMS\n",
        "from a small planet in the vicinity of Betelgeuse and not from Guildford as he usually claimed.\n",
        "Arthur Dent had never, ever suspected this.\n",
        "This friend of his had first arrived on the planet some fifteen Earth years previously, and he had worked hard to blend himself into Earth society - with, it must be said, some success. For instance he had spent those fifteen years pretending to be an out of work actor, which was plausible enough.\n",
        "He had made one careless blunder though, because he had skimped a bit on his preparatory research. The information he had gathered had led him to choose the name \"Ford Prefect\" as being nicely inconspicuous.\n",
        "He was not conspicuously tall, his features were striking but not conspicuously handsome. His hair was wiry and gingerish and brushed backwards from the temples. His skin seemed to be pulled backwards from the nose. There was something very slightly odd about him, but it was difficult to say what it was. Perhaps it was that his eyes didn't blink often enough and when you talked to him for any length of time your eyes began involuntarily to water on his behalf. Perhaps it was that he smiled slightly too broadly and gave people the unnerving impression that he was about to go for their neck.\n",
        "He struck most of the friends he had made on Earth as an eccentric, but a harmless one -- an unruly boozer with some oddish habits. For instance he would often gatecrash university parties, get badly drunk and start making fun of any astrophysicist he could find till he got thrown out.\n",
        "\n",
        "THE HITCHHIKER'S GUIDE TO THE GALAXY / 13\n",
        "Sometimes he would get seized with oddly distracted moods and stare into the sky as if hypnotized until someone asked him what he was doing. Then he would start guiltily for a moment, relax and grin. \"Oh, just looking for flying saucers,\" he would joke and everyone would laugh and ask him what sort of flying saucers he was looking for.\n",
        "\"Green ones!\" he would reply with a wicked grin, laugh wildly for a moment and then suddenly lunge for the nearest bar and buy an enormous round of drinks.\n",
        "Evenings like this usually ended badly. Ford would get out of his skull on whisky, huddle into a corner with some girl and explain to her in slurred phrases that honestly the colour of the flying saucers didn't matter that much really.\n",
        "Thereafter, staggering semi-paralytic down the night streets he would often ask passing policemen if they knew the way to Betelgeuse. The policemen would usually say something like, \"Don't you think it's about time you went off home sir?\"\n",
        "\"I'm trying to baby, I'm trying to,\" is what Ford invariably replied on these occasions.\n",
        "In fact what he was really looking out for when he stared distractedly into the night sky was any kind of flying saucer at all. The reason he said green was that green was the traditional space livery of the Betelgeuse trading scouts.\n",
        "Ford Prefect was desperate that any flying saucer at all would arrive soon because fifteen years was a long time to get stranded anywhere, particularly somewhere as mindboggingly dull as the Earth.\n",
        "\n",
        "14 / DOUGLAS ADAMS\n",
        "Ford wished that a flying saucer would arrive soon because he knew how to flag flying saucers down and get lifts from them. He knew how to see the Marvels of the Universe for less than thirty Altairan dollars a day.\n",
        "In fact, Ford Prefect was a roving researcher for that wholly remarkable book The Hitch Hiker's Guide to the Galaxy.\n",
        "Human beings are great adaptors, and by lunchtime life in the environs of Arthur's house had settled into a steady routine. It was Arthur's accepted role to lie squelching in the mud making occasional demands to see his lawyer, his mother or a good book; it was Mr Prosser's accepted role to tackle Arthur with the occasional new ploy such as the For the Public Good talk, the March of Progress talk, the They Knocked My House Down Once You Know, Never Looked Back talk and various other cajoleries and threats; and it was the bulldozer drivers' accepted role to sit around drinking coffee and experimenting with union regulations to see how they could turn the situation to their financial advantage.\n",
        "The Earth moved slowly in its diurnal course.\n",
        "The sun was beginning to dry out the mud Arthur lay in.\n",
        "A shadow moved across him again.\n",
        "\"Hello Arthur,\" said the shadow. Arthur looked up and squinting into the sun was startled to see Ford Prefect standing above him.\n",
        "\"Ford! Hello, how are you?\"\n",
        "\"Fine,\" said Ford, \"look, are you busy?\"\n",
        "\n",
        "THE HITCHHIKER'S GUIDE TO THE GALAXY / 15\n",
        "\"Am I busy?\" exclaimed Arthur. \"Well, I've just got all these bulldozers and things to lie in front of because they'll knock my house down if I don't, but other than that ... well, no not especially, why?\"\n",
        "They don't have sarcasm on Betelgeuse, and Ford Prefect often failed to notice it unless he was concentrating. He said, \"Good, is there anywhere we can talk?\"\n",
        "\"What?\" said Arthur Dent.\n",
        "For a few seconds Ford seemed to ignore him, and stared fixedly into the sky like a rabbit trying to get run over by a car. Then suddenly he squatted down beside Arthur.\n",
        "\"We've got to talk,\" he said urgently. \"Fine,\" said Arthur, \"talk.\"\n",
        "\"And drink,\" said Ford. \"It's vitally important that we talk and drink. Now. We'll go to the pub in the village.\"\n",
        "He looked into the sky again, nervous, expectant.\n",
        "\"Look, don't you understand?\" shouted Arthur. He pointed at Prosser. \"That man wants to knock my house down!\"\n",
        "Ford glanced at him, puzzled.\n",
        "\"Well he can do it while you're away can't he?\" he asked. \"But I don't want him to!\"\n",
        "\"Ah.\"\n",
        "\"Look, what's the matter with you Ford?\" said Arthur.\n",
        "\n",
        "16 / DOUGLAS ADAMS\n",
        "\"Nothing. Nothing's the matter. Listen to me - I've got to tell you the most important thing you've ever heard. I've got to tell you now, and I've got to tell you in the saloon bar of the Horse and Groom.\"\n",
        "\"But why?\"\n",
        "\"Because you are going to need a very stiff drink.\"\n",
        "Ford stared at Arthur, and Arthur was astonished to find that his will was beginning to weaken. He didn't realize that this was because of an old drinking game that Ford learned to play in the hyperspace ports that served the madranite mining belts in the star system of Orion Beta. The game was not unlike the Earth game called Indian Wrestling, and was played like this:\n",
        "Two contestants would sit either side of a table, with a glass in front of each of them.\n",
        "Between them would be placed a bottle of Janx Spirit (as immortalized in that ancient Orion mining song \"Oh don't give me none more of that Old Janx Spirit/ No, don't you give me none more of that Old Janx Spirit/ For my head will fly, my tongue will lie, my eyes will fry and I may die/ Won't you pour me one more of that sinful Old Janx Spirit\").\n",
        "Each of the two contestants would then concentrate their will on the bottle and attempt to tip it and pour spirit into the glass of his opponent - who would then have to drink it.\n",
        "The bottle would then be refilled. The game would be played again. And again.\n",
        "Once you started to lose you would probably keep losing, because one of the effects of Janx spirit is to depress telepsychic power.\n",
        "\n",
        "THE HITCHHIKER'S GUIDE TO THE GALAXY / 17\n",
        "As soon as a predetermined quantity had been consumed, the final loser would have to perform a forfeit, which was usually obscenely biological.\n",
        "Ford Prefect usually played to lose.\n",
        "Ford stared at Arthur, who began to think that perhaps he did want to go to the Horse and Groom after all.\n",
        "\"But what about my house ...?\" he asked plaintively.\n",
        "Ford looked across to Mr Prosser, and suddenly a wicked thought struck him.\n",
        "\"He wants to knock your house down?\"\n",
        "\"Yes, he wants to build ...\"\n",
        "\"And he can't because you're lying in front of the bulldozers?\"\n",
        "\"Yes, and ...\"\n",
        "\"I'm sure we can come to some arrangement,\" said Ford. \"Excuse me!\" he shouted.\n",
        "Mr Prosser (who was arguing with a spokesman for the bulldozer drivers about whether or not Arthur Dent constituted a mental health hazard, and how much they should get paid if he did) looked around. He was surprised and slightly alarmed to find that Arthur had company.\n",
        "\"Yes? Hello?\" he called. \"Has Mr Dent come to his senses yet?\"\n",
        "\"Can we for the moment,\" called Ford, \"assume that he hasn't?\" \"Well?\" sighed Mr Prosser.\n",
        "\n",
        "18 / DOUGLAS ADAMS\n",
        "\"And can we also assume,\" said Ford, \"that he's going to be staying here all day?\"\n",
        "\"So?\"\n",
        "\"So all your men are going to be standing around all day doing nothing?\"\n",
        "\"Could be, could be ...\"\n",
        "\"Well, if you're resigned to doing that anyway, you don't actually need him to lie here all the time do you?\"\n",
        "\"What?\"\n",
        "\"You don't,\" said Ford patiently, \"actually need him here.\" Mr Prosser thought about this.\n",
        "\"Well no, not as such...\", he said, \"not exactly need ...\" Prosser was worried. He thought that one of them wasn't making a lot of sense.\n",
        "Ford said, \"So if you would just like to take it as read that he's actually here, then he and I could slip off down to the pub for half an hour. How does that sound?\"\n",
        "Mr Prosser thought it sounded perfectly potty.\n",
        "\"That sounds perfectly reasonable,\" he said in a reassuring tone of voice, wondering who he was trying to reassure.\n",
        "\"And if you want to pop off for a quick one yourself later on,\" said Ford, \"we can always cover up for you in return.\"\n",
        "\n",
        "THE HITCHHIKER'S GUIDE TO THE GALAXY / 19\n",
        "\"Thank you very much,\" said Mr Prosser who no longer knew how to play this at all, \"thank you very much, yes, that's very kind ...\" He frowned, then smiled, then tried to do both at once, failed, grasped hold of his fur hat and rolled it fitfully round the top of his head. He could only assume that he had just won.\n",
        "\"So,\" continued Ford Prefect, \"if you would just like to come over here and lie down ...\"\n",
        "\"What?\" said Mr Prosser.\n",
        "\"Ah, I'm sorry,\" said Ford, \"perhaps I hadn't made myself fully clear. Somebody's got to lie in front of the bulldozers haven't they? Or there won't be anything to stop them driving into Mr Dent's house will there?\"\n",
        "\"What?\" said Mr Prosser again.\n",
        "\"It's very simple,\" said Ford, \"my client, Mr Dent, says that he will stop lying here in the mud on the sole condition that you come and take over from him.\" \"What are you talking about?\" said Arthur, but Ford nudged him with his shoe to be quiet.\n",
        "\"You want me,\" said Mr Prosser, spelling out this new thought to himself, \"to come and lie there ...\"\n",
        "\"Yes.\"\n",
        "\"In front of the bulldozer?\" \"Yes.\"\n",
        "\"Instead of Mr Dent.\" \"Yes.\"\n",
        "\n",
        "20 / DOUGLAS ADAMS\n",
        "\"In the mud.\"\n",
        "\"In, as you say it, the mud.\"\n",
        "As soon as Mr Prosser realized that he was substantially the loser after all, it was as if a weight lifted itself off his shoulders: this was more like the world as he knew it. He sighed.\n",
        "\"In return for which you will take Mr Dent with you down to the pub?\"\n",
        "\"That's it,\" said Ford. \"That's it exactly.\"\n",
        "Mr Prosser took a few nervous steps forward and stopped. \"Promise?\"\n",
        "\"Promise,\" said Ford. He turned to Arthur.\n",
        "\"Come on,\" he said to him, \"get up and let the man lie down.\" Arthur stood up, feeling as if he was in a dream.\n",
        "Ford beckoned to Prosser who sadly, awkwardly, sat down in the mud. He felt that his whole life was some kind of dream and he sometimes wondered whose it was and whether they were enjoying it. The mud folded itself round his bottom and his arms and oozed into his shoes.\n",
        "Ford looked at him severely.\n",
        "\"And no sneaky knocking down Mr Dent's house whilst he's away, alright?\" he said.\n",
        "\n",
        "THE HITCHHIKER'S GUIDE TO THE GALAXY / 21\n",
        "\"The mere thought,\" growled Mr Prosser, \"hadn't even begun to speculate,\" he continued, settling himself back, \"about the merest possibility of crossing my mind.\"\n",
        "He saw the bulldozer driver's union representative approaching and let his head sink back and closed his eyes. He was trying to marshal his arguments for proving that he did not now constitute a mental health hazard himself. He was far from certain about this - his mind seemed to be full of noise, horses, smoke, and the stench of blood. This always happened when he felt miserable and put upon, and he had never been able to explain it to himself. In a high dimension of which we know nothing the mighty Khan bellowed with rage, but Mr Prosser only trembled slightly and whimpered. He began to fell little pricks of water behind the eyelids. Bureaucratic cock-ups, angry men lying in the mud, indecipherable strangers handing out inexplicable humiliations and an unidentified army of horsemen laughing at him in his head - what a day.\n",
        "What a day. Ford Prefect knew that it didn't matter a pair of dingo's kidneys whether Arthur's house got knocked down or not now.\n",
        "Arthur remained very worried.\n",
        "\"But can we trust him?\" he said.\n",
        "\"Myself I'd trust him to the end of the Earth,\" said Ford. \"Oh yes,\" said Arthur, \"and how far's that?\"\n",
        "\"About twelve minutes away,\" said Ford, \"come on, I need a drink.\"\n",
        "\n",
        "22 / DOUGLAS ADAMS\n",
        "Here's what the Encyclopedia Galactica has to say about alcohol. It says that alcohol is a colourless volatile liquid formed by the fermentation of sugars and also notes its intoxicating effect on certain carbon-based life forms.\n",
        "The Hitch Hiker's Guide to the Galaxy also mentions alcohol. It says that the best drink in existence is the Pan Galactic Gargle Blaster.\n",
        "It says that the effect of a Pan Galactic Gargle Blaster is like having your brains smashed out by a slice of lemon wrapped round a large gold brick.\n",
        "The Guide also tells you on which planets the best Pan Galactic Gargle Blasters are mixed, how much you can expect to pay for one and what voluntary organizations exist to help you rehabilitate afterwards.\n",
        "The Guide even tells you how you can mix one yourself.\n",
        "Take the juice from one bottle of that Ol' Janx Spirit, it says.\n",
        "Pour into it one measure of water from the seas of Santraginus V - Oh that Santraginean sea water, it says. Oh those Santraginean fish!!!\n",
        "Allow three cubes of Arcturan Mega-gin to melt into the mixture (it must be properly iced or the benzine is lost).\n",
        "Allow four litres of Fallian marsh gas to bubble through it, in memory of all those happy Hikers who have died of pleasure in the Marshes of Fallia.\n",
        "\n",
        "THE HITCHHIKER'S GUIDE TO THE GALAXY / 23\n",
        "Over the back of a silver spoon float a measure of Qualactin Hypermint extract, redolent of all the heady odours of the dark Qualactin Zones, subtle sweet and mystic.\n",
        "Drop in the tooth of an Algolian Suntiger. Watch it dissolve, spreading the fires of the Algolian Suns deep into the heart of the drink.\n",
        "Sprinkle Zamphuor.\n",
        "Add an olive.\n",
        "Drink ... but ... very carefully ...\n",
        "The Hitch Hiker's Guide to the Galaxy sells rather better than the Encyclopedia Galactica.\n",
        "\"Six pints of bitter,\" said Ford Prefect to the barman of the Horse and Groom. \"And quickly please, the world's about to end.\"\n",
        "The barman of the Horse and Groom didn't deserve this sort of treatment, he was a dignified old man. He pushed his glasses up his nose and blinked at Ford Prefect. Ford ignored him and stared out of the window, so the barman looked instead at Arthur who shrugged helplessly and said nothing.\n",
        "So the barman said, \"Oh yes sir? Nice weather for it,\" and started pulling pints.\n",
        "He tried again.\n",
        "\"Going to watch the match this afternoon then?\"\n",
        "Ford glanced round at him.\n",
        "\"No, no point,\" he said, and looked back out of the window.\n",
        "\n",
        "24 / DOUGLAS ADAMS\n",
        "\"What's that, foregone conclusion then you reckon sir?\" said the barman. \"Arsenal without a chance?\"\n",
        "\"No, no,\" said Ford, \"it's just that the world's about to end.\"\n",
        "\"Oh yes sir, so you said,\" said the barman, looking over his glasses this time at Arthur. \"Lucky escape for Arsenal if it did.\"\n",
        "Ford looked back at him, genuinely surprised. \"No, not really,\" he said. He frowned.\n",
        "The barman breathed in heavily. \"There you are sir, six pints,\" he said.\n",
        "Arthur smiled at him wanly and shrugged again. He turned and smiled wanly at the rest of the pub just in case any of them had heard what was going on. None of them had, and none of them could understand what he was smiling at them for.\n",
        "A man sitting next to Ford at the bar looked at the two men, looked at the six pints, did a swift burst of mental arithmetic, arrived at an answer he liked and grinned a stupid hopeful grin at them.\n",
        "\"Get off,\" said Ford, \"They're ours,\" giving him a look that would have an Algolian Suntiger get on with what it was doing.\n",
        "Ford slapped a five-pound note on the bar. He said, \"Keep the change.\"\n",
        "\"What, from a fiver? Thank you sir.\" \"You've got ten minutes left to spend it.\"\n",
        "The barman simply decided to walk away for a bit.\n",
        "\n",
        "THE HITCHHIKER'S GUIDE TO THE GALAXY / 25\n",
        "\"Ford,\" said Arthur, \"would you please tell me what the hell is going on?\"\n",
        "\"Drink up,\" said Ford, \"you've got three pints to get through.\"\n",
        "\"Three pints?\" said Arthur. \"At lunchtime?\"\n",
        "The man next to ford grinned and nodded happily. Ford ignored him. He said, \"Time is an illusion. Lunchtime doubly so.\"\n",
        "\"Very deep,\" said Arthur, \"you should send that in to the Reader's Digest. They've got a page for people like you.\"\n",
        "\"Drink up.\"\n",
        "\"Why three pints all of a sudden?\" \"Muscle relaxant, you'll need it.\" \"Muscle relaxant?\"\n",
        "\"Muscle relaxant.\"\n",
        "Arthur stared into his beer.\n",
        "\"Did I do anything wrong today,\" he said, \"or has the world always been like this and I've been too wrapped up in myself to notice?\"\n",
        "\"Alright,\" said Ford, \"I'll try to explain. How long have we known each other?\"\n",
        "\"How long?\" Arthur thought. \"Er, about five years, maybe six,\" he said. \"Most of it seemed to make some sense at the time.\"\n",
        "\n",
        "26 / DOUGLAS ADAMS\n",
        "\"Alright,\" said Ford. \"How would you react if I said that I'm not from Guildford after all, but from a small planet somewhere in the vicinity of Betelgeuse?\" Arthur shrugged in a so-so sort of way.\n",
        "\"I don't know,\" he said, taking a pull of beer. \"Why - do you think it's the sort of thing you're likely to say?\"\n",
        "Ford gave up. It really wasn't worth bothering at the moment, what with the world being about to end. He just said:\n",
        "\"Drink up.\"\n",
        "He added, perfectly factually: \"The world's about to end.\"\n",
        "Arthur gave the rest of the pub another wan smile. The rest of the pub frowned at him. A man waved at him to stop smiling at them and mind his own business.\n",
        "\"This must be Thursday,\" said Arthur musing to himself, sinking low over his beer, \"I never could get the hang of Thursdays.\"\n",
        "\n",
        "THE HITCHHIKER'S GUIDE TO THE GALAXY / 27\n",
        "On this particular Thursday, something was moving quietly through the ionosphere many miles above the surface of the planet; several somethings in fact, several dozen huge yellow chunky slablike somethings, huge as office buildings, silent as birds. They soared with ease, basking in electromagnetic rays from the star Sol, biding their time, grouping, preparing.\n",
        "The planet beneath them was almost perfectly oblivious of their presence, which was just how they wanted it for the moment. The huge yellow somethings went unnoticed at Goonhilly, they passed over Cape Canaveral without a blip, Woomera and Jodrell Bank looked straight through them - which was a pity because it was exactly the sort of thing they'd been looking for all these years.\n",
        "The only place they registered at all was on a small black device called a Sub-Etha Sens-O-Matic which winked away quietly to itself. It nestled in the darkness inside a leather satchel which Ford Prefect wore habitually round his neck. The contents of Ford Prefect's satchel were quite interesting in fact and would have made any Earth physicist's eyes pop out of his head, which is why he always concealed them by keeping a couple of dog- eared scripts for plays he pretended he was auditioning for stuffed in the top. Besides the Sub-Etha Sens-O-Matic and the scripts he had an Electronic Thumb - a short squat black rod, smooth and matt with a couple of flat switches and dials at one end; he also had a device which looked rather like a largish electronic calculator. This had about a hundred tiny flat press buttons and a screen about four inches square on which any one of a million \"pages\" could be summoned at a moment's notice. It looked insanely complicated, and this was one of the reasons why the snug plastic cover it fitted into had the words Don't Panic printed on it in large friendly letters. The other reason was that\n",
        "\n",
        "28 / DOUGLAS ADAMS\n",
        "this device was in fact that most remarkable of all books ever to come out of the great publishing corporations of Ursa Minor - The Hitch Hiker's Guide to the Galaxy. The reason why it was published in the form of a micro sub meson electronic component is that if it were printed in normal book form, an interstellar hitch hiker would require several inconveniently large buildings to carry it around in.\n",
        "Beneath that in Ford Prefect's satchel were a few biros, a notepad, and a largish bath towel from Marks and Spencer.\n",
        "The Hitch Hiker's Guide to the Galaxy has a few things to say on the subject of towels.\n",
        "A towel, it says, is about the most massively useful thing an interstellar hitch hiker can have. Partly it has great practical value - you can wrap it around you for warmth as you bound across the cold moons of Jaglan Beta; you can lie on it on the brilliant marble-sanded beaches of Santraginus V, inhaling the heady sea vapours; you can sleep under it beneath the stars which shine so redly on the desert world of Kakrafoon; use it to sail a mini raft down the slow heavy river Moth; wet it for use in hand-to- hand-combat; wrap it round your head to ward off noxious fumes or to avoid the gaze of the Ravenous Bugblatter Beast of Traal (a mindboggingly stupid animal, it assumes that if you can't see it, it can't see you - daft as a bush, but very ravenous); you can wave your towel in emergencies as a distress signal, and of course dry yourself off with it if it still seems to be clean enough.\n",
        "More importantly, a towel has immense psychological value. For some reason, if a strag (strag: non-hitch hiker) discovers that a hitch hiker has his towel with him, he will automatically assume that he is also in possession of a toothbrush, face flannel, soap, tin\n",
        "\n",
        "THE HITCHHIKER'S GUIDE TO THE GALAXY / 29\n",
        "of biscuits, flask, compass, map, ball of string, gnat spray, wet weather gear, space suit etc., etc. Furthermore, the strag will then happily lend the hitch hiker any of these or a dozen other items that the hitch hiker might accidentally have \"lost\". What the strag will think is that any man who can hitch the length and breadth of the galaxy, rough it, slum it, struggle against terrible odds, win through, and still knows where his towel is is clearly a man to be reckoned with.\n",
        "Hence a phrase which has passed into hitch hiking slang, as in \"Hey, you sass that hoopy Ford Prefect? There's a frood who really knows where his towel is.\" (Sass: know, be aware of, meet, have sex with; hoopy: really together guy; frood: really amazingly together guy.)\n",
        "Nestling quietly on top of the towel in Ford Prefect's satchel, the Sub-Etha Sens-O-Matic began to wink more quickly. Miles above the surface of the planet the huge yellow somethings began to fan out. At Jodrell Bank, someone decided it was time for a nice relaxing cup of tea.\n",
        "\"You got a towel with you?\" said Ford Prefect suddenly to Arthur. Arthur, struggling through his third pint, looked round at him.\n",
        "\"Why? What, no ... should I have?\" He had given up being surprised, there didn't seem to be any point any longer.\n",
        "Ford clicked his tongue in irritation.\n",
        "\"Drink up,\" he urged.\n",
        "At that moment the dull sound of a rumbling crash from outside filtered through the low murmur of the pub, through the sound\n",
        "\n",
        "30 / DOUGLAS ADAMS\n",
        "of the jukebox, through the sound of the man next to Ford hiccupping over the whisky Ford had eventually bought him.\n",
        "Arthur choked on his beer, leapt to his feet.\n",
        "\"What's that?\" he yelped.\n",
        "\"Don't worry,\" said Ford, \"they haven't started yet.\"\n",
        "\"Thank God for that,\" said Arthur and relaxed.\n",
        "\"It's probably just your house being knocked down,\" said Ford, drowning his last pint.\n",
        "\"What?\" shouted Arthur. Suddenly Ford's spell was broken. Arthur looked wildly around him and ran to the window.\n",
        "\"My God they are! They're knocking my house down. What the hell am I doing in the pub, Ford?\"\n",
        "\"It hardly makes any difference at this stage,\" said Ford, \"let them have their fun.\"\n",
        "\"Fun?\" yelped Arthur. \"Fun!\" He quickly checked out of the window again that they were talking about the same thing.\n",
        "\"Damn their fun!\" he hooted and ran out of the pub furiously waving a nearly empty beer glass. He made no friends at all in the pub that lunchtime.\n",
        "\"Stop, you vandals! You home wreckers!\" bawled Arthur. \"You half crazed Visigoths, stop will you!\"\n",
        "Ford would have to go after him. Turning quickly to the barman he asked for four packets of peanuts.\n",
        "\n",
        "THE HITCHHIKER'S GUIDE TO THE GALAXY / 31\n",
        "\"There you are sir,\" said the barman, slapping the packets on the bar, \"twenty-eight pence if you'd be so kind.\"\n",
        "Ford was very kind - he gave the barman another five-pound note and told him to keep the change. The barman looked at it and then looked at Ford. He suddenly shivered: he experienced a momentary sensation that he didn't understand because no one on Earth had ever experienced it before. In moments of great stress, every life form that exists gives out a tiny sublimal signal. This signal simply communicates an exact and almost pathetic sense of how far that being is from the place of his birth. On Earth it is never possible to be further than sixteen thousand miles from your birthplace, which really isn't very far, so such signals are too minute to be noticed. Ford Prefect was at this moment under great stress, and he was born 600 light years away in the near vicinity of Betelgeuse.\n",
        "The barman reeled for a moment, hit by a shocking, incomprehensible sense of distance. He didn't know what it meant, but he looked at Ford Prefect with a new sense of respect, almost awe.\n",
        "\"Are you serious, sir?\" he said in a small whisper which had the effect of silencing the pub. \"You think the world's going to end?\"\n",
        "\"Yes,\" said Ford.\n",
        "\"But, this afternoon?\"\n",
        "Ford had recovered himself. He was at his flippest.\n",
        "\"Yes,\" he said gaily, \"in less than two minutes I would estimate.\"\n",
        "The barman couldn't believe the conversation he was having, but he couldn't believe the sensation he had just had either.\n",
        "\n",
        "32 / DOUGLAS ADAMS\n",
        "\"Isn't there anything we can do about it then?\" he said.\n",
        "\"No, nothing,\" said Ford, stuffing the peanuts into his pockets.\n",
        "Someone in the hushed bar suddenly laughed raucously at how stupid everyone had become.\n",
        "The man sitting next to Ford was a bit sozzled by now. His eyes waved their way up to Ford.\n",
        "\"I thought,\" he said, \"that if the world was going to end we were meant to lie down or put a paper bag over our head or something.\"\n",
        "\"If you like, yes,\" said Ford.\n",
        "\"That's what they told us in the army,\" said the man, and his eyes began the long trek back down to his whisky.\n",
        "\"Will that help?\" asked the barman.\n",
        "\"No,\" said Ford and gave him a friendly smile. \"Excuse me,\" he said, \"I've got to go.\" With a wave, he left.\n",
        "The pub was silent for a moment longer, and then, embarrassingly enough, the man with the raucous laugh did it again. The girl he had dragged along to the pub with him had grown to loathe him dearly over the last hour or so, and it would probably have been a great satisfaction to her to know that in a minute and a half or so he would suddenly evaporate into a whiff of hydrogen, ozone and carbon monoxide. However, when the moment came she would be too busy evaporating herself to notice it.\n",
        "The barman cleared his throat. He heard himself say:\n",
        "\n",
        "THE HITCHHIKER'S GUIDE TO THE GALAXY / 33\n",
        "\"Last orders, please.\" The huge yellow machines began to sink downward and to move faster.\n",
        "Ford knew they were there. This wasn't the way he had wanted it.\n",
        "Running up the lane, Arthur had nearly reached his house. He didn't notice how cold it had suddenly become, he didn't notice the wind, he didn't notice the sudden irrational squall of rain. He didn't notice anything but the caterpillar bulldozers crawling over the rubble that had been his home.\n",
        "\"You barbarians!\" he yelled. \"I'll sue the council for every penny it's got! I'll have you hung, drawn and quartered! And whipped! And boiled ... until ... until ... until you've had enough.\"\n",
        "Ford was running after him very fast. Very very fast.\n",
        "\"And then I'll do it again!\" yelled Arthur. \"And when I've finished I will take all the little bits, and I will jump on them!\"\n",
        "Arthur didn't notice that the men were running from the bulldozers; he didn't notice that Mr Prosser was staring hectically into the sky. What Mr Prosser had noticed was that huge yellow somethings were screaming through the clouds. Impossibly huge yellow somethings.\n",
        "\"And I will carry on jumping on them,\" yelled Arthur, still running, \"until I get blisters, or I can think of anything even more unpleasant to do, and then ...\"\n",
        "Arthur tripped, and fell headlong, rolled and landed flat on his back. At last he noticed that something was going on. His finger shot upwards.\n",
        "\n",
        "34 / DOUGLAS ADAMS \"What the hell's that?\" he shrieked.\n",
        "Whatever it was raced across the sky in monstrous yellowness, tore the sky apart with mind-buggering noise and leapt off into the distance leaving the gaping air to shut behind it with a bang that drove your ears six feet into your skull.\n",
        "Another one followed and did the same thing only louder.\n",
        "It's difficult to say exactly what the people on the surface of the planet were doing now, because they didn't really know what they were doing themselves. None of it made a lot of sense - running into houses, running out of houses, howling noiselessly at the noise. All around the world city streets exploded with people, cars slewed into each other as the noise fell on them and then rolled off like a tidal wave over hills and valleys, deserts and oceans, seeming to flatten everything it hit.\n",
        "Only one man stood and watched the sky, stood with terrible sadness in his eyes and rubber bungs in his ears. He knew exactly what was happening and had known ever since his Sub- Etha Sens-O- Matic had started winking in the dead of night beside his pillar and woken him with a start. It was what he had waited for all these years, but when he had deciphered the signal pattern sitting alone in his small dark room a coldness had gripped him and squeezed his heart. Of all the races in all of the Galaxy who could have come and said a big hello to planet Earth, he thought, didn't it just have to be the Vogons.\n",
        "Still he knew what he had to do. As the Vogon craft screamed through the air high above him he opened his satchel. He threw away a copy of Joseph and the Amazing Technicolor Dreamcoat, he threw away a copy of Godspell: He wouldn't need them where he was going. Everything was ready, everything was prepared.\n",
        "\n",
        "THE HITCHHIKER'S GUIDE TO THE GALAXY / 35 He knew where his towel was.\n",
        "A sudden silence hit the Earth. If anything it was worse than the noise. For a while nothing happened.\n",
        "The great ships hung motionless in the air, over every nation on Earth. Motionless they hung, huge, heavy, steady in the sky, a blasphemy against nature. Many people went straight into shock as their minds tried to encompass what they were looking at. The ships hung in the sky in much the same way that bricks don't.\n",
        "And still nothing happened.\n",
        "Then there was a slight whisper, a sudden spacious whisper of open ambient sound. Every hi fi set in the world, every radio, every television, every cassette recorder, every woofer, every tweeter, every mid-range driver in the world quietly turned itself on.\n",
        "Every tin can, every dust bin, every window, every car, every wine glass, every sheet of rusty metal became activated as an acoustically perfect sounding board.\n",
        "Before the Earth passed away it was going to be treated to the very ultimate in sound reproduction, the greatest public address system ever built. But there was no concert, no music, no fanfare, just a simple message.\n",
        "\"People of Earth, your attention please,\" a voice said, and it was wonderful. Wonderful perfect quadrophonic sound with distortion levels so low as to make a brave man weep.\n",
        "\"This is Prostetnic Vogon Jeltz of the Galactic Hyperspace Planning Council,\" the voice continued. \"As you will no doubt be\n",
        "\n",
        "36 / DOUGLAS ADAMS\n",
        "aware, the plans for development of the outlying regions of the Galaxy require the building of a hyperspatial express route through your star system, and regrettably your planet is one of those scheduled for demolition. The process will take slightly less that two of your Earth minutes. Thank you.\"\n",
        "The PA died away.\n",
        "Uncomprehending terror settled on the watching people of Earth. The terror moved slowly through the gathered crowds as if they were iron fillings on a sheet of board and a magnet was moving beneath them. Panic sprouted again, desperate fleeing panic, but there was nowhere to flee to. Observing this, the Vogons turned on their PA again. It said:\n",
        "\"There's no point in acting all surprised about it. All the planning charts and demolition orders have been on display in your local planning department on Alpha Centauri for fifty of your Earth years, so you've had plenty of time to lodge any formal complaint and it's far too late to start making a fuss about it now.\"\n",
        "The PA fell silent again and its echo drifted off across the land. The huge ships turned slowly in the sky with easy power. On the underside of each a hatchway opened, an empty black space.\n",
        "By this time somebody somewhere must have manned a radio transmitter, located a wavelength and broadcasted a message back to the Vogon ships, to plead on behalf of the planet. Nobody ever heard what they said, they only heard the reply. The PA slammed back into life again. The voice was annoyed. It said:\n",
        "\n",
        "THE HITCHHIKER'S GUIDE TO THE GALAXY / 37\n",
        "\"What do you mean you've never been to Alpha Centauri? For heaven's sake mankind, it's only four light years away you know. I'm sorry, but if you can't be bothered to take an interest in local affairs that's your own lookout.\n",
        "\"Energize the demolition beams.\" Light poured out into the hatchways.\n",
        "\"I don't know,\" said the voice on the PA, \"apathetic bloody planet, I've no sympathy at all.\" It cut off.\n",
        "There was a terrible ghastly silence. There was a terrible ghastly noise. There was a terrible ghastly silence.\n",
        "The Vogon Constructor fleet coasted away into the inky starry void.\n",
        "\n",
        "38 / DOUGLAS ADAMS\n",
        "Far away on the opposite spiral arm of the Galaxy, five hundred thousand light years from the star Sol, Zaphod Beeblebrox, President of the Imperial Galactic Government, sped across the seas of Damogran, his ion drive delta boat winking and flashing in the Damogran sun.\n",
        "Damogran the hot; Damogran the remote; Damogran the almost totally unheard of.\n",
        "Damogran, secret home of the Heart of Gold.\n",
        "The boat sped on across the water. It would be some time before it reached its destination because Damogran is such an inconveniently arranged planet. It consists of nothing but middling to large desert islands separated by very pretty but annoyingly wide stretches of ocean.\n",
        "The boat sped on.\n",
        "Because of this topological awkwardness Damogran has always remained a deserted planet. This is why the Imperial Galactic Government chose Damogran for the Heart of Gold project, because it was so deserted and the Heart of Gold was so secret.\n",
        "The boat zipped and skipped across the sea, the sea that lay between the main islands of the only archipelago of any useful size on the whole planet. Zaphod Beeblebrox was on his way from the tiny spaceport on Easter Island (the name was an entirely meaningless coincidence - in Galacticspeke, easter means small flat and light brown) to the Heart of Gold island, which by another meaningless coincidence was called France.\n",
        "One of the side effects of work on the Heart of Gold was a whole string of pretty meaningless coincidences.\n",
        "\n",
        "THE HITCHHIKER'S GUIDE TO THE GALAXY / 39\n",
        "But it was not in any way a coincidence that today, the day of culmination of the project, the great day of unveiling, the day that the Heart of Gold was finally to be introduced to a marvelling Galaxy, was also a great day of culmination for Zaphod Beeblebrox. It was for the sake of this day that he had first decided to run for the Presidency, a decision which had sent waves of astonishment throughout the Imperial Galaxy - Zaphod Beeblebrox? President? Not the Zaphod Beeblebrox? Not the President? Many had seen it as a clinching proof that the whole of known creation had finally gone bananas.\n",
        "Zaphod grinned and gave the boat an extra kick of speed.\n",
        "Zaphod Beeblebrox, adventurer, ex-hippy, good timer, (crook? quite possibly), manic self-publicist, terribly bad at personal relationships, often thought to be completely out to lunch.\n",
        "President?\n",
        "No one had gone bananas, not in that way at least.\n",
        "Only six people in the entire Galaxy understood the principle on which the Galaxy was governed, and they knew that once Zaphod Beeblebrox had announced his intention to run as President it was more or less a fait accompli: he was the ideal Presidency fodder*.\n",
        "What they completely failed to understand was why Zaphod was doing it.\n",
        "He banked sharply, shooting a wild wall of water at the sun.\n",
        "Today was the day; today was the day when they would realize what Zaphod had been up to. Today was what Zaphod Beeblebrox's Presidency was all about. Today was also his two\n",
        "\n",
        "40 / DOUGLAS ADAMS\n",
        "hundredth birthday, but that was just another meaningless coincidence.\n",
        "As he skipped his boat across the seas of Damogran he smiled quietly to himself about what a wonderful exciting day it was going to be. He relaxed and spread his two arms lazily across the seat back. He steered with an extra arm he'd recently fitted just beneath his right one to help improve his ski-boxing.\n",
        "\"Hey,\" he cooed to himself, \"you're a real cool boy you.\" But his nerves sang a song shriller than a dog whistle.\n",
        "The island of France was about twenty miles long, five miles across the middle, sandy and crescent shaped. In fact it seemed to exist not so much as an island in its own right as simply a means of defining the sweep and curve of a huge bay. This impression was heightened by the fact that the inner coastline of the crescent consisted almost entirely of steep cliffs. From the top of the cliff the land sloped slowly down five miles to the opposite shore.\n",
        "On top of the cliffs stood a reception committee.\n",
        "It consisted in large part of the engineers and researchers who had built the Heart of Gold - mostly humanoid, but here and there were a few reptiloid atomineers, two or three green slyph- like maximegalacticans, an octopoid physucturalist or two and a Hooloovoo (a Hooloovoo is a super-intelligent shade of the color blue). All except the Hooloovoo were resplendent in their multi- colored ceremonial lab coats; the Hooloovoo had been temporarily refracted into a free standing prism for the occasion.\n",
        "There was a mood of immense excitement thrilling through all of them. Together and between them they had gone to and beyond\n",
        "\n",
        "THE HITCHHIKER'S GUIDE TO THE GALAXY / 41\n",
        "the furthest limits of physical laws, restructured the fundamental fabric of matter, strained, twisted and broken the laws of possibility and impossibility, but still the greatest excitement of all seemed to be to meet a man with an orange sash round his neck. (An orange sash was what the President of the Galaxy traditionally wore.) It might not even have made much difference to them if they'd known exactly how much power the President of the Galaxy actually wielded: none at all. Only six people in the Galaxy knew that the job of the Galactic President was not to wield power but to attract attention away from it.\n",
        "Zaphod Beeblebrox was amazingly good at his job.\n",
        "The crowd gasped, dazzled by sun and seemanship, as the Presidential speedboat zipped round the headland into the bay. It flashed and shone as it came skating over the sea in wide skidding turns.\n",
        "In fact it didn't need to touch the water at all, because it was supported on a hazy cushion of ionized atoms - but just for effect it was fitted with thin finblades which could be lowered into the water. They slashed sheets of water hissing into the air, carved deep gashes into the sea which swayed crazily and sank back foaming into the boat's wake as it careered across the bay.\n",
        "Zaphod loved effect: it was what he was best at.\n",
        "He twisted the wheel sharply, the boat slewed round in a wild scything skid beneath the cliff face and dropped to rest lightly on the rocking waves.\n",
        "Within seconds he ran out onto the deck and waved and grinned at over three billion people. The three billion people weren't actually there, but they watched his every gesture through the\n",
        "\n",
        "42 / DOUGLAS ADAMS\n",
        "eyes of a small robot tri-D camera which hovered obsequiously in the air nearby. The antics of the President always made amazingly popular tri-D; that's what they were for.\n",
        "He grinned again. Three billion and six people didn't know it, but today would be a bigger antic than anyone had bargained for.\n",
        "The robot camera homed in for a close up on the more popular of his two heads and he waved again. He was roughly humanoid in appearance except for the extra head and third arm. His fair tousled hair stuck out in random directions, his blue eyes glinted with something completely unidentifiable, and his chins were almost always unshaven.\n",
        "A twenty-foot-high transparent globe floated next to his boat, rolling and bobbing, glistening in the brilliant sun. Inside it floated a wide semi-circular sofa upholstered in glorious red leather: the more the globe bobbed and rolled, the more the sofa stayed perfectly still, steady as an upholstered rock. Again, all done for effect as much as anything.\n",
        "Zaphod stepped through the wall of the globe and relaxed on the sofa. He spread his two arms lazily along the back and with the third brushed some dust off his knee. His heads looked about, smiling; he put his feet up. At any moment, he thought, he might scream.\n",
        "Water boiled up beneath the bubble, it seethed and spouted. The bubble surged into the air, bobbing and rolling on the water spout. Up, up it climbed, throwing stilts of light at the cliff. Up it surged on the jet, the water falling from beneath it, crashing back into the sea hundreds of feet below.\n",
        "\n",
        "THE HITCHHIKER'S GUIDE TO THE GALAXY / 43 Zaphod smiled, picturing himself.\n",
        "A thoroughly ridiculous form of transport, but a thoroughly beautiful one.\n",
        "At the top of the cliff the globe wavered for a moment, tipped on to a railed ramp, rolled down it to a small concave platform and riddled to a halt.\n",
        "To tremendous applause Zaphod Beeblebrox stepped out of the bubble, his orange sash blazing in the light.\n",
        "The President of the Galaxy had arrived.\n",
        "He waited for the applause to die down, then raised his hands in greeting.\n",
        "\"Hi,\" he said.\n",
        "A government spider sidled up to him and attempted to press a copy of his prepared speech into his hands. Pages three to seven of the original version were at the moment floating soggily on the Damogran sea some five miles out from the bay. Pages one and two had been salvaged by a Damogran Frond Crested Eagle and had already become incorporated into an extraordinary new form of nest which the eagle had invented. It was constructed largely of papier m@ch@ and it was virtually impossible for a newly hatched baby eagle to break out of it. The Damogran Frond Crested Eagle had heard of the notion of survival of the species but wanted no truck with it.\n",
        "Zaphod Beeblebrox would not be needing his set speech and he gently deflected the one being offered him by the spider.\n",
        "\"Hi,\" he said again.\n",
        "\n",
        "44 / DOUGLAS ADAMS\n",
        "Everyone beamed at him, or, at least, nearly everyone. He singled out Trillian from the crowd. Trillian was a gird that Zaphod had picked up recently whilst visiting a planet, just for fun, incognito. She was slim, darkish, humanoid, with long waves of black hair, a full mouth, an odd little nob of a nose and ridiculously brown eyes. With her red head scarf knotted in that particular way and her long flowing silky brown dress she looked vaguely Arabic. Not that anyone there had ever heard of an Arab of course. The Arabs had very recently ceased to exist, and even when they had existed they were five hundred thousand light years from Damogran. Trillian wasn't anybody in particular, or so Zaphod claimed. She just went around with him rather a lot and told him what she thought of him.\n",
        "\"Hi honey,\" he said to her.\n",
        "She flashed him a quick tight smile and looked away. Then she looked back for a moment and smiled more warmly - but by this time he was looking at something else.\n",
        "\"Hi,\" he said to a small knot of creatures from the press who were standing nearby wishing that he would stop saying Hi and get on with the quotes. He grinned at them particularly because he knew that in a few moments he would be giving them one hell of a quote.\n",
        "The next thing he said though was not a lot of use to them. One of the officials of the party had irritably decided that the President was clearly not in a mood to read the deliciously turned speech that had been written for him, and had flipped the switch on the remote control device in his pocket. Away in front of them a huge white dome that bulged against the sky cracked down in the middle, split, and slowly folded itself down into the\n",
        "\n",
        "THE HITCHHIKER'S GUIDE TO THE GALAXY / 45\n",
        "ground. Everyone gasped although they had known perfectly well it was going to do that because they had built it that way.\n",
        "Beneath it lay uncovered a huge starship, one hundred and fifty metres long, shaped like a sleek running shoe, perfectly white and mindboggingly beautiful. At the heart of it, unseen, lay a small gold box which carried within it the most brain-wretching device ever conceived, a device which made this starship unique in the history of the galaxy, a device after which the ship had been named - The Heart of Gold. \"Wow\", said Zaphod Beeblebrox to the Heart of Gold. There wasn't much else he could say.\n",
        "He said it again because he knew it would annoy the press.\n",
        "\"Wow.\"\n",
        "The crowd turned their faces back towards him expectantly. He winked at Trillian who raised her eyebrows and widened her eyes at him. She knew what he was about to say and thought him a terrible showoff.\n",
        "\"That is really amazing,\" he said. \"That really is truly amazing. That is so amazingly amazing I think I'd like to steal it.\"\n",
        "A marvellous Presidential quote, absolutely true to form. The crowd laughed appreciatively, the newsmen gleefully punched buttons on their Sub-Etha News-Matics and the President grinned.\n",
        "As he grinned his heart screamed unbearably and he fingered the small Paralyso-Matic bomb that nestled quietly in his pocket.\n",
        "Finally he could bear it no more. He lifted his heads up to the sky, let out a wild whoop in major thirds, threw the bomb to the\n",
        "\n",
        "46 / DOUGLAS ADAMS\n",
        "ground and ran forward through the sea of suddenly frozen smiles.\n",
        "\n",
        "THE HITCHHIKER'S GUIDE TO THE GALAXY / 47\n",
        "Prostetnic Vogon Jeltz was not a pleasant sight, even for other Vogons. His highly domed nose rose high above a small piggy forehead. His dark green rubbery skin was thick enough for him to play the game of Vogon Civil Service politics, and play it well, and waterproof enough for him to survive indefinitely at sea depths of up to a thousand feet with no ill effects.\n",
        "Not that he ever went swimming of course. His busy schedule would not allow it. He was the way he was because billions of years ago when the Vogons had first crawled out of the sluggish primeval seas of Vogsphere, and had lain panting and heaving on the planet's virgin shores... when the first rays of the bright young Vogsol sun had shone across them that morning, it was as if the forces of evolution ad simply given up on them there and then, had turned aside in disgust and written them off as an ugly and unfortunate mistake. They never evolved again; they should never have survived.\n",
        "The fact that they did is some kind of tribute to the thick- willed slug-brained stubbornness of these creatures. Evolution? they said to themselves, Who needs it?, and what nature refused to do for them they simply did without until such time as they were able to rectify the grosser anatomical inconveniences with surgery.\n",
        "Meanwhile, the natural forces on the planet Vogsphere had been working overtime to make up for their earlier blunder. They brought forth scintillating jewelled scuttling crabs, which the Vogons ate, smashing their shells with iron mallets; tall aspiring trees with breathtaking slenderness and colour which the Vogons cut down and burned the crab meat with; elegant gazelle- like creatures with silken coats and dewy eyes which the Vogons would catch and sit on. They were no use as transport because\n",
        "\n",
        "48 / DOUGLAS ADAMS\n",
        "their backs would snap instantly, but the Vogons sat on them anyway.\n",
        "Thus the planet Vogsphere whiled away the unhappy millennia until the Vogons suddenly discovered the principles of interstellar travel. Within a few short Vog years every last Vogon had migrated to the Megabrantis cluster, the political hub of the Galaxy and now formed the immensely powerful backbone of the Galactic Civil Service. They have attempted to acquire learning, they have attempted to acquire style and social grace, but in most respects the modern Vogon is little different from his primitive forebears. Every year they import twenty-seven thousand scintillating jewelled scuttling crabs from their native planet and while away a happy drunken night smashing them to bits with iron mallets.\n",
        "Prostetnic Vogon Jeltz was a fairly typical Vogon in that he was thoroughly vile. Also, he did not like hitch hikers.\n",
        "Somewhere in a small dark cabin buried deep in the intestines of Prostetnic Vogon Jeltz's flagship, a small match flared nervously. The owner of the match was not a Vogon, but he knew all about them and was right to be nervous. His name was Ford Prefect*.\n",
        "He looked about the cabin but could see very little; strange monstrous shadows loomed and leaped with the tiny flickering flame, but all was quiet. He breathed a silent thank you to the Dentrassis. The Dentrassis are an unruly tribe of gourmands, a wild but pleasant bunch whom the Vogons had recently taken to employing as catering staff on their long haul fleets, on the strict understanding that they keep themselves very much to themselves.\n",
        "\n",
        "THE HITCHHIKER'S GUIDE TO THE GALAXY / 49\n",
        "This suited the Dentrassis fine, because they loved Vogon money, which is one of the hardest currencies in space, but loathed the Vogons themselves. The only sort of Vogon a Dentrassi liked to see was an annoyed Vogon.\n",
        "It was because of this tiny piece of information that Ford Prefect was not now a whiff of hydrogen, ozone and carbon monoxide.\n",
        "He heard a slight groan. By the light of the match he saw a heavy shape moving slightly on the floor. Quickly he shook the match out, reached in his pocket, found what he was looking for and took it out. He crouched on the floor. The shape moved again.\n",
        "Ford Prefect said: \"I bought some peanuts.\"\n",
        "Arthur Dent moved, and groaned again, muttering incoherently.\n",
        "\"Here, have some,\" urged Ford, shaking the packet again, \"if you've never been through a matter transference beam before you've probably lost some salt and protein. The beer you had should have cushioned your system a bit.\" \"Whhhrrrr...\" said Arthur Dent. He opened his eyes.\n",
        "\"It's dark,\" he said.\n",
        "\"Yes,\" said Ford Prefect, \"it's dark.\"\n",
        "\"No light,\" said Arthur Dent. \"Dark, no light.\"\n",
        "One of the things Ford Prefect had always found hardest to understand about human beings was their habit of continually stating and repeating the obvious, as in It's a nice day, or You're very tall, or Oh dear you seem to have fallen down a thirty-foot well, are you alright? At first Ford had formed a theory to\n",
        "\n",
        "50 / DOUGLAS ADAMS\n",
        "account for this strange behaviour. If human beings don't keep exercising their lips, he thought, their mouths probably seize up. After a few months' consideration and observation he abandoned this theory in favour of a new one. If they don't keep on exercising their lips, he thought, their brains start working. After a while he abandoned this one as well as being obstructively cynical and decided he quite liked human beings after all, but he always remained desperately worried about the terrible number of things they didn't know about.\n",
        "\"Yes,\" he agreed with Arthur, \"no light.\" He helped Arthur to some peanuts. \"How do you feel?\" he asked.\n",
        "\"Like a military academy,\" said Arthur, \"bits of me keep on passing out.\"\n",
        "Ford stared at him blankly in the darkness.\n",
        "\"If I asked you where the hell we were,\" said Arthur weakly, \"would I regret it?\"\n",
        "Ford stood up. \"We're safe,\" he said. \"Oh good,\" said Arthur.\n",
        "\"We're in a small galley cabin,\" said Ford, \"in one of the spaceships of the Vogon Constructor Fleet.\"\n",
        "\"Ah,\" said Arthur, \"this is obviously some strange usage of the word safe that I wasn't previously aware of.\"\n",
        "Ford struck another match to help him search for a light switch. Monstrous shadows leaped and loomed again. Arthur struggled to his feet and hugged himself apprehensively. Hideous alien shapes seemed to throng about him, the air was thick with musty\n",
        "\n",
        "THE HITCHHIKER'S GUIDE TO THE GALAXY / 51\n",
        "smells which sidled into his lungs without identifying themselves, and a low irritating hum kept his brain from focusing.\n",
        "\"How did we get here?\" he asked, shivering slightly.\n",
        "\"We hitched a lift,\" said Ford.\n",
        "\"Excuse me?\" said Arthur. \"Are you trying to tell me that we just stuck out our thumbs and some green bug-eyed monster stuck his head out and said, Hi fellas, hop right in. I can take you as far as the Basingstoke roundabout?\"\n",
        "\"Well,\" said Ford, \"the Thumb's an electronic sub-etha signalling device, the roundabout's at Barnard's Star six light years away, but otherwise, that's more or less right.\"\n",
        "\"And the bug-eyed monster?\"\n",
        "\"Is green, yes.\"\n",
        "\"Fine,\" said Arthur, \"when can I get home?\"\n",
        "\"You can't,\" said Ford Prefect, and found the light switch.\n",
        "\"Shade your eyes ...\" he said, and turned it on.\n",
        "Even Ford was surprised.\n",
        "\"Good grief,\" said Arthur, \"is this really the interior of a flying saucer?\"\n",
        "Prostetnic Vogon Jeltz heaved his unpleasant green body round the control bridge. He always felt vaguely irritable after demolishing populated planets. He wished that someone would come and tell him that it was all wrong so that he could shout at them and feel better. He flopped as heavily as he could on to his\n",
        "\n",
        "52 / DOUGLAS ADAMS\n",
        "control seat in the hope that it would break and give him something to be genuinely angry about, but it only gave a complaining sort of creak.\n",
        "\"Go away!\" he shouted at a young Vogon guard who entered the bridge at that moment. The guard vanished immediately, feeling rather relieved. He was glad it wouldn't now be him who delivered the report they'd just received. The report was an official release which said that a wonderful new form of spaceship drive was at this moment being unveiled at a government research base on Damogran which would henceforth make all hyperspatial express routes unnecessary.\n",
        "Another door slid open, but this time the Vogon captain didn't shout because it was the door from the galley quarters where the Dentrassis prepared his meals. A meal would be most welcome.\n",
        "A huge furry creature bounded through the door with his lunch tray. It was grinning like a maniac.\n",
        "Prostetnic Vogon Jeltz was delighted. He knew that when a Dentrassi looked that pleased with itself there was something going on somewhere on the ship that he could get very angry indeed about.\n",
        "Ford and Arthur stared about them. \"Well, what do you think?\" said Ford. \"It's a bit squalid, isn't it?\"\n",
        "Ford frowned at the grubby mattress, unwashed cups and unidentifiable bits of smelly alien underwear that lay around the cramped cabin.\n",
        "\n",
        "THE HITCHHIKER'S GUIDE TO THE GALAXY / 53\n",
        "\"Well, this is a working ship, you see,\" said Ford. \"These are the Dentrassi sleeping quarters.\"\n",
        "\"I thought you said they were called Vogons or something.\"\n",
        "\"Yes,\" said Ford, \"the Vogons run the ship, the Dentrassis are the cooks, they let us on board.\"\n",
        "\"I'm confused,\" said Arthur.\n",
        "\"Here, have a look at this,\" said Ford. He sat down on one of the mattresses and rummaged about in his satchel. Arthur prodded the mattress nervously and then sat on it himself: in fact he had very little to be nervous about, because all mattresses grown in the swamps of Squornshellous Zeta are very thoroughly killed and dried before being put to service. Very few have ever come to life again.\n",
        "Ford handed the book to Arthur.\n",
        "\"What is it?\" asked Arthur.\n",
        "\"The Hitchhiker's Guide to the Galaxy. It's a sort of electronic book. It tells you everything you need to know about anything. That's its job.\"\n",
        "Arthur turned it over nervously in his hands.\n",
        "\"I like the cover,\" he said. \"Don't Panic. It's the first helpful or intelligible thing anybody's said to me all day.\"\n",
        "\"I'll show you how it works,\" said Ford. He snatched it from Arthur who was still holding it as if it was a two-week-dead lark and pulled it out of its cover.\n",
        "\n",
        "54 / DOUGLAS ADAMS\n",
        "\"You press this button here you see and the screen lights up giving you the index.\"\n",
        "A screen, about three inches by four, lit up and characters began to flicker across the surface.\n",
        "\"You want to know about Vogons, so I enter that name so.\" His fingers tapped some more keys. \"And there we are.\"\n",
        "The words Vogon Constructor Fleets flared in green across the screen.\n",
        "Ford pressed a large red button at the bottom of the screen and words began to undulate across it. At the same time, the book began to speak the entry as well in a still quiet measured voice. This is what the book said.\n",
        "\"Vogon Constructor Fleets. Here is what to do if you want to get a lift from a Vogon: forget it. They are one of the most unpleasant races in the Galaxy -- not actually evil, but bad tempered, bureaucratic, officious and callous. They wouldn't even lift a finger to save their own grandmothers from the Ravenous Bugblatter Beast of Traal without orders signed in triplicate, sent in, sent back, queried, lost, found, subjected to public inquiry, lost again, and finally buried in soft peat and recycled as firelighters.\n",
        "\"The best way to get a drink out of a Vogon is to stick your finger down his throat, and the best way to irritate him is to feed his grandmother to the Ravenous Bugblatter Beast of Traal.\n",
        "\"On no account allow a Vogon to read poetry at you.\" Arthur blinked at it.\n",
        "\n",
        "THE HITCHHIKER'S GUIDE TO THE GALAXY / 55 \"What a strange book. How did we get a lift then?\"\n",
        "\"That's the point, it's out of date now,\" said Ford, sliding the book back into its cover. \"I'm doing the field research for the New Revised Edition, and one of the things I'll have to include is a bit about how the Vogons now employ Dentrassi cooks which gives us a rather useful little loophole.\"\n",
        "A pained expression crossed Arthur's face. \"But who are the Dentrassi?\" he said.\n",
        "\"Great guys,\" said Ford. \"They're the best cooks and the best drink mixers and they don't give a wet slap about anything else. And they'll always help hitch hikers aboard, partly because they like the company, but mostly because it annoys the Vogons. Which is exactly the sort of thing you need to know if you're an impoverished hitch hiker trying to see the marvels of the Universe for less than thirty Altairan Dollars a day. And that's my job. Fun, isn't it?\"\n",
        "Arthur looked lost.\n",
        "\"It's amazing,\" he said and frowned at one of the other mattresses.\n",
        "\"Unfortunately I got stuck on the Earth for rather longer than I intended,\" said Ford. \"I came for a week and got stuck for fifteen years.\"\n",
        "\"But how did you get there in the first place then?\" \"Easy, I got a lift with a teaser.\"\n",
        "\"A teaser?\"\n",
        "\n",
        "56 / DOUGLAS ADAMS\n",
        "\"Yeah.\"\n",
        "\"Er, what is ...\"\n",
        "\"A teaser? Teasers are usually rich kids with nothing to do. They cruise around looking for planets which haven't made interstellar contact yet and buzz them.\"\n",
        "\"Buzz them?\" Arthur began to feel that Ford was enjoying making life difficult for him. \"Yeah\", said Ford, \"they buzz them. They find some isolated spot with very few people around, then land right by some poor soul whom no one's ever going to believe and then strut up and down in front of him wearing silly antennae on their heads and making beep beep noises. Rather childish really.\" Ford leant back on the mattress with his hands behind his head and looked infuriatingly pleased with himself.\n",
        "\"Ford,\" insisted Arthur, \"I don't know if this sounds like a silly question, but what am I doing here?\"\n",
        "\"Well you know that,\" said Ford. \"I rescued you from the Earth.\" \"And what's happened to the Earth?\"\n",
        "\"Ah. It's been demolished.\"\n",
        "\"Has it,\" said Arthur levelly.\n",
        "\"Yes. It just boiled away into space.\"\n",
        "\"Look,\" said Arthur, \"I'm a bit upset about that.\"\n",
        "Ford frowned to himself and seemed to roll the thought around his mind.\n",
        "\"Yes, I can understand that,\" he said at last.\n",
        "\n",
        "THE HITCHHIKER'S GUIDE TO THE GALAXY / 57 \"Understand that!\" shouted Arthur. \"Understand that!\"\n",
        "Ford sprang up.\n",
        "\"Keep looking at the book!\" he hissed urgently.\n",
        "\"What?\"\n",
        "\"Don't Panic.\"\n",
        "\"I'm not panicking!\"\n",
        "\"Yes you are.\"\n",
        "\"Alright so I'm panicking, what else is there to do?\"\n",
        "\"You just come along with me and have a good time. The Galaxy's a fun place. You'll need to have this fish in your ear.\"\n",
        "\"I beg your pardon?\" asked Arthur, rather politely he thought.\n",
        "Ford was holding up a small glass jar which quite clearly had a small yellow fish wriggling around in it. Arthur blinked at him. He wished there was something simple and recognizable he could grasp hold of. He would have felt safe if alongside the Dentrassi underwear, the piles of Squornshellous mattresses and the man from Betelgeuse holding up a small yellow fish and offering to put it in his ear he had been able to see just a small packet of corn flakes. He couldn't, and he didn't feel safe.\n",
        "Suddenly a violent noise leapt at them from no source that he could identify. He gasped in terror at what sounded like a man trying to gargle whilst fighting off a pack of wolves.\n",
        "\"Shush!\" said Ford. \"Listen, it might be important.\"\n",
        "\n",
        "58 / DOUGLAS ADAMS\n",
        "\"Im ... important?\"\n",
        "\"It's the Vogon captain making an announcement on the T'annoy.\"\n",
        "\"You mean that's how the Vogons talk?\"\n",
        "\"Listen!\"\n",
        "\"But I can't speak Vogon!\"\n",
        "\"You don't need to. Just put that fish in your ear.\"\n",
        "Ford, with a lightning movement, clapped his hand to Arthur's ear, and he had the sudden sickening sensation of the fish slithering deep into his aural tract. Gasping with horror he scrabbled at his ear for a second or so, but then slowly turned goggle-eyed with wonder. He was experiencing the aural equivalent of looking at a picture of two black silhouetted faces and suddenly seeing it as a picture of a white candlestick. Or of looking at a lot of coloured dots on a piece of paper which suddenly resolve themselves into the figure six and mean that your optician is going to charge you a lot of money for a new pair of glasses.\n",
        "He was still listening to the howling gargles, he knew that, only now it had taken on the semblance of perfectly straightforward English.\n",
        "This is what he heard ...\n",
        "\n",
        "THE HITCHHIKER'S GUIDE TO THE GALAXY / 59\n",
        "\"Howl howl gargle howl gargle howl howl howl gargle howl gargle howl howl gargle gargle howl gargle gargle gargle howl slurrp uuuurgh should have a good time. Message repeats. This is your captain speaking, so stop whatever you're doing and pay attention. First of all I see from our instruments that we have a couple of hitchhikers aboard. Hello wherever you are. I just want to make it totally clear that you are not at all welcome. I worked hard to get where I am today, and I didn't become captain of a Vogon constructor ship simply so I could turn it into a taxi service for a load of degenerate freeloaders. I have sent out a search party, and as soon that they find you I will put you off the ship. If you're very lucky I might read you some of my poetry first.\n",
        "\"Secondly, we are about to jump into hyperspace for the journey to Barnard's Star. On arrival we will stay in dock for a seventy- two hour refit, and no one's to leave the ship during that time. I repeat, all planet leave is cancelled. I've just had an unhappy love affair, so I don't see why anybody else should have a good time. Message ends.\" The noise stopped.\n",
        "Arthur discovered to his embarrassment that he was lying curled up in a small ball on the floor with his arms wrapped round his head. He smiled weakly.\n",
        "\"Charming man,\" he said. \"I wish I had a daughter so I could forbid her to marry one ...\"\n",
        "\"You wouldn't need to,\" said Ford. \"They've got as much sex appeal as a road accident. No, don't move,\" he added as Arthur began to uncurl himself, \"you'd better be prepared for the jump into hyperspace. It's unpleasantly like being drunk.\"\n",
        "\"What's so unpleasant about being drunk?\"\n",
        "\n",
        "60 / DOUGLAS ADAMS \"You ask a glass of water.\"\n",
        "Arthur thought about this.\n",
        "\"Ford,\" he said.\n",
        "\"Yeah?\"\n",
        "\"What's this fish doing in my ear?\"\n",
        "\"It's translating for you. It's a Babel fish. Look it up in the book if you like.\"\n",
        "He tossed over The Hitch Hiker's Guide to the Galaxy and then curled himself up into a foetal ball to prepare himself for the jump.\n",
        "At that moment the bottom fell out of Arthur's mind.\n",
        "His eyes turned inside out. His feet began to leak out of the top of his head.\n",
        "The room folded flat about him, spun around, shifted out of existence and left him sliding into his own navel.\n",
        "They were passing through hyperspace.\n",
        "\"The Babel fish,\" said The Hitch Hiker's Guide to the Galaxy quietly, \"is small, yellow and leech-like, and probably the oddest thing in the Universe. It feeds on brainwave energy not from its carrier but from those around it. It absorbs all unconscious mental frequencies from this brainwave energy to nourish itself with. It then excretes into the mind of its carrier a telepathic matrix formed by combining the conscious thought frequencies with nerve signals picked up from the speech centres of the brain which has supplied them. The practical upshot of all this is that\n",
        "\n",
        "THE HITCHHIKER'S GUIDE TO THE GALAXY / 61\n",
        "if you stick a Babel fish in your ear you can instantly understand anything said to you in any form of language. The speech patterns you actually hear decode the brainwave matrix which has been fed into your mind by your Babel fish.\n",
        "\"Now it is such a bizarrely improbable coincidence that anything so mind\\-bog\\-gin\\-gly useful could have evolved purely by chance that some thin\\-kers have chosen to see it as the final and clinching proof of the non-existence of God.\n",
        "\"The argument goes something like this: `I refuse to prove that I exist,' says God, `for proof denies faith, and without faith I am nothing.'\n",
        "\"`But,' says Man, `The Babel fish is a dead giveaway, isn't it? It could not have evolved by chance. It proves you exist, and so therefore, by your own arguments, you don't. QED.'\n",
        "\"`Oh dear,' says God, `I hadn't thought of that,' and promptly vanished in a puff of logic.\n",
        "\"`Oh, that was easy,' says Man, and for an encore goes on to prove that black is white and gets himself killed on the next zebra crossing.\n",
        "\"Most leading theologians claim that this argument is a load of dingo's kidneys, but that didn't stop Oolon Colluphid making a small fortune when he used it as the central theme of his best- selling book Well That About Wraps It Up For God.\n",
        "\"Meanwhile, the poor Babel fish, by effectively removing all barriers to communication between different races and cultures, has caused more and bloddier wars than anything else in the history of creation.\"\n",
        "\n",
        "62 / DOUGLAS ADAMS\n",
        "Arthur let out a low groan. He was horrified to discover that the kick through hyperspace hadn't killed him. He was now six light years from the place that the Earth would have been if it still existed.\n",
        "The Earth.\n",
        "Visions of it swam sickeningly through his nauseated mind. There was no way his imagination could feel the impact of the whole Earth having gone, it was too big. He prodded his feelings by thinking that his parents and his sister had gone. No reaction. He thought of all the people he had been close to. No reaction. Then he thought of a complete stranger he had been standing behind in the queue at the supermarket before and felt a sudden stab - the supermarket was gone, everything in it was gone. Nelson's Column had gone! N elson's Column had gone and there would be no outcry, because there was no one left to make an outcry. From now on Nelson's Column only existed in his mind. England only existed in his mind - his mind, stuck here in this dank smelly steel-lined spaceship. A wave of claustrophobia closed in on him.\n",
        "England no longer existed. He'd got that - somehow he'd got it. He tried again. America, he thought, has gone. He couldn't grasp it. He decided to start smaller again. New York has gone. No reaction. He'd never seriously believed it existed anyway. The dollar, he thought, had sunk for ever. Slight tremor there. Every Bogart movie has been wiped, he said to himself, and that gave him a nasty knock. McDonalds, he thought. There is no longer any such thing as a McDonald's hamburger. He passed out. When he came round a second later he found he was sobbing for his mother.\n",
        "He jerked himself violently to his feet.\n",
        "\n",
        "THE HITCHHIKER'S GUIDE TO THE GALAXY / 63 \"Ford!\"\n",
        "Ford looked up from where he was sitting in a corner humming to himself. He always found the actual travelling-through-space part of space travel rather trying.\n",
        "\"Yeah?\" he said.\n",
        "\"If you're a researcher on this book thing and you were on Earth, you must have been gathering material on it.\"\n",
        "\"Well, I was able to extend the original entry a bit, yes.\"\n",
        "\"Let me see what it says in this edition then, I've got to see it.\" \"Yeah OK.\" He passed it over again.\n",
        "Arthur grabbed hold of it and tried to stop his hands shaking. He pressed the entry for the relevant page. The screen flashed and swirled and resolved into a page of print. Arthur stared at it.\n",
        "\"It doesn't have an entry!\" he burst out.\n",
        "Ford looked over his shoulder.\n",
        "\"Yes it does,\" he said, \"down there, see at the bottom of the screen, just under Eccentrica Gallumbits, the triple-breasted whore of Eroticon 6.\"\n",
        "Arthur followed Ford's finger, and saw where it was pointing. For a moment it still didn't register, then his mind nearly blew up.\n",
        "\"What? Harmless? Is that all it's got to say? Harmless! One word!\" Ford shrugged.\n",
        "\n",
        "64 / DOUGLAS ADAMS\n",
        "\"Well, there are a hundred billion stars in the Galaxy, and only a limited amount of space in the book's microprocessors,\" he said, \"and no one knew much about the Earth of course.\"\n",
        "\"Well for God's sake I hope you managed to rectify that a bit.\"\n",
        "\"Oh yes, well I managed to transmit a new entry off to the editor. He had to trim it a bit, but it's still an improvement.\"\n",
        "\"And what does it say now?\" asked Arthur.\n",
        "\"Mostly harmless,\" admitted Ford with a slightly embarrassed cough.\n",
        "\"Mostly harmless!\" shouted Arthur. \"What was that noise?\" hissed Ford.\n",
        "\"It was me shouting,\" shouted Arthur.\n",
        "\"No! Shut up!\" said Ford. I think we're in trouble.\"\n",
        "\"You think we're in trouble!\"\n",
        "Outside the door were the sounds of marching feet.\n",
        "\"The Dentrassi?\" whispered Arthur.\n",
        "\"No, those are steel tipped boots,\" said Ford.\n",
        "There was a sharp ringing rap on the door.\n",
        "\"Then who is it?\" said Arthur.\n",
        "\"Well,\" said Ford, \"if we're lucky it's just the Vogons come to throw us in to space.\"\n",
        "\"And if we're unlucky?\"\n",
        "\n",
        "THE HITCHHIKER'S GUIDE TO THE GALAXY / 65\n",
        "\"If we're unlucky,\" said Ford grimly, \"the captain might be serious in his threat that he's going to read us some of his poetry first ...\"\n",
        "\n",
        "66 / DOUGLAS ADAMS\n",
        "Vogon poetry is of course the third worst in the Universe.\n",
        "The second worst is that of the Azagoths of Kria. During a recitation by their Poet Master Grunthos the Flatulent of his poem \"Ode To A Small Lump of Green Putty I Found In My Armpit One Midsummer Morning\" four of his audience died of internal haemorrhaging, and the President of the Mid-Galactic Arts Nobbling Council survived by gnawing one of his own legs off. Grunthos is reported to have been \"disappointed\" by the poem's reception, and was about to embark on a reading of his twelve- book epic entitled My Favourite Bathtime Gurgles when his own major intestine, in a desperate attempt to save life and civilization, leapt straight up through his neck and throttled his brain.\n",
        "The very worst poetry of all perished along with its creator Paula Nancy Millstone Jennings of Greenbridge, Essex, England in the destruction of the planet Earth.\n",
        "Prostetnic Vogon Jeltz smiled very slowly. This was done not so much for effect as because he was trying to remember the sequence of muscle movements. He had had a terribly therapeutic yell at his prisoners and was now feeling quite relaxed and ready for a little callousness.\n",
        "The prisoners sat in Poetry Appreciation Chairs --strapped in. Vogons suffered no illusions as to the regard their works were generally held in. Their early attempts at composition had been part of bludgeoning insistence that they be accepted as a properly evolved and cultured race, but now the only thing that kept them going was sheer bloodymindedness.\n",
        "The sweat stood out cold on Ford Prefect's brow, and slid round the electrodes strapped to his temples. These were attached to a\n",
        "\n",
        "THE HITCHHIKER'S GUIDE TO THE GALAXY / 67\n",
        "battery of electronic equipment - imagery intensifiers, rhythmic modulators, alliterative residulators and simile dumpers - all designed to heighten the experience of the poem and make sure that not a single nuance of the poet's thought was lost.\n",
        "Arthur Dent sat and quivered. He had no idea what he was in for, but he knew that he hadn't liked anything that had happened so far and didn't think things were likely to change.\n",
        "The Vogon began to read - a fetid little passage of his own devising.\n",
        "\"Oh frettled gruntbuggly ...\" he began. Spasms wracked Ford's body - this was worse than ever he'd been prepared for.\n",
        "\"... thy micturations are to me | As plurdled gabbleblotchits on a lurgid bee.\"\n",
        "\"Aaaaaaarggggghhhhhh!\" went Ford Prefect, wrenching his head back as lumps of pain thumped through it. He could dimly see beside him Arthur lolling and rolling in his seat. He clenched his teeth.\n",
        "\"Groop I implore thee,\" continued the merciless Vogon, \"my foonting turlingdromes.\"\n",
        "His voice was rising to a horrible pitch of impassioned stridency. \"And hooptiously drangle me with crinkly bindlewurdles,| Or I will rend thee in the gobberwarts with my blurglecruncheon, see if I don't!\"\n",
        "\"Nnnnnnnnnnyyyyyyyuuuuuuurrrrrrrggggggghhhhh!\" cried Ford Prefect and threw one final spasm as the electronic enhancement of the last line caught him full blast across the temples. He went limp.\n",
        "\n",
        "68 / DOUGLAS ADAMS\n",
        "Arthur lolled.\n",
        "\"Now Earthlings ...\" whirred the Vogon (he didn't know that Ford Prefect was in fact from a small planet in the vicinity of Betelgeuse, and wouldn't have cared if he had) \"I present you with a simple choice! Either die in the vacuum of space, or ...\" he paused for melodramatic effect, \"tell me how good you thought my poem was!\"\n",
        "He threw himself backwards into a huge leathery bat-shaped seat and watched them. He did the smile again.\n",
        "Ford was rasping for breath. He rolled his dusty tongue round his parched mouth and moaned.\n",
        "Arthur said brightly: \"Actually I quite liked it.\"\n",
        "Ford turned and gaped. Here was an approach that had quite simply not occurred to him.\n",
        "The Vogon raised a surprised eyebrow that effectively obscured his nose and was therefore no bad thing.\n",
        "\"Oh good ...\" he whirred, in considerable astonishment.\n",
        "\"Oh yes,\" said Arthur, \"I thought that some of the metaphysical imagery was really particularly effective.\"\n",
        "Ford continued to stare at him, slowly organizing his thoughts around this totally new concept. Were they really going to be able to bareface their way out of this?\n",
        "\"Yes, do continue ...\" invited the Vogon.\n",
        "\n",
        "THE HITCHHIKER'S GUIDE TO THE GALAXY / 69\n",
        "\"Oh ... and er ... interesting rhythmic devices too,\" continued Arthur, \"which seemed to counterpoint the ... er ... er ...\" He floundered.\n",
        "Ford leaped to his rescue, hazarding \"counterpoint the surrealism of the underlying metaphor of the ... er ...\" He floundered too, but Arthur was ready again.\n",
        "\"... humanity of the ...\"\n",
        "\"Vogonity,\" Ford hissed at him.\n",
        "\"Ah yes, Vogonity (sorry) of the poet's compassionate soul,\" Arthur felt he was on a home stretch now, \"which contrives through the medium of the verse structure to sublimate this, transcend that, and come to terms with the fundamental dichotomies of the other,\" (he was reaching a triumphant crescendo ...) \"and one is left with a profound and vivid insight into ... into ... er ...\" (... which suddenly gave out on him.) Ford leaped in with the coup de gr@ce:\n",
        "\"Into whatever it was the poem was about!\" he yelled. Out of the corner of his mouth: \"Well done, Arthur, that was very good.\"\n",
        "The Vogon perused them. For a moment his embittered racial soul had been touched, but he thought no - too little too late. His voice took on the quality of a cat snagging brushed nylon.\n",
        "\"So what you're saying is that I write poetry because underneath my mean callous heartless exterior I really just want to be loved,\" he said. He paused. \"Is that right?\"\n",
        "Ford laughed a nervous laugh. \"Well I mean yes,\" he said, \"don't we all, deep down, you know ... er ...\"\n",
        "\n",
        "70 / DOUGLAS ADAMS\n",
        "The Vogon stood up.\n",
        "\"No, well you're completely wrong,\" he said, \"I just write poetry to throw my mean callous heartless exterior into sharp relief. I'm going to throw you off the ship anyway. Guard! Take the prisoners to number three airlock and throw them out!\"\n",
        "\"What?\" shouted Ford. A huge young Vogon guard stepped forward and yanked them out of their straps with his huge blubbery arms.\n",
        "\"You can't throw us into space,\" yelled Ford, \"we're trying to write a book.\"\n",
        "\"Resistance is useless!\" shouted the Vogon guard back at him. It was the first phrase he'd learnt when he joined the Vogon Guard Corps.\n",
        "The captain watched with detached amusement and then turned away.\n",
        "Arthur stared round him wildly.\n",
        "\"I don't want to die now!\" he yelled. \"I've still got a headache! I don't want to go to heaven with a headache, I'd be all cross and wouldn't enjoy it!\"\n",
        "The guard grasped them both firmly round the neck, and bowing deferentially towards his captain's back, hoiked them both protesting out of the bridge. A steel door closed and the captain was on his own again. He hummed quietly and mused to himself, lightly fingering his notebook of verses.\n",
        "\n",
        "THE HITCHHIKER'S GUIDE TO THE GALAXY / 71\n",
        "\"Hmmmm,\" he said, \"counterpoint the surrealism of the underlying metaphor ...\" He considered this for a moment, and then closed the book with a grim smile.\n",
        "\"Death's too good for them,\" he said.\n",
        "The long steel-lined corridor echoed to the feeble struggles of the two humanoids clamped firmly under rubbery Vogon armpits.\n",
        "\"This is great,\" spluttered Arthur, \"this is really terrific. Let go of me you brute!\"\n",
        "The Vogon guard dragged them on.\n",
        "\"Don't you worry,\" said Ford, \"I'll think of something.\" He didn't sound hopeful.\n",
        "\"Resistance is useless!\" bellowed the guard.\n",
        "\"Just don't say things like that,\" stammered Ford. \"How can anyone maintain a positive mental attitude if you're saying things like that?\"\n",
        "\"My God,\" complained Arthur, \"you're talking about a positive mental attitude and you haven't even had your planet demolished today. I woke up this morning and thought I'd have a nice relaxed day, do a bit of reading, brush the dog ... It's now just after four in the afternoon and I'm already thrown out of an alien spaceship six light years from the smoking remains of the Earth!\" He spluttered and gurgled as the Vogon tightened his grip.\n",
        "\"Alright,\" said Ford, \"just stop panicking.\"\n",
        "\n",
        "72 / DOUGLAS ADAMS\n",
        "\"Who said anything about panicking?\" snapped Arthur. \"This is still just the culture shock. You wait till I've settled down into the situation and found my bearings. Then I'll start panicking.\"\n",
        "\"Arthur you're getting hysterical. Shut up!\" Ford tried desperately to think, but was interrupted by the guard shouting again.\n",
        "\"Resistance is useless!\"\n",
        "\"And you can shut up as well!\" snapped Ford.\n",
        "\"Resistance is useless!\"\n",
        "\"Oh give it a rest,\" said Ford. He twisted his head till he was looking straight up into his captor's face. A thought struck him.\n",
        "\"Do you really enjoy this sort of thing?\" he asked suddenly.\n",
        "The Vogon stopped dead and a look of immense stupidity seeped slowly over his face.\n",
        "\"Enjoy?\" he boomed. \"What do you mean?\"\n",
        "\"What I mean,\" said Ford, \"is does it give you a full satisfying life? Stomping around, shouting, pushing people out of spaceships ...\"\n",
        "The Vogon stared up at the low steel ceiling and his eyebrows almost rolled over each other. His mouth slacked. Finally he said, \"Well the hours are good ...\"\n",
        "\"They'd have to be,\" agreed Ford.\n",
        "Arthur twisted his head to look at Ford.\n",
        "\"Ford, what are you doing?\" he asked in an amazed whisper.\n",
        "\n",
        "THE HITCHHIKER'S GUIDE TO THE GALAXY / 73\n",
        "\"Oh, just trying to take an interest in the world around me, OK?\" he said. \"So the hours are pretty good then?\" he resumed.\n",
        "The Vogon stared down at him as sluggish thoughts moiled around in the murky depths.\n",
        "\"Yeah,\" he said, \"but now you come to mention it, most of the actual minutes are pretty lousy. Except ...\" he thought again, which required looking at the ceiling - \"except some of the shouting I quite like.\" He filled his lungs and bellowed, \"Resistance is ...\"\n",
        "\"Sure, yes,\" interrupted Ford hurriedly, \"you're good at that, I can tell. But if it's mostly lousy,\" he said, slowly giving the words time to reach their mark, \"then why do you do it? What is it? The girls? The leather? The machismo? Or do you just find that coming to terms with the mindless tedium of it all presents an interesting challenge?\"\n",
        "\"Er ...\" said the guard, \"er ... er ... I dunno. I think I just sort of ... do it really. My aunt said that spaceship guard was a good career for a young Vogon - you know, the uniform, the low- slung stun ray holster, the mindless tedium ...\"\n",
        "\"There you are Arthur,\" said Ford with the air of someone reaching the conclusion of his argument, \"you think you've got problems.\"\n",
        "Arthur rather thought he had. Apart from the unpleasant business with his home planet the Vogon guard had half- throttled him already and he didn't like the sound of being thrown into space very much.\n",
        "\n",
        "74 / DOUGLAS ADAMS\n",
        "\"Try and understand his problem,\" insisted Ford. \"Here he is poor lad, his entire life's work is stamping around, throwing people off spaceships ...\"\n",
        "\"And shouting,\" added the guard.\n",
        "\"And shouting, sure,\" said Ford patting the blubbery arm clamped round his neck in friendly condescension, \"... and he doesn't even know why he's doing it!\"\n",
        "Arthur agreed this was very sad. He did this with a small feeble gesture, because he was too asphyxicated to speak.\n",
        "Deep rumblings of bemusement came from the guard.\n",
        "\"Well. Now you put it like that I suppose ...\"\n",
        "\"Good lad!\" encouraged Ford.\n",
        "\"But alright,\" went on the rumblings, \"so what's the alternative?\"\n",
        "\"Well,\" said Ford, brightly but slowly, \"stop doing it of course! Tell them,\" he went on, \"you're not going to do it anymore.\" He felt he had to add something to that, but for the moment the guard seemed to have his mind occupied pondering that much.\n",
        "\"Eerrrrrrmmmmmmmmmmmmmmmmmmmmm ...\" said the guard, \"erm, well that doesn't sound that great to me.\"\n",
        "Ford suddenly felt the moment slipping away.\n",
        "\"Now wait a minute,\" he said, \"that's just the start you see, there's more to it than that you see ...\"\n",
        "\n",
        "THE HITCHHIKER'S GUIDE TO THE GALAXY / 75\n",
        "But at that moment the guard renewed his grip and continued his original purpose of lugging his prisoners to the airlock. He was obviously quite touched.\n",
        "\"No, I think if it's all the same to you,\" he said, \"I'd better get you both shoved into this airlock and then go and get on with some other bits of shouting I've got to do.\"\n",
        "It wasn't all the same to Ford Prefect after all.\n",
        "\"Come on now ... but look!\" he said, less slowly, less brightly. \"Huhhhhgggggggnnnnnnn ...\" said Arthur without any clear inflection.\n",
        "\"But hang on,\" pursued Ford, \"there's music and art and things to tell you about yet! Arrrggghhh!\"\n",
        "\"Resistance is useless,\" bellowed the guard, and then added, \"You see if I keep it up I can eventually get promoted to Senior Shouting Officer, and there aren't usually many vacancies for non-shouting and non-pushing-people-about officers, so I think I'd better stick to what I know.\"\n",
        "They had now reached the airlock - a large circular steel hatchway of massive strength and weight let into the inner skin of the craft. The guard operated a control and the hatchway swung smoothly open.\n",
        "\"But thanks for taking an interest,\" said the Vogon guard. \"Bye now.\" He flung Ford and Arthur through the hatchway into the small chamber within. Arthur lay panting for breath. Ford scrambled round and flung his shoulder uselessly against the reclosing hatchway.\n",
        "\n",
        "76 / DOUGLAS ADAMS\n",
        "\"But listen,\" he shouted to the guard, \"there's a whole world you don't know anything about ... here how about this?\" Desperately he grabbed for the only bit of culture he knew offhand - he hummed the first bar of Beethoven's Fifth.\n",
        "\"Da da da dum! Doesn't that stir anything in you?\"\n",
        "\"No,\" said the guard, \"not really. But I'll mention it to my aunt.\"\n",
        "If he said anything further after that it was lost. The hatchway sealed itself tight, and all sound was lost but the faint distant hum of the ship's engines.\n",
        "They were in a brightly polished cylindrical chamber about six feet in diameter and ten feet long.\n",
        "\"Potentially bright lad I thought,\" he said and slumped against the curved wall.\n",
        "Arthur was still lying in the curve of the floor where he had fallen. He didn't look up. He just lay panting.\n",
        "\"We're trapped now aren't we?\"\n",
        "\"Yes,\" said Ford, \"we're trapped.\"\n",
        "\"Well didn't you think of anything? I thought you said you were going to think of something. Perhaps you thought of something and didn't notice.\"\n",
        "\"Oh yes, I thought of something,\" panted Ford. Arthur looked up expectantly.\n",
        "\"But unfortunately,\" continued Ford, \"it rather involved being on the other side of this airtight hatchway.\" He kicked the hatch they'd just been through.\n",
        "\n",
        "THE HITCHHIKER'S GUIDE TO THE GALAXY / 77 \"But it was a good idea was it?\"\n",
        "\"Oh yes, very neat.\" \"What was it?\"\n",
        "\"Well I hadn't worked out the details yet. Not much point now is there?\"\n",
        "\"So ... er, what happens next?\"\n",
        "\"Oh, er, well the hatchway in front of us will open automatically in a few moments and we will shoot out into deep space I expect and asphyxicate. If you take a lungful of air with you you can last for up to thirty seconds of course ...\" said Ford. He stuck his hands behind his back, raised his eyebrows and started to hum an old Betelgeusian battle hymn. To Arthur's eyes he suddenly looked very alien.\n",
        "\"So this is it,\" said Arthur, \"we're going to die.\"\n",
        "\"Yes,\" said Ford, \"except ... no! Wait a minute!\" he suddenly lunged across the chamber at something behind Arthur's line of vision. \"What's this switch?\" he cried.\n",
        "\"What? Where?\" cried Arthur twisting round.\n",
        "\"No, I was only fooling,\" said Ford, \"we are going to die after all.\"\n",
        "He slumped against the wall again and carried on the tune from where he left off.\n",
        "\"You know,\" said Arthur, \"it's at times like this, when I'm trapped in a Vogon airlock with a man from Betelgeuse, and about to die of asphyxication in deep space that I really wish I'd listened to what my mother told me when I was young.\"\n",
        "\n",
        "78 / DOUGLAS ADAMS \"Why, what did she tell you?\"\n",
        "\"I don't know, I didn't listen.\"\n",
        "\"Oh.\" Ford carried on humming.\n",
        "\"This is terrific,\" Arthur thought to himself, \"Nelson's Column has gone, McDonald's have gone, all that's left is me and the words Mostly Harmless. Any second now all that will be left is Mostly Harmless. And yesterday the planet seemed to be going so well.\"\n",
        "A motor whirred.\n",
        "A slight hiss built into a deafening roar of rushing air as the outer hatchway opened on to an empty blackness studded with tiny impossibly bright points of light. Ford and Arthur popped into outer space like corks from a toy gun.\n",
        "\n",
        "THE HITCHHIKER'S GUIDE TO THE GALAXY / 79\n",
        "The Hitch Hiker's Guide to the Galaxy is a wholly remarkable book. It has been compiled and recompiled many times over many years and under many different editorships. It contains contributions from countless numbers of travellers and researchers.\n",
        "The introduction begins like this:\n",
        "\"Space,\" it says, \"is big. Really big. You just won't believe how vastly hugely mindboggingly big it is. I mean you may think it's a long way down the road to the chemist, but that's just peanuts to space. Listen ...\" and so on.\n",
        "(After a while the style settles down a bit and it begins to tell you things you really need to know, like the fact that the fabulously beautiful planet Bethselamin is now so worried about the cumulative erosion by ten billion visiting tourists a year that any net imbalance between the amount you eat and the amount you excrete whilst on the planet is surgically removed from your bodyweight when you leave: so every time you go to the lavatory it is vitally important to get a receipt.)\n",
        "To be fair though, when confronted by the sheer enormity of distances between the stars, better minds than the one responsible for the Guide's introduction have faltered. Some invite you to consider for a moment a peanut in reading and a small walnut in Johannesburg, and other such dizzying concepts.\n",
        "The simple truth is that interstellar distances will not fit into the human imagination.\n",
        "Even light, which travels so fast that it takes most races thousands of years to realize that it travels at all, takes time to journey between the stars. It takes eight minutes from the star Sol to the\n",
        "\n",
        "80 / DOUGLAS ADAMS\n",
        "place where the Earth used to be, and four years more to arrive at Sol's nearest stellar neighbour, Alpha Proxima.\n",
        "For light to reach the other side of the Galaxy, for it to reach Damogran for instance, takes rather longer: five hundred thousand years.\n",
        "The record for hitch hiking this distance is just under five years, but you don't get to see much on the way.\n",
        "The Hitch Hiker's Guide to the Galaxy says that if you hold a lungful of air you can survive in the total vacuum of space for about thirty seconds. However it goes on to say that what with space being the mind boggling size it is the chances of getting picked up by another ship within those thirty seconds are two to the power of two hundred and sixty-seven thousand seven hundred and nine to one against.\n",
        "By a totally staggering coincidence that is also the telephone number of an Islington flat where Arthur once went to a very good party and met a very nice girl whom he totally failed to get off with - she went off with a gatecrasher. Though the planet Earth, the Islington flat and the telephone have all now been demolished, it is comforting to reflect that they are all in some small way commemorated by the fact that twenty-nine seconds later Ford and Arthur were rescued.\n",
        "\n",
        "THE HITCHHIKER'S GUIDE TO THE GALAXY / 81\n",
        "A computer chatted to itself in alarm as it noticed an airlock open and close itself for no apparent reason.\n",
        "This was because Reason was in fact out to lunch.\n",
        "A hole had just appeared in the Galaxy. It was exactly a nothingth of a second long, a nothingth of an inch wide, and quite a lot of million light years from end to end.\n",
        "As it closed up lots of paper hats and party balloons fell out of it and drifted off through the universe. A team of seven three- foot-high market analysts fell out of it and died, partly of asphyxication, partly of surprise.\n",
        "Two hundred and thirty-nine thousand lightly fried eggs fell out of it too, materializing in a large woobly heap on the famine- struck land of Poghril in the Pansel system.\n",
        "The whole Poghril tribe had died out from famine except for one last man who died of cholesterol poisoning some weeks later.\n",
        "The nothingth of a second for which the hole existed reverberated backwards and forwards through time in a most improbable fashion. Somewhere in the deeply remote past it seriously traumatized a small random group of atoms drifting through the empty sterility of space and made them cling together in the most extraordinarily unlikely patterns. These patterns quickly learnt to copy themselves (this was part of what was so extraordinary of the patterns) and went on to cause massive trouble on every planet they drifted on to. That was how life began in the Universe.\n",
        "Five wild Event Maelstroms swirled in vicious storms of unreason and spewed up a pavement.\n",
        "\n",
        "82 / DOUGLAS ADAMS\n",
        "On the pavement lay Ford Prefect and Arthur Dent gulping like half-spent fish.\n",
        "\"There you are,\" gasped Ford, scrabbling for a fingerhold on the pavement as it raced through the Third Reach of the Unknown, \"I told you I'd think of something.\"\n",
        "\"Oh sure,\" said Arthur, \"sure.\"\n",
        "\"Bright idea of mine,\" said Ford, \"to find a passing spaceship and get rescued by it.\"\n",
        "The real universe arched sickeningly away beneath them. Various pretend ones flitted silently by, like mountain goats. Primal light exploded, splattering space-time as with gobbets of junket. Time blossomed, matter shrank away. The highest prime number coalesced quietly in a corner and hid itself away for ever.\n",
        "\"Oh come off it,\" said Arthur, \"the chances against it were astronomical.\"\n",
        "\"Don't knock it, it worked,\" said Ford.\n",
        "\"What sort of ship are we in?\" asked Arthur as the pit of eternity yawned beneath them.\n",
        "\"I don't know,\" said Ford, \"I haven't opened my eyes yet.\" \"No, nor have I,\" said Arthur.\n",
        "The Universe jumped, froze, quivered and splayed out in several unexpected directions.\n",
        "Arthur and Ford opened their eyes and looked about in considerable surprise.\n",
        "\n",
        "THE HITCHHIKER'S GUIDE TO THE GALAXY / 83\n",
        "\"Good god,\" said Arthur, \"it looks just like the sea front at Southend.\"\n",
        "\"Hell, I'm relieved to hear you say that,\" said Ford. \"Why?\"\n",
        "\"Because I thought I must be going mad.\"\n",
        "\"Perhaps you are. Perhaps you only thought I said it.\" Ford thought about this.\n",
        "\"Well, did you say it or didn't you?\" he asked.\n",
        "\"I think so,\" said Arthur.\n",
        "\"Well, perhaps we're both going mad.\"\n",
        "\"Yes,\" said Arthur, \"we'd be mad, all things considered, to think this was Southend.\"\n",
        "\"Well, do you think this is Southend?\" \"Oh yes.\"\n",
        "\"So do I.\"\n",
        "\"Therefore we must be mad.\"\n",
        "\"Nice day for it.\"\n",
        "\"Yes,\" said a passing maniac. \"Who was that?\" asked Arthur\n",
        "\n",
        "84 / DOUGLAS ADAMS\n",
        "\"Who - the man with the five heads and the elderberry bush full of kippers?\" \"Yes.\"\n",
        "\"I don't know. Just someone.\"\n",
        "\"Ah.\"\n",
        "They both sat on the pavement and watched with a certain unease as huge children bounced heavily along the sand and wild horses thundered through the sky taking fresh supplies of reinforced railings to the Uncertain Areas.\n",
        "\"You know,\" said Arthur with a slight cough, \"if this is Southend, there's something very odd about it ...\"\n",
        "\"You mean the way the sea stays steady and the buildings keep washing up and down?\" said Ford. \"Yes I thought that was odd too. In fact,\" he continued as with a huge bang Southend split itself into six equal segments which danced and span giddily round each other in lewd and licentious formation, \"there is something altogether very strange going on.\"\n",
        "Wild yowling noises of pipes and strings seared through the wind, hot doughnuts popped out of the road for ten pence each, horrid fish stormed out of the sky and Arthur and Ford decided to make a run for it.\n",
        "They plunged through heavy walls of sound, mountains of archaic thought, valleys of mood music, bad shoe sessions and footling bats and suddenly heard a girl's voice.\n",
        "It sounded quite a sensible voice, but it just said, \"Two to the power of one hundred thousand to one against and falling,\" and that was all.\n",
        "\n",
        "THE HITCHHIKER'S GUIDE TO THE GALAXY / 85\n",
        "Ford skidded down a beam of light and span round trying to find a source for the voice but could see nothing he could seriously believe in.\n",
        "\"What was that voice?\" shouted Arthur.\n",
        "\"I don't know,\" yelled Ford, \"I don't know. It sounded like a measurement of probability.\"\n",
        "\"Probability? What do you mean?\"\n",
        "\"Probability. You know, like two to one, three to one, five to four against. It said two to the power of one hundred thousand to one against. That's pretty improbable you know.\"\n",
        "A million-gallon vat of custard upended itself over them without warning.\n",
        "\"But what does it mean?\" cried Arthur.\n",
        "\"What, the custard?\"\n",
        "\"No, the measurement of probability!\"\n",
        "\"I don't know. I don't know at all. I think we're on some kind of spaceship.\"\n",
        "\"I can only assume,\" said Arthur, \"that this is not the first- class compartment.\"\n",
        "Bulges appeared in the fabric of space-time. Great ugly bulges.\n",
        "\"Haaaauuurrgghhh ...\" said Arthur as he felt his body softening and bending in unusual directions. \"Southend seems to be melting away ... the stars are swirling ... a dustbowl ... my legs are drifting off into the sunset ... my left arm's come off too.\" A\n",
        "\n",
        "86 / DOUGLAS ADAMS\n",
        "frightening thought struck him: \"Hell,\" he said, \"how am I going to operate my digital watch now?\" He wound his eyes desperately around in Ford's direction.\n",
        "\"Ford,\" he said, \"you're turning into a penguin. Stop it.\" Again came the voice.\n",
        "\"Two to the power of seventy-five thousand to one against and falling.\"\n",
        "Ford waddled around his pond in a furious circle.\n",
        "\"Hey, who are you,\" he quacked. \"Where are you? What's going on and is there any way of stopping it?\"\n",
        "\"Please relax,\" said the voice pleasantly, like a stewardess in an airliner with only one wing and two engines one of which is on fire, \"you are perfectly safe.\"\n",
        "\"But that's not the point!\" raged Ford. \"The point is that I am now a perfectly save penguin, and my colleague here is rapidly running out of limbs!\"\n",
        "\"It's alright, I've got them back now,\" said Arthur.\n",
        "\"Two to the power of fifty thousand to one against and falling,\" said the voice.\n",
        "\"Admittedly,\" said Arthur, \"they're longer than I usually like them, but ...\"\n",
        "\"Isn't there anything,\" squawked Ford in avian fury, \"you feel you ought to be telling us?\"\n",
        "\n",
        "THE HITCHHIKER'S GUIDE TO THE GALAXY / 87\n",
        "The voice cleared its throat. A giant petit four lolloped off into the distance.\n",
        "\"Welcome,\" the voice said, \"to the Starship Heart of Gold.\"\n",
        "The voice continued.\n",
        "\"Please do not be alarmed,\" it said, \"by anything you see or hear around you. You are bound to feel some initial ill effects as you have been rescued from certain death at an improbability level of two to the power of two hundred and seventy-six thousand to one against - possibly much higher. We are now cruising at a level of two to the power of twenty-five thousand to one against and falling, and we will be restoring normality just as soon as we are sure what is normal anyway. Thank you. Two to the power of twenty thousand to one against and falling.\"\n",
        "The voice cut out.\n",
        "Ford and Arthur were in a small luminous pink cubicle. Ford was wildly excited.\n",
        "\"Arthur!\" he said, \"this is fantastic! We've been picked up by a ship powered by the Infinite Improbability Drive! This is incredible! I heard rumors about it before! They were all officially denied, but they must have done it! They've built the Improbability Drive! Arthur, this is ... Arthur? What's happening?\"\n",
        "Arthur had jammed himself against the door to the cubicle, trying to hold it closed, but it was ill fitting. Tiny furry little hands were squeezing themselves through the cracks, their fingers were inkstained; tiny voices chattered insanely.\n",
        "\n",
        "88 / DOUGLAS ADAMS\n",
        "Arthur looked up.\n",
        "\"Ford!\" he said, \"there's an infinite number of monkeys outside who want to talk to us about this script for Hamlet they've worked out.\"\n",
        "\n",
        "THE HITCHHIKER'S GUIDE TO THE GALAXY / 89\n",
        "The Infinite Improbability Drive is a wonderful new method of crossing vast interstellar distances in a mere nothingth of a second, without all that tedious mucking about in hyperspace.\n",
        "It was discovered by a lucky chance, and then developed into a governable form of propulsion by the Galactic Government's research team on Damogran.\n",
        "This, briefly, is the story of its discovery.\n",
        "The principle of generating small amounts of finite improbability by simply hooking the logic circuits of a Bambleweeny 57 Sub- Meson Brain to an atomic vector plotter suspended in a strong Brownian Motion producer (say a nice hot cup of tea) were of course well understood - and such generators were often used to break the ice at parties by making all the molecules in the hostess's undergarments leap simultaneously one foot to the left, in accordance with the Theory of Indeterminacy.\n",
        "Many respectable physicists said that they weren't going to stand for this - partly because it was a debasement of science, but mostly because they didn't get invited to those sort of parties.\n",
        "Another thing they couldn't stand was the perpetual failure they encountered in trying to construct a machine which could generate the infinite improbability field needed to flip a spaceship across the mind-paralysing distances between the furthest stars, and in the end they grumpily announced that such a machine was virtually impossible.\n",
        "Then, one day, a student who had been left to sweep up the lab after a particularly unsuccessful party found himself reasoning this way:\n",
        "\n",
        "90 / DOUGLAS ADAMS\n",
        "If, he thought to himself, such a machine is a virtual impossibility, then it must logically be a finite improbability. So all I have to do in order to make one is to work out exactly how improbable it is, feed that figure into the finite improbability generator, give it a fresh cup of really hot tea ... and turn it on!\n",
        "He did this, and was rather startled to discover that he had managed to create the long sought after golden Infinite Improbability generator out of thin air.\n",
        "It startled him even more when just after he was awarded the Galactic Institute's Prize for Extreme Cleverness he got lynched by a rampaging mob of respectable physicists who had finally realized that the one thing they really couldn't stand was a smartass.\n",
        "\n",
        "THE HITCHHIKER'S GUIDE TO THE GALAXY / 91\n",
        "The Improbability-proof control cabin of the Heart of Gold looked like a perfectly conventional spaceship except that it was perfectly clean because it was so new. Some of the control seats hadn't had the plastic wrapping taken off yet. The cabin was mostly white, oblong, and about the size of a smallish restaurant. In fact it wasn't perfectly oblong: the two long walls were raked round in a slight parallel curve, and all the angles and corners were contoured in excitingly chunky shapes. The truth of the matter is that it would have been a great deal simpler and more practical to build the cabin as an ordinary three-dimensional oblong rom, but then the designers would have got miserable. As it was the cabin looked excitingly purposeful, with large video screens ranged over the control and guidance system panels on the concave wall, and long banks of computers set into the convex wall. In one corner a robot sat humped, its gleaming brushed steel head hanging loosely between its gleaming brushed steel knees. It too was fairly new, but though it was beautifully constructed and polished it somehow looked as if the various parts of its more or less humanoid body didn't quite fit properly. In fact they fitted perfectly well, but something in its bearing suggested that they might have fitted better.\n",
        "Zaphod Beeblebrox paced nervously up and down the cabin, brushing his hands over pieces of gleaming equipment and giggling with excitement.\n",
        "Trillian sat hunched over a clump of instruments reading off figures. Her voice was carried round the Tannoy system of the whole ship.\n",
        "\"Five to one against and falling ...\" she said, \"four to one against and falling ... three to one ... two ... one ... probability factor of one to one ... we have normality, I repeat we have normality.\" She turned her microphone off - then turned it back on, with a\n",
        "\n",
        "92 / DOUGLAS ADAMS\n",
        "slight smile and continued: \"Anything you still can't cope with is therefore your own problem. Please relax. You will be sent for soon.\"\n",
        "Zaphod burst out in annoyance: \"Who are they Trillian?\" Trillian span her seat round to face him and shrugged.\n",
        "\"Just a couple of guys we seem to have picked up in open space,\" she said. \"Section ZZ9 Plural Z Alpha.\"\n",
        "\"Yeah, well that's a very sweet thought Trillian,\" complained Zaphod, \"but do you really think it's wise under the circumstances? I mean, here we are on the run and everything, we must have the police of half the Galaxy after us by now, and we stop to pick up hitch hikers. OK, so ten out of ten for style, but minus several million for good thinking, yeah?\"\n",
        "He tapped irritably at a control panel. Trillian quietly moved his hand before he tapped anything important. Whatever Zaphod's qualities of mind might include - dash, bravado, conceit - he was mechanically inept and could easily blow the ship up with an extravagant gesture. Trillian had come to suspect that the main reason why he had had such a wild and successful life that he never really understood the significance of anything he did.\n",
        "\"Zaphod,\" she said patiently, \"they were floating unprotected in open space ... you wouldn't want them to have died would you?\"\n",
        "\"Well, you know ... no. Not as such, but ...\"\n",
        "\"Not as such? Not die as such? But?\" Trillian cocked her head on one side.\n",
        "\"Well, maybe someone else might have picked them up later.\"\n",
        "\n",
        "THE HITCHHIKER'S GUIDE TO THE GALAXY / 93 \"A second later and they would have been dead.\"\n",
        "\"Yeah, so if you'd taken the trouble to think about the problem a bit longer it would have gone away.\"\n",
        "\"You'd been happy to let them die?\"\n",
        "\"Well, you know, not happy as such, but ...\"\n",
        "\"Anyway,\" said Trillian, turning back to the controls, \"I didn't pick them up.\"\n",
        "\"What do you mean? Who picked them up then?\" \"The ship did.\"\n",
        "\"Huh?\"\n",
        "\"The ship did. All by itself.\"\n",
        "\"Huh?\" \"Whilst we were in Improbability Drive.\" \"But that's incredible.\"\n",
        "\"No Zaphod. Just very very improbable.\"\n",
        "\"Er, yeah.\"\n",
        "\"Look Zaphod,\" she said, patting his arm, \"don't worry about the aliens. They're just a couple of guys I expect. I'll send the robot down to get them and bring them up here. Hey Marvin!\"\n",
        "In the corner, the robot's head swung up sharply, but then wobbled about imperceptibly. It pulled itself up to its feet as if it was about five pounds heavier that it actually was, and made what an outside observer would have thought was a heroic effort\n",
        "\n",
        "94 / DOUGLAS ADAMS\n",
        "to cross the room. It stopped in front of Trillian and seemed to stare through her left shoulder.\n",
        "\"I think you ought to know I'm feeling very depressed,\" it said. Its voice was low and hopeless.\n",
        "\"Oh God,\" muttered Zaphod and slumped into a seat.\n",
        "\"Well,\" said Trillian in a bright compassionate tone, \"here's something to occupy you and keep your mind off things.\"\n",
        "\"It won't work,\" droned Marvin, \"I have an exceptionally large mind.\"\n",
        "\"Marvin!\" warned Trillian.\n",
        "\"Alright,\" said Marvin, \"what do you want me to do?\"\n",
        "\"Go down to number two entry bay and bring the two aliens up here under surveillance.\"\n",
        "With a microsecond pause, and a finely calculated micromodulation of pitch and timbre - nothing you could actually take offence at - Marvin managed to convey his utter contempt and horror of all things human.\n",
        "\"Just that?\" he said.\n",
        "\"Yes,\" said Trillian firmly.\n",
        "\"I won't enjoy it,\" said Marvin.\n",
        "Zaphod leaped out of his seat.\n",
        "\"She's not asking you to enjoy it,\" he shouted, \"just do it will you?\"\n",
        "\n",
        "THE HITCHHIKER'S GUIDE TO THE GALAXY / 95\n",
        "\"Alright,\" said Marvin like the tolling of a great cracked bell, \"I'll do it.\"\n",
        "\"Good ...\" snapped Zaphod, \"great ... thank you ...\"\n",
        "Marvin turned and lifted his flat-topped triangular red eyes up towards him.\n",
        "\"I'm not getting you down at all am I?\" he said pathetically.\n",
        "\"No no Marvin,\" lilted Trillian, \"that's just fine, really ...\"\n",
        "\"I wouldn't like to think that I was getting you down.\"\n",
        "\"No, don't worry about that,\" the lilt continued, \"you just act as comes naturally and everything will be just fine.\"\n",
        "\"You're sure you don't mind?\" probed Marvin.\n",
        "\"No no Marvin,\" lilted Trillian, \"that's just fine, really ... just part of life.\"\n",
        "\"Marvin flashed him an electronic look.\n",
        "\"Life,\" said Marvin, \"don't talk to me about life.\"\n",
        "He turned hopelessly on his heel and lugged himself out of the cabin. With a satisfied hum and a click the door closed behind him\n",
        "\"I don't think I can stand that robot much longer Zaphod,\" growled Trillian.\n",
        "The Encyclopaedia Galactica defines a robot as a mechanical apparatus designed to do the work of a man. The marketing\n",
        "\n",
        "96 / DOUGLAS ADAMS\n",
        "division of the Sirius Cybernetics Corporation defines a robot as \"Your Plastic Pal Who's Fun To Be With.\"\n",
        "The Hitch Hiker's Guide to the Galaxy defines the marketing division of the Sirius Cybernetics Corporation as \"a bunch of mindless jerks who'll be the first against the wall when the revolution comes,\" with a footnote to the effect that the editors would welcome applications from anyone interested in taking over the post of robotics correspondent.\n",
        "Curiously enough, an edition of the Encyclopaedia Galactica that had the good fortune to fall through a time warp from a thousand years in the future defined the marketing division of the Sirius Cybernetics Corporation as \"a bunch of mindless jerks who were the first against the wall when the revolution came.\"\n",
        "The pink cubicle had winked out of existence, the monkeys had sunk away to a better dimension. Ford and Arthur found themselves in the embarkation area of the ship. It was rather smart.\n",
        "\"I think the ship's brand new,\" said Ford.\n",
        "\"How can you tell?\" asked Arthur. \"Have you got some exotic device for measuring the age of metal?\"\n",
        "\"No, I just found this sales brochure lying on the floor. It's a lot of `the Universe can be yours' stuff. Ah! Look, I was right.\"\n",
        "Ford jabbed at one of the pages and showed it to Arthur. \"It says: Sensational new breakthrough in Improbability Physics. As soon as the ship's drive reaches Infinite Improbability it passes through every point in the Universe. Be the envy of other major governments. Wow, this is big league stuff.\"\n",
        "\n",
        "THE HITCHHIKER'S GUIDE TO THE GALAXY / 97\n",
        "Ford hunted excitedly through the technical specs of the ship, occasionally gasping with astonishment at what he read - clearly Galactic astrotechnology had moved ahead during the years of his exile.\n",
        "Arthur listened for a short while, but being unable to understand the vast majority of what Ford was saying he began to let his mind wander, trailing his fingers along the edge of an incomprehensible computer bank, he reached out and pressed an invitingly large red button on a nearby panel. The panel lit up with the words Please do not press this button again. He shook himself.\n",
        "\"Listen,\" said Ford, who was still engrossed in the sales brochure, \"they make a big thing of the ship's cybernetics. A new generation of Sirius Cybernetics Corporation robots and computers, with the new GPP feature.\"\n",
        "\"GPP feature?\" said Arthur. \"What's that?\" \"Oh, it says Genuine People Personalities.\" \"Oh,\" said Arthur, \"sounds ghastly.\"\n",
        "A voice behind them said, \"It is.\" The voice was low and hopeless and accompanied by a slight clanking sound. They span round and saw an abject steel man standing hunched in the doorway.\n",
        "\"What?\" they said.\n",
        "\"Ghastly,\" continued Marvin, \"it all is. Absolutely ghastly. Just don't even talk about it. Look at this door,\" he said, stepping through it. The irony circuits cut into his voice modulator as he mimicked the style of the sales brochure. \"All the doors in this spaceship have a cheerful and sunny disposition. It is their\n",
        "\n",
        "98 / DOUGLAS ADAMS\n",
        "pleasure to open for you, and their satisfaction to close again with the knowledge of a job well done.\"\n",
        "As the door closed behind them it became apparent that it did indeed have a satisfied sigh-like quality to it. \"Hummmmmmmyummmmmmm ah!\" it said.\n",
        "Marvin regarded it with cold loathing whilst his logic circuits chattered with disgust and tinkered with the concept of directing physical violence against it Further circuits cut in saying, Why bother? What's the point? Nothing is worth getting involved in. Further circuits amused themselves by analysing the molecular components of the door, and of the humanoids' brain cells. For a quick encore they measured the level of hydrogen emissions in the surrounding cubic parsec of space and then shut down again in boredom. A spasm of despair shook the robot's body as he turned.\n",
        "\"Come on,\" he droned, \"I've been ordered to take you down to the bridge. Here I am, brain the size of a planet and they ask me to take you down to the bridge. Call that job satisfaction? 'Cos I don't.\"\n",
        "He turned and walked back to the hated door.\n",
        "\"Er, excuse me,\" said Ford following after him, \"which government owns this ship?\"\n",
        "Marvin ignored him.\n",
        "\"You watch this door,\" he muttered, \"it's about to open again. I can tell by the intolerable air of smugness it suddenly generates.\"\n",
        "With an ingratiating little whine the door slit open again and Marvin stomped through.\n",
        "\n",
        "THE HITCHHIKER'S GUIDE TO THE GALAXY / 99 \"Come on,\" he said.\n",
        "The others followed quickly and the door slit back into place with pleased little clicks and whirrs.\n",
        "\"Thank you the marketing division of the Sirius Cybernetics Corporation,\" said Marvin and trudged desolately up the gleaming curved corridor that stretched out before them. \"Let's build robots with Genuine People Personalities,\" they said. So they tried it out with me. I'm a personality prototype. You can tell can't you?\"\n",
        "Ford and Arthur muttered embarrassed little disclaimers.\n",
        "\"I hate that door,\" continued Marvin. \"I'm not getting you down at all am I?\"\n",
        "\"Which government ...\" started Ford again.\n",
        "\"No government owns it,\" snapped the robot, \"it's been stolen.\" \"Stolen?\"\n",
        "\"Stolen?\" mimicked Marvin.\n",
        "\"Who by?\" asked Ford.\n",
        "\"Zaphod Beeblebrox.\"\n",
        "Something extraordinary happened to Ford's face. At least five entirely separate and distinct expressions of shock and amazement piled up on it in a jumbled mess. His left leg, which was in mid stride, seemed to have difficulty in finding the floor again. He stared at the robot and tried to entangle some dartoid muscles.\n",
        "\n",
        "100 / DOUGLAS ADAMS \"Zaphod Beeblebrox ...?\" he said weakly.\n",
        "\"Sorry, did I say something wrong?\" said Marvin, dragging himself on regardless. \"Pardon me for breathing, which I never do anyway so I don't know why I bother to say it, oh God I'm so depressed. Here's another of those self-satisfied door. Life! Don't talk to me about life.\" \"No one ever mentioned it,\" muttered Arthur irritably. \"Ford, are you alright?\"\n",
        "Ford stared at him. \"Did that robot say Zaphod Beeblebrox?\" he said.\n",
        "\n",
        "THE HITCHHIKER'S GUIDE TO THE GALAXY / 101\n",
        "A loud clatter of gunk music flooded through the Heart of Gold cabin as Zaphod searched the sub-etha radio wavebands for news of himself. The machine was rather difficult to operate. For years radios had been operated by means of pressing buttons and turning dials; then as the technology became more sophisticated the controls were made touch-sensitive - you merely had to brush the panels with your fingers; now all you had to do was wave your hand in the general direction of the components and hope. It saved a lot of muscular expenditure of course, but meant that you had to sit infuriatingly still if you wanted to keep listening to the same programme.\n",
        "Zaphod waved a hand and the channel switched again. More gunk music, but this time it was a background to a news announcement. The news was always heavily edited to fit the rhythms of the music.\n",
        "\"... and news brought to you here on the sub-etha wave band, broadcasting around the galaxy around the clock,\" squawked a voice, \"and we'll be saying a big hello to all intelligent life forms everywhere ... and to everyone else out there, the secret is to bang the rocks together, guys. And of course, the big news story tonight is the sensational theft of the new Improbability Drive prototype ship by none other than Galactic President Zaphod Beeblebrox. And the question everyone's asking is ... has the big Z finally flipped? Beeblebrox, the man who invented the Pan Galactic Gargle Blaster, ex-confidence trickster, once described by Eccentrica Gallumbits as the Best Bang since the Big One, and recently voted the Wort Dressed Sentinent Being in the Known Universe for the seventh time ... has he got an answer this time? We asked his private brain care specialist Gag Halfrunt ...\" The music swirled and dived for a moment. Another voice broke in, presumably Halfrunt. He said: \"Vell, Zaphod's jist zis guy you\n",
        "\n",
        "102 / DOUGLAS ADAMS\n",
        "know?\" but got no further because an electric pencil flew across the cabin and through the radio's on/off sensitive airspace. Zaphod turned and glared at Trillian - she had thrown the pencil.\n",
        "\"Hey,\" he said, what do you do that for?\"\n",
        "Trillian was tapping her fingers on a screenful of figures.\n",
        "\"I've just thought of something,\" she said.\n",
        "\"Yeah? Worth interrupting a news bulletin about me for?\"\n",
        "\"You hear enough about yourself as it is.\"\n",
        "\"I'm very insecure. We know that.\" \"Can we drop your ego for a moment? This is important.\"\n",
        "\"If there's anything more important than my ego around, I want it caught and shot now.\" Zaphod glared at her again, then laughed.\n",
        "\"Listen,\" she said, \"we picked up those couple of guys ...\" \"What couple of guys?\"\n",
        "\"The couple of guys we picked up.\"\n",
        "\"Oh, yeah,\" said Zaphod, \"those couple of guys.\"\n",
        "\"We picked them up in sector ZZ 9 Plural Z Alpha.\" \"Yeah?\" said Zaphod and blinked.\n",
        "Trillian said quietly, \"Does that mean anything to you?\"\n",
        "\n",
        "THE HITCHHIKER'S GUIDE TO THE GALAXY / 103\n",
        "\"Mmmmm,\" said Zaphod, \"ZZ 9 Plural Z Alpha. ZZ 9 Plural Z Alpha?\"\n",
        "\"Well?\" said Trillian.\n",
        "\"Er ... what does the Z mean?\" said Zaphod. \"Which one?\"\n",
        "\"Any one.\"\n",
        "One of the major difficulties Trillian experienced in her relationship with Zaphod was learning to distinguish between him pretending to be stupid just to get people off their guard, pretending to be stupid because he couldn't be bothered to think and wanted someone else to do it for him, pretending to be outrageously stupid to hide the fact that he actually didn't understand what was going on, and really being genuinely stupid. He was renowned for being amazingly clever and quite clearly was so - but not all the time, which obviously worried him, hence the act. He proffered people to be puzzled rather than contemptuous. This above all appeared to Trillian to be genuinely stupid, but she could no longer be bothered to argue about it.\n",
        "She sighed and punched up a star map on the visiscreen so she could make it simple for him, whatever his reasons for wanting it to be that way.\n",
        "\"There,\" she pointed, \"right there.\" \"Hey ... Yeah!\" said Zaphod. \"Well?\" she said.\n",
        "\n",
        "104 / DOUGLAS ADAMS\n",
        "\"Well what?\"\n",
        "Parts of the inside of her head screamed at other parts of the inside of her head. She said, very calmly, \"It's the same sector you originally picked me up in.\"\n",
        "He looked at her and then looked back at the screen. \"Hey, yeah,\" he said, \"now that is wild. We should have zapped straight into the middle of the Horsehead Nebula. How did we come to be there? I mean that's nowhere.\"\n",
        "She ignored this.\n",
        "\"Improbability Drive,\" she said patiently. \"You explained it to me yourself. We pass through every point in the Universe, you know that.\"\n",
        "\"Yeah, but that's one wild coincidence isn't it?\"\n",
        "\"Yes.\"\n",
        "\"Picking someone up at that point? Out of the whole of the Universe to choose from? That's just too ... I want to work this out. Computer!\"\n",
        "The Sirius Cybernetics Corporation Shipboard Computer which controlled and permeated every particle of the ship switched into communication mode.\n",
        "\"Hi there!\" it said brightly and simultaneously spewed out a tiny ribbon of ticker tape just for the record. The ticker tape said, Hi there!\n",
        "\"Oh God,\" said Zaphod. He hadn't worked with this computer for long but had already learned to loathe it.\n",
        "\n",
        "THE HITCHHIKER'S GUIDE TO THE GALAXY / 105\n",
        "The computer continued, brash and cheery as if it was selling detergent.\n",
        "\"I want you to know that whatever your problem, I am here to help you solve it.\"\n",
        "\"Yeah yeah,\" said Zaphod. \"Look, I think I'll just use a piece of paper.\"\n",
        "\"Sure thing,\" said the computer, spilling out its message into a waste bin at the same time, \"I understand. If you ever want ...\"\n",
        "\"Shut up!\" said Zaphod, and snatching up a pencil sat down next to Trillian at the console.\n",
        "\"OK, OK ...\" said the computer in a hurt tone of voice and closed down its speech channel again.\n",
        "Zaphod and Trillian pored over the figures that the Improbability flight path scanner flashed silently up in front of them.\n",
        "\"Can we work out,\" said Zaphod, \"from their point of view what the Improbability of their rescue was?\"\n",
        "\"Yes, that's a constant\", said Trillian, \"two to the power of two hundred and seventy-six thousand seven hundred and nine to one against.\"\n",
        "\"That's high. They're two lucky lucky guys.\" \"Yes.\"\n",
        "\"But relative to what we were doing when the ship picked them up ...\"\n",
        "\n",
        "106 / DOUGLAS ADAMS\n",
        "Trillian punched up the figures. They showed tow-to-the power- of-Infinity-minus-one (an irrational number that only has a conventional meaning in Improbability physics).\n",
        "\"... it's pretty low,\" continued Zaphod with a slight whistle.\n",
        "\"Yes,\" agreed Trillian, and looked at him quizzically.\n",
        "\"That's one big whack of Improbability to be accounted for. Something pretty improbable has got to show up on the balance sheet if it's all going to add up into a pretty sum.\"\n",
        "Zaphod scribbled a few sums, crossed them out and threw the pencil away.\n",
        "\"Bat's dots, I can't work it out.\" \"Well?\"\n",
        "Zaphod knocked his two heads together in irritation and gritted his teeth.\n",
        "\"OK,\" he said. \"Computer!\"\n",
        "The voice circuits sprang to life again.\n",
        "\"Why hello there!\" they said (ticker tape, ticker tape). \"All I want to do is make your day nicer and nicer and nicer ...\"\n",
        "\"Yeah well shut up and work something out for me.\"\n",
        "\"Sure thing,\" chattered the computer, \"you want a probability forecast based on ...\"\n",
        "\"Improbability data, yeah.\"\n",
        "\n",
        "THE HITCHHIKER'S GUIDE TO THE GALAXY / 107\n",
        "\"OK,\" the computer continued. \"Here's an interesting little notion. Did you realize that most people's lives are governed by telephone numbers?\"\n",
        "A pained look crawled across one of Zaphod's faces and on to the other one.\n",
        "\"Have you flipped?\" he said.\n",
        "\"No, but you will when I tell you that ...\"\n",
        "Trillian gasped. She scrabbled at the buttons on the Improbability flight path screen.\n",
        "\"Telephone number?\" she said. \"Did that thing say telephone number?\" Numbers flashed up on the screen.\n",
        "The computer had paused politely, but now it continued. \"What I was about to say was that ...\"\n",
        "\"Don't bother please,\" said Trillian.\n",
        "\"Look, what is this?\" said Zaphod.\n",
        "\"I don't know,\" said Trillian, \"but those aliens - they're on the way up to the bridge with that wretched robot. Can we pick them up on any monitor cameras?\"\n",
        "\n",
        "108 / DOUGLAS ADAMS\n",
        "Marvin trudged on down the corridor, still moaning.\n",
        "\"... and then of course I've got this terrible pain in all the diodes down my left hand side ...\"\n",
        "\"No?\" said Arthur grimly as he walked along beside him. \"Really?\"\n",
        "\"Oh yes,\" said Marvin, \"I mean I've asked for them to be replaced but no one ever listens.\"\n",
        "\"I can imagine.\"\n",
        "Vague whistling and humming noises were coming from Ford. \"Well well well,\" he kept saying to himself, \"Zaphod Beeblebrox ...\"\n",
        "Suddenly Marvin stopped, and held up a hand. \"You know what's happened now of course?\"\n",
        "\"No, what?\" said Arthur, who didn't what to know. \"We've arrived at another of those doors.\"\n",
        "There was a sliding door let into the side of the corridor. Marvin eyed it suspiciously.\n",
        "\"Well?\" said Ford impatiently. \"Do we go through?\"\n",
        "\"Do we go through?\" mimicked Marvin. \"Yes. This is the entrance to the bridge. I was told to take you to the bridge. Probably the highest demand that will be made on my intellectual capacities today I shouldn't wonder.\"\n",
        "\n",
        "THE HITCHHIKER'S GUIDE TO THE GALAXY / 109\n",
        "Slowly, with great loathing, he stepped towards the door, like a hunter stalking his prey. Suddenly it slid open.\n",
        "\"Thank you,\" it said, \"for making a simple door very happy.\"\n",
        "Deep in Marvin's thorax gears ground.\n",
        "\"Funny,\" he intoned funerally, \"how just when you think life can't possibly get any worse it suddenly does.\" He heaved himself through the door and left Ford and Arthur staring at each other and shrugging their shoulders. From inside they heard Marvin's voice again.\n",
        "\"I suppose you want to see the aliens now,\" he said. \"Do you want me to sit in a corner and rust, or just fall apart where I'm standing?\"\n",
        "\"Yeah, just show them in would you Marvin?\" came another voice.\n",
        "Arthur looked at Ford and was astonished to see him laughing. \"What's ...?\"\n",
        "\"Shhh,\" said Ford, \"come in.\"\n",
        "He stepped through into the bridge.\n",
        "Arthur followed him in nervously and was astonished to see a man lolling back in a chair with his feet on a control console picking the teeth in his right-hand head with his left hand. The right-hand head seemed to be thoroughly preoccupied with this task, but the left-hand one was grinning a broad, relaxed, nonchalant grin. The number of things that Arthur couldn't\n",
        "\n",
        "110 / DOUGLAS ADAMS\n",
        "believe he was seeing was fairly large. His jaw flapped about at a loose end for a while.\n",
        "The peculiar man waved a lazy wave at Ford and with an appalling affectation of nonchalance said, \"Ford, hi, how are you? Glad you could drop in.\"\n",
        "Ford was not going to be outcooled.\n",
        "\"Zaphod,\" he drawled, \"great to see you, you're looking well, the extra arm suits you. Nice ship you've stolen.\"\n",
        "Arthur goggled at him.\n",
        "\"You mean you know this guy?\" he said, waving a wild finger at Zaphod.\n",
        "\"Know him!\" exclaimed Ford, \"he's ...\" he paused, and decided to do the introductions the other way round.\n",
        "\"Oh, Zaphod, this is a friend of mine, Arthur Dent,\" he said, \"I saved him when his planet blew up.\"\n",
        "\"Oh sure,\" said Zaphod, \"hi Arthur, glad you could make it.\" His right-hand head looked round casually, said \"hi\" and went back to having his teeth picked.\n",
        "Ford carried on. \"And Arthur,\" he said, \"this is my semi-cousin Zaphod Beeb ...\"\n",
        "\"We've met,\" said Arthur sharply.\n",
        "When you're cruising down the road in the fast lane and you lazily sail past a few hard driving cars and are feeling pretty pleased with yourself and then accidentally change down from fourth to first instead of third thus making your engine leap out\n",
        "\n",
        "THE HITCHHIKER'S GUIDE TO THE GALAXY / 111\n",
        "of your bonnet in a rather ugly mess, it tends to throw you off your stride in much the same way that this remark threw Ford Prefect off his.\n",
        "\"Err ... what?\"\n",
        "\"I said we've met.\"\n",
        "Zaphod gave an awkward start of surprise and jabbed a gum sharply.\n",
        "\"Hey ... er, have we? Hey ... er ...\"\n",
        "Ford rounded on Arthur with an angry flash in his eyes. Now he felt he was back on home ground he suddenly began to resent having lumbered himself with this ignorant primitive who knew as much about the affairs of the Galaxy as an Ilford-based gnat knew about life in Peking.\n",
        "\"What do you mean you've met?\" he demanded. \"This is Zaphod Beeblebrox from Betelgeuse Five you know, not bloody Martin Smith from Croydon.\"\n",
        "\"I don't care,\" said Arthur coldly. We've met, haven't we Zaphod Beeblebrox - or should I say ... Phil?\"\n",
        "\"What!\" shouted Ford.\n",
        "\"You'll have to remind me,\" said Zaphod. \"I've a terrible memory for species.\"\n",
        "\"It was at a party,\" pursued Arthur.\n",
        "\"Yeah, well I doubt that,\" said Zaphod. \"Cool it will you Arthur!\" demanded Ford.\n",
        "\n",
        "112 / DOUGLAS ADAMS\n",
        "Arthur would not be deterred. \"A party six months ago. On Earth ... England ...\"\n",
        "Zaphod shook his head with a tight-lipped smile. \"London,\" insisted Arthur, \"Islington.\"\n",
        "\"Oh,\" said Zaphod with a guilty start, \"that party.\"\n",
        "This wasn't fair on Ford at all. He looked backwards and forwards between Arthur and Zaphod. \"What?\" he said to Zaphod. \"You don't mean to say you've been on that miserable planet as well do you?\"\n",
        "\"No, of course not,\" said Zaphod breezily. \"Well, I may have just dropped in briefly, you know, on my way somewhere ...\"\n",
        "\"But I was stuck there for fifteen years!\"\n",
        "\"Well I didn't know that did I?\" \"But what were you doing there?\"\n",
        "\"Looking about, you know.\"\n",
        "\"He gatecrashed a party,\" persisted Arthur, trembling with anger, \"a fancy dress party ...\"\n",
        "\"It would have to be, wouldn't it?\" said Ford.\n",
        "\"At this party,\" persisted Arthur, \"was a girl ... oh well, look it doesn't matter now. The whole place has gone up in smoke anyway ...\"\n",
        "\"I wish you'd stop sulking about that bloody planet,\" said Ford. \"Who was the lady?\"\n",
        "\n",
        "THE HITCHHIKER'S GUIDE TO THE GALAXY / 113\n",
        "\"Oh just somebody. Well alright, I wasn't doing very well with her. I'd been trying all evening. Hell, she was something though. Beautiful, charming, devastatingly intelligent, at last I'd got her to myself for a bit and was plying her with a bit of talk when this friend of yours barges up and says Hey doll, is this guy boring you? Why don't you talk to me instead? I'm from a different planet.\" I never saw her again.\"\n",
        "\"Zaphod?\" exclaimed Ford.\n",
        "\"Yes,\" said Arthur, glaring at him and trying not to feel foolish. \"He only had the two arms and the one head and he called himself Phil, but ...\"\n",
        "\"But you must admit he did turn out to be from another planet,\" said Trillian wandering into sight at the other end of the bridge. She gave Arthur a pleasant smile which settled on him like a ton of bricks and then turned her attention to the ship's controls again.\n",
        "There was silence for a few seconds, and then out of the scrambled mess of Arthur's brain crawled some words.\n",
        "\"Tricia McMillian?\" he said. \"What are you doing here?\"\n",
        "\"Same as you,\" she said, \"I hitched a lift. After all with a degree in Maths and another in astrophysics what else was there to do? It was either that or the dole queue again on Monday.\"\n",
        "\"Infinity minus one,\" chattered the computer, \"Improbability sum now complete.\"\n",
        "Zaphod looked about him, at Ford, at Arthur, and then at Trillian.\n",
        "\n",
        "114 / DOUGLAS ADAMS\n",
        "\"Trillian,\" he said, \"is this sort of thing going to happen every time we use the Improbability drive?\"\n",
        "\"Very probably, I'm afraid,\" she said.\n",
        "\n",
        "THE HITCHHIKER'S GUIDE TO THE GALAXY / 115\n",
        "The Heart of Gold fled on silently through the night of space, now on conventional photon drive. Its crew of four were ill at ease knowing that they had been brought together not of their own volition or by simple coincidence, but by some curious principle of physics - as if relationships between people were susceptible to the same laws that governed the relationships between atoms and molecules.\n",
        "As the ship's artificial night closed in they were each grateful to retire to separate cabins and try to rationalize their thoughts.\n",
        "Trillian couldn't sleep. She sat on a couch and stared at a small cage which contained her last and only links with Earth - two white mice that she had insisted Zaphod let her bring. She had expected not to see the planet again, but she was disturbed by her negative reaction to the planet's destruction. It seemed remote and unreal and she could find no thoughts to think about it. She watched the mice scurrying round the cage and running furiously in their little plastic treadwheels till they occupied her whole attention. Suddenly she shook herself and went back to the bridge to watch over the tiny flashing lights and figures that charted the ship's progress through the void. She wished she knew what it was she was trying not to think about.\n",
        "Zaphod couldn't sleep. He also wished he knew what it was that he wouldn't let himself think about. For as long as he could remember he'd suffered from a vague nagging feeling of being not all there. Most of the time he was able to put this thought aside and not worry about it, but it had been re-awakened by the sudden inexplicable arrival of Ford Prefect and Arthur Dent. Somehow it seemed to conform to a pattern that he couldn't see.\n",
        "Ford couldn't sleep. He was too excited about being back on the road again. Fifteen years of virtual imprisonment were over, just\n",
        "\n",
        "116 / DOUGLAS ADAMS\n",
        "as he was finally beginning to give up hope. Knocking about with Zaphod for a bit promised to be a lot of fun, though there seemed to be something faintly odd about his semi-cousin that he couldn't put his finger on. The fact that he had become President of the Galaxy was frankly astonishing, as was the manner of his leaving the post. Was there a reason behind it? There would be no point in asking Zaphod, he never appeared to have a reason for anything he did at all: he had turned unfathomably into an art form. He attacked everything in life with a mixture of extraordinary genius and naive incompetence and it was often difficult to tell which was which.\n",
        "Arthur slept: he was terribly tired.\n",
        "There was a tap at Zaphod's door. It slid open. \"Zaphod ...?\"\n",
        "\"Yeah?\"\n",
        "\"I think we just found what you came to look for.\"\n",
        "\"Hey, yeah?\" Ford gave up the attempt to sleep. In the corner of his cabin was a small computer screen and keyboard. He sat at it for a while and tried to compose a new entry for the Guide on the subject of Vogons but couldn't think of anything vitriolic enough so he gave that up too, wrapped a robe round himself and went for a walk to the bridge.\n",
        "As he entered he was surprised to see two figures hunched excitedly over the instruments.\n",
        "\"See? The ship's about to move into orbit,\" Trillian was saying. \"There's a planet out there. It's at the exact coordinates you predicted.\"\n",
        "\n",
        "THE HITCHHIKER'S GUIDE TO THE GALAXY / 117 Zaphod heard a noise and looked up.\n",
        "\"Ford!\" he hissed. \"Hey, come and take a look at this.\"\n",
        "Ford went and had a look at it. It was a series of figures flashing over a screen.\n",
        "\"You recognize those Galactic coordinates?\" said Zaphod.\n",
        "\"No.\"\n",
        "\"I'll give you a clue. Computer!\"\n",
        "\"Hi gang!\" enthused the computer. \"This is getting real sociable isn't it?\"\n",
        "\"Shut up,\" said Zaphod, \"and show up the screens.\"\n",
        "Light on the bridge sank. Pinpoints of light played across the consoles and reflected in four pairs of eyes that stared up at the external monitor screens.\n",
        "There was absolutely nothing on them. \"Recognize that?\" whispered Zaphod. Ford frowned.\n",
        "\"Er, no,\" he said.\n",
        "\"What do you see?\" \"Nothing.\"\n",
        "\"Recognize it?\"\n",
        "\"What are you talking about?\"\n",
        "\n",
        "118 / DOUGLAS ADAMS\n",
        "\"We're in the Horsehead Nebula. One whole vast dark cloud.\"\n",
        "\"And I was meant to recognize that from a blank screen?\"\n",
        "\"Inside a dark nebula is the only place in the Galaxy you'd see a dark screen.\" \"Very good.\"\n",
        "Zaphod laughed. He was clearly very excited about something, almost childishly so.\n",
        "\"Hey, this is really terrific, this is just far too much!\"\n",
        "\"What's so great about being stuck in a dust cloud?\" said Ford.\n",
        "\"What would you reckon to find here?\" urged Zaphod.\n",
        "\"Nothing.\"\n",
        "\"No stars? No planets?\"\n",
        "\"No.\"\n",
        "\"Computer!\" shouted Zaphod, \"rotate angle of vision through one- eighty degrees and don't talk about it!\"\n",
        "For a moment it seemed that nothing was happening, then a brightness glowed at the edge of the huge screen. A red star the size of a small plate crept across it followed quickly by another one - a binary system. Then a vast crescent sliced into the corner of the picture - a red glare shading away into the deep black, the night side of the planet.\n",
        "\"I've found it!\" cried Zaphod, thumping the console. \"I've found it!\"\n",
        "Ford stared at it in astonishment.\n",
        "\n",
        "THE HITCHHIKER'S GUIDE TO THE GALAXY / 119 \"What is it?\" he said.\n",
        "\"That ...\" said Zaphod, \"is the most improbable planet that ever existed.\"\n",
        "\n",
        "120 / DOUGLAS ADAMS\n",
        "(Excerpt from The Hitch Hiker's Guide to the Galaxy, Page 634784, Section 5a, Entry: Magrathea)\n",
        "Far back in the mists of ancient time, in the great and glorious days of the former Galactic Empire, life was wild, rich and largely tax free.\n",
        "Mighty starships plied their way between exotic suns, seeking adventure and reward amongst the furthest reaches of Galactic space. In those days spirits were brave, the stakes were high, men were real men, women were real women, and small furry creatures from Alpha Centauri were real small furry creatures from Alpha Centauri. And all dared to brave unknown terrors, to do mighty deeds, to boldly split infinitives that no man had split before - and thus was the Empire forged.\n",
        "Many men of course became extremely rich, but this was perfectly natural and nothing to be ashamed of because no one was really poor - at least no one worth speaking of. And for all the richest and most successful merchants life inevitably became rather dull and niggly, and they began to imagine that this was therefore the fault of the worlds they'd settled on - none of them was entirely satisfactory: either the climate wasn't quite right in the later part of the afternoon, or the day was half an hour too long, or the sea was exactly the wrong shade of pink.\n",
        "And thus were created the conditions for a staggering new form of specialist industry: custom-made luxury planet building. The home of this industry was the planet Magrathea, where hyperspatial engineers sucked matter through white holes in space to form it into dream planets - gold planets, platinum planets, soft rubber planets with lots of earthquakes - all lovingly made to meet the exacting standards that the Galaxy's richest men naturally came to expect.\n",
        "\n",
        "THE HITCHHIKER'S GUIDE TO THE GALAXY / 121\n",
        "But so successful was this venture that Magrathea itself soon became the richest planet of all time and the rest of the Galaxy was reduced to abject poverty. And so the system broke down, the Empire collapsed, and a long sullen silence settled over a billion worlds, disturbed only by the pen scratchings of scholars as they laboured into the night over smug little treaties on the value of a planned political economy.\n",
        "Magrathea itself disappeared and its memory soon passed into the obscurity of legend.\n",
        "In these enlightened days of course, no one believes a word of it.\n",
        "\n",
        "122 / DOUGLAS ADAMS\n",
        "Arthur awoke to the sound of argument and went to the bridge. Ford was waving his arms about.\n",
        "\"You're crazy, Zaphod,\" he was saying, \"Magrathea is a myth, a fairy story, it's what parents tell their kids about at night if they want them to grow up to become economists, it's ...\"\n",
        "\"And that's what we are currently in orbit around,\" insisted Zaphod.\n",
        "\"Look, I can't help what you may personally be in orbit around,\" said Ford, \"but this ship ...\"\n",
        "\"Computer!\" shouted Zaphod.\n",
        "\"Oh no ...\"\n",
        "\"Hi there! This is Eddie your shipboard computer, and I'm feeling just great guys, and I know I'm just going to get a bundle of kicks out of any programme you care to run through me.\"\n",
        "Arthur looked inquiringly at Trillian. She motioned him to come on in but keep quiet.\n",
        "\"Computer,\" said Zaphod, \"tell us again what our present trajectory is.\" \"A real pleasure feller,\" it burbled, \"we are currently in orbit at an altitude of three hundred miles around the legendary planet of Magrathea.\"\n",
        "\"Proving nothing,\" said Ford. \"I wouldn't trust that computer to speak my weight.\"\n",
        "\"I can do that for you, sure,\" enthused the computer, punching out more tickertape. \"I can even work out you personality problems to ten decimal places if it will help.\"\n",
        "\n",
        "THE HITCHHIKER'S GUIDE TO THE GALAXY / 123 Trillian interrupted.\n",
        "\"Zaphod,\" she said, \"any minute now we will be swinging round to the daylight side of this planet,\" adding, \"whatever it turns out to be.\"\n",
        "\"Hey, what do you mean by that? The planet's where I predicted it would be isn't it?\"\n",
        "\"Yes, I know there's a planet there. I'm not arguing with anyone, it's just that I wouldn't know Magrathea from any other lump of cold rock. Dawn's coming up if you want it.\"\n",
        "\"OK, OK,\" muttered Zaphod, \"let's at least give our eyes a good time. Computer!\"\n",
        "\"Hi there! What can I ...\"\n",
        "\"Just shut up and give us a view of the planet again.\"\n",
        "A dark featureless mass once more filled the screens - the planet rolling away beneath them.\n",
        "They watched for a moment in silence, but Zaphod was fidgety with excitement.\n",
        "\"We are now traversing the night side ...\" he said in a hushed voice. The planet rolled on.\n",
        "\"The surface of the planet is now three hundred miles beneath us ...\" he continued. He was trying to restore a sense of occasion to what he felt should have been a great moment. Magrathea! He was piqued by Ford's sceptical reaction. Magrathea!\n",
        "\"In a few seconds,\" he continued, \"we should see ... there!\"\n",
        "\n",
        "124 / DOUGLAS ADAMS\n",
        "The moment carried itself. Even the most seasoned star tramp can't help but shiver at the spectacular drama of a sunrise seen from space, but a binary sunrise is one of the marvels of the Galaxy.\n",
        "Out of the utter blackness stabbed a sudden point of blinding light. It crept up by slight degrees and spread sideways in a thin crescent blade, and within seconds two suns were visible, furnaces of light, searing the black edge of the horizon with white fire. Fierce shafts of colour streaked through the thin atmosphere beneath them. \"The fires of dawn ... !\" breathed Zaphod. \"The twin suns of Soulianis and Rahm ... !\"\n",
        "\"Or whatever,\" said Ford quietly.\n",
        "\"Soulianis and Rahm!\" insisted Zaphod.\n",
        "The suns blazed into the pitch of space and a low ghostly music floated through the bridge: Marvin was humming ironically because he hated humans so much.\n",
        "As Ford gazed at the spectacle of light before them excitement burnt inside him, but only the excitement of seeing a strange new planet, it was enough for him to see it as it was. It faintly irritated him that Zaphod had to impose some ludicrous fantasy on to the scene to make it work for him. All this Magrathea nonsense seemed juvenile. Isn't it enough to see that a garden is beautiful without having to believe that there are fairies at the bottom of it too?\n",
        "All this Magrathea business seemed totally incomprehensible to Arthur. He edged up to Trillian and asked her what was going on.\n",
        "\n",
        "THE HITCHHIKER'S GUIDE TO THE GALAXY / 125\n",
        "\"I only know what Zaphod's told me,\" she whispered. \"Apparently Magrathea is some kind of legend from way back which no one seriously believes in. Bit like Atlantis on Earth, except that the legends say the Magratheans used to manufacture planets.\"\n",
        "Arthur blinked at the screens and felt he was missing something important. Suddenly he realized what it was.\n",
        "\"Is there any tea on this spaceship?\" he asked.\n",
        "More of the planet was unfolding beneath them as the Heart of Gold streaked along its orbital path. The suns now stood high in the black sky, the pyrotechnics of dawn were over, and the surface of the planet appeared bleak and forbidding in the common light of day - grey, dusty and only dimly contoured. It looked dead and cold as a crypt. From time to time promising features would appear on the distant horizon - ravines, maybe mountains, maybe even cities - but as they approached the lines would soften and blur into anonymity and nothing would transpire. The planet's surface was blurred by time, by the slow movement of the thin stagnant air that had crept across it for century upon century.\n",
        "Clearly, it was very very old.\n",
        "A moment of doubt came to Ford as he watched the grey landscape move beneath them. The immensity of time worried him, he could feel it as a presence. He cleared his throat.\n",
        "\"Well, even supposing it is ...\" \"It is,\" said Zaphod.\n",
        "\n",
        "126 / DOUGLAS ADAMS\n",
        "\"Which it isn't,\" continued Ford. \"What do you want with it anyway? There's nothing there.\" \"Not on the surface,\" said Zaphod.\n",
        "\"Alright, just supposing there's something. I take it you're not here for the sheer industrial archaeology of it all. What are you after?\"\n",
        "One of Zaphod's heads looked away. The other one looked round to see what the first was looking at, but it wasn't looking at anything very much.\n",
        "\"Well,\" said Zaphod airily, \"it's partly the curiosity, partly a sense of adventure, but mostly I think it's the fame and the money ...\"\n",
        "Ford glanced at him sharply. He got a very strong impression that Zaphod hadn't the faintest idea why he was there at all.\n",
        "\"You know I don't like the look of that planet at all,\" said Trillian shivering.\n",
        "\"Ah, take no notice,\" said Zaphod, \"with half the wealth of the former Galactic Empire stored on it somewhere it can afford to look frumpy.\"\n",
        "Bullshit, thought Ford. Even supposing this was the home of some ancient civilization now gone to dust, even supposing a number of exceedingly unlikely things, there was no way that vast treasures of wealth were going to be stored there in any form that would still have meaning now. He shrugged.\n",
        "\"I think it's just a dead planet,\" he said.\n",
        "\"The suspense is killing me,\" said Arthur testily.\n",
        "\n",
        "THE HITCHHIKER'S GUIDE TO THE GALAXY / 127\n",
        "Stress and nervous tension are now serious social problems in all parts of the Galaxy, and it is in order that this situation should not in any way be exacerbated that the following facts will now be revealed in advance.\n",
        "The planet in question is in fact the legendary Magrathea.\n",
        "The deadly missile attack shortly to be launched by an ancient automatic defence system will result merely in the breakage of three coffee cups and a micecage, the bruising of somebody's upper arm, and the untimely creation and sudden demise of a bowl of petunias and an innocent sperm whale.\n",
        "In order that some sense of mystery should still be preserved, no revelation will yet be made concerning whose upper arm sustained the bruise. This fact may safely be made the subject of suspense since it is of no significance whatsoever.\n",
        "\n",
        "128 / DOUGLAS ADAMS\n",
        "After a fairly shaky start to the day, Arthur's mind was beginning to reassemble itself from the shellshocked fragments the previous day had left him with. He had found a Nutri-Matic machine which had provided him with a plastic cup filled with a liquid that was almost, but not quite, entirely unlike tea. The way it functioned was very interesting. When the Drink button was pressed it made an instant but highly detailed examination of the subject's taste buds, a spectroscopic analysis of the subject's metabolism and then sent tiny experimental signals down the neural pathways to the taste centres of the subject's brain to see what was likely to go down well. However, no one knew quite why it did this because it invariably delivered a cupful of liquid that was almost, but not quite, entirely unlike tea. The Nutri- Matic was designed and manufactured by the Sirius Cybernetics Corporation whose complaints department now covers all the major land masses of the first three planets in the Sirius Tau Star system.\n",
        "Arthur drank the liquid and found it reviving. He glanced up at the screens again and watched a few more hundred miles of barren greyness slide past. It suddenly occurred to him to ask a question which had been bothering him.\n",
        "\"Is it safe?\" he said.\n",
        "\"Magrathea's been dead for five million years,\" said Zaphod, \"of course it's safe. Even the ghosts will have settled down and raised families by now.\" At which point a strange and inexplicable sound thrilled suddenly through the bridge - a noise as of a distant fanfare; a hollow, reedy, insubstantial sound. It preceded a voice that was equally hollow, reedy and insubstantial. The voice said \"Greetings to you ...\"\n",
        "Someone from the dead planet was talking to them.\n",
        "\n",
        "THE HITCHHIKER'S GUIDE TO THE GALAXY / 129 \"Computer!\" shouted Zaphod.\n",
        "\"Hi there!\"\n",
        "\"What the photon is it?\"\n",
        "\"Oh, just some five-million-year-old tape that's being broadcast at us.\"\n",
        "\"A what? A recording?\"\n",
        "\"Shush!\" said Ford. \"It's carrying on.\"\n",
        "The voice was old, courteous, almost charming, but was underscored with quite unmistakable menace.\n",
        "\"This is a recorded announcement,\" it said, \"as I'm afraid we're all out at the moment. The commercial council of Magrathea thanks you for your esteemed visit ...\"\n",
        "(\"A voice from ancient Magrathea!\" shouted Zaphod. \"OK, OK,\" said Ford.)\n",
        "\"... but regrets,\" continued the voice, \"that the entire planet is temporarily closed for business. Thank you. If you would care to leave your name and the address of a planet where you can be contacted, kindly speak when you hear the tone.\" A short buzz followed, then silence.\n",
        "\"They want to get rid of us,\" said Trillian nervously. \"What do we do?\"\n",
        "\"It's just a recording,\" said Zaphod. \"We keep going. Got that, computer?\"\n",
        "\n",
        "130 / DOUGLAS ADAMS\n",
        "\"I got it,\" said the computer and gave the ship an extra kick of speed.\n",
        "They waited.\n",
        "After a second or so came the fanfare once again, and then the voice.\n",
        "\"We would like to assure you that as soon as our business is resumed announcements will be made in all fashionable magazines and colour supplements, when our clients will once again be able to select from all that's best in contemporary geography.\" The menace in the voice took on a sharper edge. \"Meanwhile we thank our clients for their kind interest and would ask them to leave. Now.\"\n",
        "Arthur looked round the nervous faces of his companions.\n",
        "\"Well, I suppose we'd better be going then, hadn't we?\" he suggested.\n",
        "\"Shhh!\" said Zaphod. \"There's absolutely nothing to be worried about.\"\n",
        "\"Then why's everyone so tense?\"\n",
        "\"They're just interested!\" shouted Zaphod. \"Computer, start a descent into the atmosphere and prepare for landing.\"\n",
        "This time the fanfare was quite perfunctory, the voice distinctly cold.\n",
        "\"It is most gratifying,\" it said, \"that your enthusiasm for our planet continues unabated, and so we would like to assure you that the guided missiles currently converging with your ship are\n",
        "\n",
        "THE HITCHHIKER'S GUIDE TO THE GALAXY / 131\n",
        "part of a special service we extend to all of our most enthusiastic clients, and the fully armed nuclear warheads are of course merely a courtesy detail. We look forward to your custom in future lives ... thank you.\"\n",
        "The voice snapped off. \"Oh,\" said Trillian.\n",
        "\"Er ...\" said Arthur. \"Well?\" said Ford.\n",
        "\"Look,\" said Zaphod, \"will you get it into your heads? That's just a recorded message. It's millions of years old. It doesn't apply to us, get it?\" \"What,\" said Trillian quietly, \"about the missiles?\"\n",
        "\"Missiles? Don't make me laugh.\"\n",
        "Ford tapped Zaphod on the shoulder and pointed at the rear screen. Clear in the distance behind them two silver darts were climbing through the atmosphere towards the ship. A quick change of magnification brought them into close focus - two massively real rockets thundering through the sky. The suddenness of it was shocking.\n",
        "\"I think they're going to have a very good try at applying to us,\" said Ford.\n",
        "Zaphod stared at them in astonishment.\n",
        "\"Hey this is terrific!\" he said. \"Someone down there is trying to kill us!\"\n",
        "\"Terrific,\" said Arthur.\n",
        "\n",
        "132 / DOUGLAS ADAMS \"But don't you see what this means?\"\n",
        "\"Yes. We're going to die.\"\n",
        "\"Yes, but apart from that.\"\n",
        "\"Apart from that?\"\n",
        "\"It means we must be on to something!\" \"How soon can we get off it?\"\n",
        "Second by second the image of the missiles on the screen became larger. They had swung round now on to a direct homing course so that all that could be seen of them now was the warheads, head on.\n",
        "\"As a matter of interest,\" said Trillian, \"what are we going to do?\" \"Just keep cool,\" said Zaphod.\n",
        "\"Is that all?\" shouted Arthur.\n",
        "\"No, we're also going to ... er ... take evasive action!\" said Zaphod with a sudden access of panic. \"Computer, what evasive action can we take?\"\n",
        "\"Er, none I'm afraid, guys,\" said the computer.\n",
        "\"... or something,\" said Zaphod, \"... er ...\" he said.\n",
        "\"There seems to be something jamming my guidance system,\" explained the computer brightly, \"impact minus forty-five seconds. Please call me Eddie if it will help you to relax.\"\n",
        "\n",
        "THE HITCHHIKER'S GUIDE TO THE GALAXY / 133\n",
        "Zaphod tried to run in several equally decisive directions simultaneously. \"Right!\" he said. \"Er ... we've got to get manual control of this ship.\"\n",
        "\"Can you fly her?\" asked Ford pleasantly. \"No, can you?\"\n",
        "\"No.\"\n",
        "\"Trillian, can you?\"\n",
        "\"No.\"\n",
        "\"Fine,\" said Zaphod, relaxing. \"We'll do it together.\"\n",
        "\"I can't either,\" said Arthur, who felt it was time he began to assert himself.\n",
        "\"I'd guessed that,\" said Zaphod. \"OK computer, I want full manual control now.\"\n",
        "\"You got it,\" said the computer.\n",
        "Several large desk panels slid open and banks of control consoles sprang up out of them, showering the crew with bits of expanded polystyrene packaging and balls of rolled-up cellophane: these controls had never been used before.\n",
        "Zaphod stared at them wildly.\n",
        "\"OK, Ford,\" he said, \"full retro thrust and ten degrees starboard. Or something ...\"\n",
        "\"Good luck guys,\" chirped the computer, \"impact minus thirty seconds ...\"\n",
        "\n",
        "134 / DOUGLAS ADAMS\n",
        "Ford leapt to the controls - only a few of them made any immediate sense to him so he pulled those. The ship shook and screamed as its guidance rocked jets tried to push it every which way simultaneously. He released half of them and the ship span round in a tight arc and headed back the way it had come, straight towards the oncoming missiles.\n",
        "Air cushions ballooned out of the walls in an instant as everyone was thrown against them. For a few seconds the inertial forces held them flattened and squirming for breath, unable to move. Zaphod struggled and pushed in manic desperation and finally managed a savage kick at a small lever that formed part of the guidance system.\n",
        "The lever snapped off. The ship twisted sharply and rocketed upwards. The crew were hurled violently back across the cabin. Ford's copy of The Hitch Hiker's Guide to the Galaxy smashed into another section of the control console with the combined result that the guide started to explain to anyone who cared to listen about the best ways of smuggling Antarean parakeet glands out of Antares (an Antarean parakeet gland stuck on a small stick is a revolting but much sought after cocktail delicacy and very large sums of money are often paid for them by very rich idiots who want to impress other very rich idiots), and the ship suddenly dropped out of the sky like a stone.\n",
        "It was of course more or less at this moment that one of the crew sustained a nasty bruise to the upper arm. This should be emphasized because, as had already been revealed, they escape otherwise completely unharmed and the deadly nuclear missiles do not eventually hit the ship. The safety of the crew is absolutely assured.\n",
        "\"Impact minus twenty seconds, guys ...\" said the computer.\n",
        "\n",
        "THE HITCHHIKER'S GUIDE TO THE GALAXY / 135 \"Then turn the bloody engines back on!\" bawled Zaphod.\n",
        "\"OK, sure thing, guys,\" said the computer. With a subtle roar the engines cut back in, the ship smoothly flattened out of its dive and headed back towards the missiles again.\n",
        "The computer started to sing.\n",
        "\"When you walk through the storm ...\" it whined nasally, \"hold your head up high ...\"\n",
        "Zaphod screamed at it to shut up, but his voice was lost in the din of what they quite naturally assumed was approaching destruction.\n",
        "\"And don't ... be afraid ... of the dark!\" Eddie wailed.\n",
        "The ship, in flattening out had in fact flattened out upside down and lying on the ceiling as they were it was now totally impossible for any of the crew to reach the guidance systems.\n",
        "\"At the end of the storm ...\" crooned Eddie.\n",
        "The two missiles loomed massively on the screens as they thundered towards the ship.\n",
        "\"... is a golden sky ...\"\n",
        "But by an extraordinarily lucky chance they had not yet fully corrected their flight paths to that of the erratically weaving ship, and they passed right under it.\n",
        "\"And the sweet silver songs of the lark ... Revised impact time fifteen seconds fellas ... Walk on through the wind ...\"\n",
        "\n",
        "136 / DOUGLAS ADAMS\n",
        "The missiles banked round in a screeching arc and plunged back into pursuit.\n",
        "\"This is it,\" said Arthur watching them. \"We are now quite definitely going to die aren't we?\"\n",
        "\"I wish you'd stop saying that,\" shouted Ford.\n",
        "\"Well we are aren't we?\"\n",
        "\"Yes.\" \"Walk on through the rain ...\" sang Eddie.\n",
        "A thought struck Arthur. He struggled to his feet.\n",
        "\"Why doesn't anyone turn on this Improbability Drive thing?\" he said. \"We could probably reach that.\"\n",
        "\"What are you crazy?\" said Zaphod. \"Without proper programming anything could happen.\"\n",
        "\"Does that matter at this stage?\" shouted Arthur.\n",
        "\"Though your dreams be tossed and blown ...\" sand Eddie.\n",
        "Arthur scrambled up on to one end of the excitingly chunky pieces of moulded contouring where the curve of the wall met the ceiling.\n",
        "\"Walk on, walk on, with hope in your heart ...\"\n",
        "\"Does anyone know why Arthur can't turn on the Improbability Drive?\" shouted Trillian.\n",
        "\"And you'll never walk alone ... Impact minus five seconds, it's been great knowing you guys, God bless ... You'll ne ... ver ... walk ... alone!\"\n",
        "\n",
        "THE HITCHHIKER'S GUIDE TO THE GALAXY / 137 \"I said,\" yelled Trillian, \"does anyone know ...\"\n",
        "The next thing that happened was a mid-mangling explosion of noise and light.\n",
        "\n",
        "138 / DOUGLAS ADAMS\n",
        "And the next thing that happened after that was that the Heart of Gold continued on its way perfectly normally with a rather fetchingly redesigned interior. It was somewhat larger, and done out in delicate pastel shades of green and blue. In the centre a spiral staircase, leading nowhere in particular, stood in a spray of ferns and yellow flowers and next to it a stone sundial pedestal housed the main computer terminal. Cunningly deployed lighting and mirrors created the illusion of standing in a conservatory overlooking a wide stretch of exquisitely manicured garden. Around the periphery of the conservatory area stood marble-topped tables on intricately beautiful wrought-iron legs. As you gazed into the polished surface of the marble the vague forms of instruments became visible, and as you touched them the instruments materialized instantly under your hands. Looked at from the correct angles the mirrors appeared to reflect all the required data readouts, though it was far from clear where they were reflected from. It was in fact sensationally beautiful.\n",
        "Relaxing in a wickerwork sun chair, Zaphod Beeblebrox said, \"What the hell happened?\"\n",
        "\"Well I was just saying,\" said Arthur lounging by a small fish pool, \"there's this Improbability Drive switch over here ...\" he waved at where it had been. There was a potted plant there now. \"But where are we?\" said Ford who was sitting on the spiral staircase, a nicely chilled Pan Galactic Gargle Blaster in his hand.\n",
        "\"Exactly where we were, I think ...\" said Trillian, as all about them the mirrors showed them an image of the blighted landscape of Magrathea which still scooted along beneath them.\n",
        "Zaphod leapt out of his seat.\n",
        "\"Then what's happened to the missiles?\" he said.\n",
        "\n",
        "THE HITCHHIKER'S GUIDE TO THE GALAXY / 139 A new and astounding image appeared in the mirrors.\n",
        "\"They would appear,\" said Ford doubtfully, \"to have turned into a bowl of petunias and a very surprised looking whale ...\"\n",
        "\"At an Improbability Factor,\" cut in Eddie, who hadn't changed a bit, \"of eight million seven hundred and sixty-seven thousand one hundred and twenty-eight to one against.\"\n",
        "Zaphod stared at Arthur.\n",
        "\"Did you think of that, Earthman?\" he demanded. \"Well,\" said Arthur, \"all I did was ...\"\n",
        "\"That's very good thinking you know. Turn on the Improbability Drive for a second without first activating the proofing screens. Hey kid you just saved our lives, you know that?\"\n",
        "\"Oh,\" said Arthur, \"well, it was nothing really ...\"\n",
        "\"Was it?\" said Zaphod. \"Oh well, forget it then. OK, computer, take us in to land.\"\n",
        "\"But ...\"\n",
        "\"I said forget it.\"\n",
        "Another thing that got forgotten was the fact that against all probability a sperm whale had suddenly been called into existence several miles above the surface of an alien planet.\n",
        "And since this is not a naturally tenable position for a whale, this poor innocent creature had very little time to come to terms with its identity as a whale before it then had to come to terms with not being a whale any more.\n",
        "\n",
        "140 / DOUGLAS ADAMS\n",
        "This is a complete record of its thoughts from the moment it began its life till the moment it ended it.\n",
        "Ah ... ! What's happening? it thought.\n",
        "Er, excuse me, who am I?\n",
        "Hello? Why am I here? What's my purpose in life? What do I mean by who am I?\n",
        "Calm down, get a grip now ... oh! this is an interesting sensation, what is it? It's a sort of ... yawning, tingling sensation in my ... my ... well I suppose I'd better start finding names for things if I want to make any headway in what for the sake of what I shall call an argument I shall call the world, so let's call it my stomach.\n",
        "Good. Ooooh, it's getting quite strong. And hey, what's about this whistling roaring sound going past what I'm suddenly going to call my head? Perhaps I can call that ... wind! Is that a good name? It'll do ... perhaps I can find a better name for it later when I've found out what it's for. It must be something very important because there certainly seems to be a hell of a lot of it. Hey! What's this thing? This ... let's call it a tail - yeah, tail. Hey! I can can really thrash it about pretty good can't I? Wow! Wow! That feels great! Doesn't seem to achieve very much but I'll probably find out what it's for later on. Now - have I built up any coherent picture of things yet?\n",
        "No. Never mind, hey, this is really exciting, so much to find out about, so much to look forward to, I'm quite dizzy with anticipation ... \\hspace{1cm} Or is it the wind?\n",
        "There really is a lot of that now isn't it?\n",
        "\n",
        "THE HITCHHIKER'S GUIDE TO THE GALAXY / 141\n",
        "And wow! Hey! What's this thing suddenly coming towards me very fast? Very very fast. So big and flat and round, it needs a big wide sounding name like ... ow ... ound ... round ... ground! That's it! That's a good name - ground!\n",
        "I wonder if it will be friends with me?\n",
        "And the rest, after a sudden wet thud, was silence.\n",
        "Curiously enough, the only thing that went through the mind of the bowl of petunias as it fell was Oh no, not again. Many people have speculated that if we knew exactly why the bowl of petunias had thought that we would know a lot more about the nature of the universe than we do now.\n",
        "\n",
        "142 / DOUGLAS ADAMS\n",
        "\"Are we taking this robot with us?\" said Ford, looking with distaste at Marvin who was standing in an awkward hunched posture in the corner under a small palm tree.\n",
        "Zaphod glanced away from the mirror screens which presented a pa\\-no\\-ra\\-mic view of the blighted landscape on which the Heart of Gold had now landed.\n",
        "\"Oh,theParanoidAndroid,\"hesaid. \"Yeah,we'lltakehim.\"\n",
        "\"But what are supposed to do with a manically depressed robot?\"\n",
        "\"You think you've got problems,\" said Marvin as if he was addressing a newly occupied coffin, \"what are you supposed to do if you are a manically depressed robot? No, don't bother to answer that, I'm fifty thousand times more intelligent than you and even I don't know the answer. It gives me a headache just trying to think down to your level.\"\n",
        "Trillian burst in through the door from her cabin. \"My white mice have escaped!\" she said.\n",
        "An expression of deep worry and concern failed to cross either of Zaphod's faces.\n",
        "\"Nuts to your white mice,\" he said.\n",
        "Trillian glared an upset glare at him, and disappeared again.\n",
        "It is possible that her remark would have commanded greater attention had it been generally realized that human beings were only the third most intelligent life form present on the planet Earth, instead of (as was generally thought by most independent observers) the second.\n",
        "\n",
        "THE HITCHHIKER'S GUIDE TO THE GALAXY / 143 \"Good afternoon boys.\"\n",
        "The voice was oddly familiar, but oddly different. It had a matriarchal twang. It announced itself to the crew as they arrived at the airlock hatchway that would let them out on the planet surface.\n",
        "They looked at each other in puzzlement.\n",
        "\"It's the computer,\" explained Zaphod. \"I discovered it had an emergency back-up personality that I thought might work out better.\"\n",
        "\"Now this is going to be your first day out on a strange new planet,\" continued Eddie's new voice, \"so I want you all wrapped up snug and warm, and no playing with any naughty bug-eyed monsters.\"\n",
        "Zaphod tapped impatiently on the hatch.\n",
        "\"I'm sorry,\" he said, \"I think we might be better off with a slide rule.\"\n",
        "\"Right!\" snapped the computer. \"Who said that?\"\n",
        "\"Will you open the exit hatch please, computer?\" said Zaphod trying not to get angry.\n",
        "\"Not until whoever said that owns up,\" urged the computer, stamping a few synapses closed. \"Oh God,\" muttered Ford, slumped against a bulkhead and started to count to ten. He was desperately worried that one day sentinent life forms would forget how to do this. Only by counting could humans demonstrate their independence of computers.\n",
        "\n",
        "144 / DOUGLAS ADAMS \"Come on,\" said Eddie sternly.\n",
        "\"Computer ...\" began Zaphod ...\n",
        "\"I'm waiting,\" interrupted Eddie. \"I can wait all day if necessary ...\"\n",
        "\"Computer ...\" said Zaphod again, who had been trying to think of some subtle piece of reasoning to put the computer down with, and had decided not to bother competing with it on its own ground, \"if you don't open that exit hatch this moment I shall zap straight off to your major data banks and reprogram you with a very large axe, got that?\"\n",
        "Eddie, shocked, paused and considered this.\n",
        "Ford carried on counting quietly. This is about the most aggressive thing you can do to a computer, the equivalent of going up to a human being and saying Blood ... blood ... blood ... blood ...\n",
        "Finally Eddie said quietly, \"I can see this relationship is something we're all going to have to work at,\" and the hatchway opened.\n",
        "An icy wind ripped into them, they hugged themselves warmly and stepped down the ramp on to the barren dust of Magrathea.\n",
        "\"It'll all end in tears, I know it,\" shouted Eddie after them and closed the hatchway again.\n",
        "A few minutes later he opened and closed the hatchway again in response to a command that caught him entirely by surprise.\n",
        "\n",
        "THE HITCHHIKER'S GUIDE TO THE GALAXY / 145\n",
        "Five figures wandered slowly over the blighted land. Bits of it were dullish grey, bits of it dullish brown, the rest of it rather less interesting to look at. It was like a dried-out marsh, now barren of all vegetation and covered with a layer of dust about an inch thick. It was very cold.\n",
        "Zaphod was clearly rather depressed about it. He stalked off by himself and was soon lost to sight behind a slight rise in the ground.\n",
        "The wind stung Arthur's eyes and ears, and the stale thin air clasped his throat. However, the thing stung most was his mind.\n",
        "\"It's fantastic ...\" he said, and his own voice rattled his ears. Sound carried badly in this thin atmosphere. \"Desolate hole if you ask me,\" said Ford. \"I could have more fun in a cat litter.\" He felt a mounting irritation. Of all the planets in all the star systems of all the Galaxy - didn't he just have to turn up at a dump like this after fifteen years of being a castaway? Not even a hot dog stand in evidence. He stooped down and picked up a cold clot of earth, but there was nothing underneath it worth crossing thousands of light years to look at.\n",
        "\"No,\" insisted Arthur, \"don't you understand, this is the first time I've actually stood on the surface of another planet ... a whole alien world ...! Pity it's such a dump though.\"\n",
        "Trillian hugged herself, shivered and frowned. She could have sworn she saw a slight and unexpected movement out of the corner of her eye, but when she glanced in that direction all she could see was the ship, still and silent, a hundred yards or so behind them.\n",
        "\n",
        "146 / DOUGLAS ADAMS\n",
        "She was relieved when a second or so later they caught sight of Zaphod standing on top of the ridge of ground and waving to them to come and join him.\n",
        "He seemed to be excited, but they couldn't clearly hear what he was saying because of the thinnish atmosphere and the wind.\n",
        "As they approached the ridge of higher ground they became aware that it seemed to be circular - a crater about a hundred and fifty yards wide. Round the outside of the crater the sloping ground was spattered with black and red lumps. They stopped and looked at a piece. It was wet. It was rubbery.\n",
        "With horror they suddenly realized that it was fresh whalemeat. At the top of the crater's lip they met Zaphod.\n",
        "\"Look,\" he said, pointing into the crater.\n",
        "In the centre lay the exploded carcass of a lonely sperm whale that hadn't lived long enough to be disappointed with its lot. The silence was only disturbed by the slight involuntary spasms of Trillian's throat.\n",
        "\"I suppose there's no point in trying to bury it?\" murmured Arthur, and then wished he hadn't.\n",
        "\"Come,\" said Zaphod and started back down into the crater. \"What, down there?\" said Trillian with severe distaste.\n",
        "\"Yeah,\" said Zaphod, \"come on, I've got something to show you.\" \"We can see it,\" said Trillian.\n",
        "\"Not that,\" said Zaphod, \"something else. Come on.\"\n",
        "\n",
        "THE HITCHHIKER'S GUIDE TO THE GALAXY / 147 They all hesitated.\n",
        "\"Come on,\" insisted Zaphod, \"I've found a way in.\" \"In?\" said Arthur in horror.\n",
        "\"Into the interior of the planet! An underground passage. The force of the whale's impact cracked it open, and that's where we have to go. Where no man has trod these five million years, into the very depths of time itself ...\"\n",
        "Marvin started his ironical humming again.\n",
        "Zaphod hit him and he shut up.\n",
        "With little shudders of disgust they all followed Zaphod down the incline into the crater, trying very hard not to look at its unfortunate creator.\n",
        "\"Life,\" said Marvin dolefully, \"loathe it or ignore it, you can't like it.\"\n",
        "The ground had caved in where the whale had hit it revealing a network of galleries and passages, now largely obstructed by collapsed rubble and entrails. Zaphod had made a start clearing a way into one of them, but Marvin was able to do it rather faster. Dank air wafted out of its dark recesses, and as Zaphod shone a torch into it, little was visible in the dusty gloom.\n",
        "\"According to the legends,\" he said, \"the Magratheans lived most of their lives underground.\"\n",
        "\"Why's that?\" said Arthur. \"Did the surface become too polluted or overpopulated?\"\n",
        "\n",
        "148 / DOUGLAS ADAMS\n",
        "\"No, I don't think so,\" said Zaphod. \"I think they just didn't like it very much.\"\n",
        "\"Are you sure you know what you're doing?\" said Trillian peering nervously into the darkness. \"We've been attacked once already you know.\"\n",
        "\"Look kid, I promise you the live population of this planet is nil plus the four of us, so come on, let's get on in there. Er, hey Earthman ...\"\n",
        "\"Arthur,\" said Arthur.\n",
        "\"Yeah could you just sort of keep this robot with you and guard this end of the passageway. OK?\"\n",
        "\"Guard?\" said Arthur. \"What from? You just said there's no one here.\"\n",
        "\"Yeah, well, just for safety, OK?\" said Zaphod. \"Whose? Yours or mine?\"\n",
        "\"Good lad. OK, here we go.\"\n",
        "Zaphod scrambled down into the passage, followed by Trillian and Ford. \"Well I hope you all have a really miserable time,\" complained Arthur.\n",
        "\"Don't worry,\" Marvin assured him, \"they will.\"\n",
        "In a few seconds they had disappeared from view.\n",
        "Arthur stamped around in a huff, and then decided that a whale's graveyard is not on the whole a good place to stamp around in.\n",
        "\n",
        "THE HITCHHIKER'S GUIDE TO THE GALAXY / 149\n",
        "Marvin eyed him balefully for a moment, and then turned himself off.\n",
        "Zaphod marched quickly down the passageway, nervous as hell, but trying to hide it by striding purposefully. He flung the torch beam around. The walls were covered in dark tiles and were cold to the touch, the air thick with decay.\n",
        "\"There, what did I tell you?\" he said. \"An inhabited planet. Magrathea,\" and he strode on through the dirt and debris that littered the tile floor.\n",
        "Trillian was reminded unavoidably of the London Underground, though it was less thoroughly squalid.\n",
        "At intervals along the walls the tiles gave way to large mosaics - simple angular patterns in bright colours. Trillian stopped and studied one of them but could not interpret any sense in them. She called to Zaphod.\n",
        "\"Hey, have you any idea what these strange symbols are?\"\n",
        "\"I think they're just strange symbols of some kind,\" said Zaphod, hardly glancing back.\n",
        "Trillian shrugged and hurried after him.\n",
        ">From time to time a doorway led either to the left or right into smallish chambers which Ford discovered to be full of derelict computer equipment. He dragged Zaphod into one to have a look. Trillian followed.\n",
        "\"Look,\" said Ford, \"you reckon this is Magrathea ...\" \"Yeah,\" said Zaphod, \"and we heard the voice, right?\"\n",
        "\n",
        "150 / DOUGLAS ADAMS\n",
        "\"OK, so I've bought the fact that it's Magrathea - for the moment. What you have so far said nothing about is how in the Galaxy you found it. You didn't just look it up in a star atlas, that's for sure.\"\n",
        "\"Research. Government archives. Detective work. Few lucky guesses. Easy.\"\n",
        "\"And then you stole the Heart of Gold to come and look for it with?\"\n",
        "\"I stole it to look for a lot of things.\" \"A lot of things?\" said Ford in surprise. \"Like what?\"\n",
        "\"I don't know.\"\n",
        "\"What?\"\n",
        "\"I don't know what I'm looking for.\"\n",
        "\"Why not?\"\n",
        "\"Because ... because ... I think it might be because if I knew I wouldn't be able to look for them.\"\n",
        "\"What, are you crazy?\"\n",
        "\"It's a possibility I haven't ruled out yet,\" said Zaphod quietly. \"I only know as much about myself as my mind can work out under its current conditions. And its current conditions are not good.\"\n",
        "For a long time nobody said anything as Ford gazed at Zaphod with a mind suddenly full of worry.\n",
        "\"Listen old friend, if you want to ...\" started Ford eventually.\n",
        "\n",
        "THE HITCHHIKER'S GUIDE TO THE GALAXY / 151\n",
        "\"No, wait ... I'll tell you something,\" said Zaphod. \"I freewheel a lot. I get an idea to do something, and, hey, why not, I do it. I reckon I'll become President of the Galaxy, and it just happens, it's easy. I decide to steal this ship. I decide to look for Magrathea, and it all just happens. Yeah, I work out how it can best be done, right, but it always works out. It's like having a Galacticredit card which keeps on working though you never send off the cheques. And then whenever I stop and think - why did I want to do something? - how did I work out how to do it? - I get a very strong desire just to stop thinking about it. Like I have now. It's a big effort to talk about it.\"\n",
        "Zaphod paused for a while. For a while there was silence. Then he frowned and said, \"Last night I was worrying about this again. About the fact that part of my mind just didn't seem to work properly. Then it occurred to me that the way it seemed was that someone else was using my mind to have good ideas with, without telling me about it. I put the two ideas together and decided that maybe that somebody had locked off part of my mind for that purpose, which was why I couldn't use it. I wondered if there was a way I could check.\n",
        "\"I went to the ship's medical bay and plugged myself into the encephelographic screen. I went through every major screening test on both my heads - all the tests I had to go through under government medical officers before my nomination for Presidency could be properly ratified. They showed up nothing. Nothing unexpected at least. They showed that I was clever, imaginative, irresponsible, untrustworthy, extrovert, nothing you couldn't have guessed. And no other anomalies. So I started inventing further tests, completely at random. Nothing. Then I tried superimposing the results from one head on top of the results from the other head. Still nothing. Finally I got silly,\n",
        "\n",
        "152 / DOUGLAS ADAMS\n",
        "because I'd given it all up as nothing more than an attack of paranoia. Last thing I did before I packed it in was take the superimposed picture and look at it through a green filter. You remember I was always superstitious about the color green when I was a kid? I always wanted to be a pilot on one of the trading scouts?\"\n",
        "Ford nodded.\n",
        "\"And there it was,\" said Zaphod, \"clear as day. A whole section in the middle of both brains that related only to each other and not to anything else around them. Some bastard had cauterized all the synapses and electronically traumatised those two lumps of cerebellum.\"\n",
        "Ford stared at him, aghast. Trillian had turned white. \"Somebody did that to you?\" whispered Ford.\n",
        "\"Yeah.\"\n",
        "\"But have you any idea who? Or why?\"\n",
        "\"Why? I can only guess. But I do know who the bastard was.\" \"You know? How do you know?\"\n",
        "\"Because they left their initials burnt into the cauterized synapses. They left them there for me to see.\"\n",
        "Ford stared at him in horror and felt his skin begin to crawl. \"Initials? Burnt into your brain?\"\n",
        "\"Yeah.\"\n",
        "\n",
        "THE HITCHHIKER'S GUIDE TO THE GALAXY / 153 \"Well, what were they, for God's sake?\"\n",
        "Zaphod looked at him in silence again for a moment. Then he looked away.\n",
        "\"Z.B.,\" he said.\n",
        "At that moment a steel shutter slammed down behind them and gas started to pour into the chamber.\n",
        "\"I'll tell you about it later,\" choked Zaphod as all three passed out.\n",
        "\n",
        "154 / DOUGLAS ADAMS\n",
        "On the surface of Magrathea Arthur wandered about moodily.\n",
        "Ford had thoughtfully left him his copy of The Hitch Hiker's Guide to the Galaxy to while away the time with. He pushed a few buttons at random.\n",
        "The Hitch Hiker's Guide to the Galaxy is a very unevenly edited book and contains many passages that simply seemed to its editors like a good idea at the time.\n",
        "One of these (the one Arthur now came across) supposedly relates the experiences of one Veet Voojagig, a quiet young student at the University of Maximegalon, who pursued a brilliant academic career studying ancient philology, transformational ethics and the wave harmonic theory of historical perception, and then, after a night of drinking Pan Galactic Gargle Blasters with Zaphod Beeblebrox, became increasingly obsessed with the problem of what had happened to all the biros he'd bought over the past few years.\n",
        "There followed a long period of painstaking research during which he visited all the major centres of biro loss throughout the galaxy and eventually came up with a quaint little theory which quite caught the public imagination at the time. Somewhere in the cosmos, he said, along with all the planets inhabited by humanoids, reptiloids, fishoids, walking treeoids and superintelligent shades of the colour blue, there was also a planet entirely given over to biro life forms. And it was to this planet that unattended biros would make their way, slipping away quietly through wormholes in space to a world where they knew they could enjoy a uniquely biroid lifestyle, responding to highly biro-oriented stimuli, and generally leading the biro equivalent of the good life.\n",
        "\n",
        "THE HITCHHIKER'S GUIDE TO THE GALAXY / 155\n",
        "And as theories go this was all very fine and pleasant until Veet Voojagig suddenly claimed to have found this planet, and to have worked there for a while driving a limousine for a family of cheap green retractables, whereupon he was taken away, locked up, wrote a book, and was finally sent into tax exile, which is the usual fate reserved for those who are determined to make a fool of themselves in public.\n",
        "When one day an expedition was sent to the spatial coordinates that Voojagig had claimed for this planet they discovered only a small asteroid inhabited by a solitary old man who claimed repeatedly that nothing was true, though he was later discovered to be lying.\n",
        "There did, however, remain the question of both the mysterious 60,000 Altairan dollars paid yearly into his Brantisvogan bank account, and of course Zaphod Beeblebrox's highly profitable second-hand biro business.\n",
        "Arthur read this, and put the book down.\n",
        "The robot still sat there, completely inert.\n",
        "Arthur got up and walked to the top of the crater. He walked around the crater. He watched two suns set magnificently over Magrathea.\n",
        "He went back down into the crater. He woke the robot up because even a manically depressed robot is better to talk to than nobody.\n",
        "\"Night's falling,\" he said. \"Look robot, the stars are coming out.\" >From the heart of a dark nebula it is possible to see very few stars, and only very faintly, but they were there to be seen.\n",
        "\n",
        "156 / DOUGLAS ADAMS\n",
        "The robot obediently looked at them, then looked back.\n",
        "\"I know,\" he said. \"Wretched isn't it?\"\n",
        "\"But that sunset! I've never seen anything like it in my wildest dreams ... the two suns! It was like mountains of fire boiling into space.\"\n",
        "\"I've seen it,\" said Marvin. \"It's rubbish.\"\n",
        "\"We only ever had the one sun at home,\" persevered Arthur, \"I came from a planet called Earth you know.\"\n",
        "\"I know,\" said Marvin, \"you keep going on about it. It sounds awful.\"\n",
        "\"Ah no, it was a beautiful place.\" \"Did it have oceans?\"\n",
        "\"Oh yes,\" said Arthur with a sigh, \"great wide rolling blue oceans ...\"\n",
        "\"Can't bear oceans,\" said Marvin.\n",
        "\"Tell me,\" inquired Arthur, \"do you get on well with other robots?\"\n",
        "\"Hate them,\" said Marvin. \"Where are you going?\" Arthur couldn't bear any more. He had got up again. \"I think I'll just take another walk,\" he said.\n",
        "\n",
        "THE HITCHHIKER'S GUIDE TO THE GALAXY / 157\n",
        "\"Don't blame you,\" said Marvin and counted five hundred and ninety-seven thousand million sheep before falling asleep again a second later.\n",
        "Arthur slapped his arms about himself to try and get his circulation a little more enthusiastic about its job. He trudged back up the wall of the crater.\n",
        "Because the atmosphere was so thin and because there was no moon, nightfall was very rapid and it was by now very dark. Because of this, Arthur practically walked into the old man before he noticed him.\n",
        "\n",
        "158 / DOUGLAS ADAMS\n",
        "He was standing with his back to Arthur watching the very last glimmers of light sink into blackness behind the horizon. He was tallish, elderly and dressed in a single long grey robe. When he turned his face was thin and distinguished, careworn but not unkind, the sort of face you would happily bank with. But he didn't turn yet, not even to react to Arthur's yelp of surprise.\n",
        "Eventually the last rays of the sun had vanished completely, and he turned. His face was still illuminated from somewhere, and when Arthur looked for the source of the light he saw that a few yards away stood a small craft of some kind - a small hovercraft, Arthur guessed. It shed a dim pool of light around it.\n",
        "The man looked at Arthur, sadly it seemed.\n",
        "\"You choose a cold night to visit our dead planet,\" he said.\n",
        "\"Who ... who are you?\" stammered Arthur.\n",
        "The man looked away. Again a kind of sadness seemed to cross his face.\n",
        "\"My name is not important,\" he said.\n",
        "He seemed to have something on his mind. Conversation was clearly something he felt he didn't have to rush at. Arthur felt awkward.\n",
        "\"I ... er ... you startled me ...\" he said, lamely.\n",
        "The man looked round to him again and slightly raised his eyebrows.\n",
        "\"Hmmmm?\" he said.\n",
        "\"I said you startled me.\"\n",
        "\n",
        "THE HITCHHIKER'S GUIDE TO THE GALAXY / 159 \"Do not be alarmed, I will not harm you.\"\n",
        "Arthur frowned at him. \"But you shot at us! There were missiles ...\" he said.\n",
        "The man chuckled slightly.\n",
        "\"An automatic system,\" he said and gave a small sigh. \"Ancient computers ranged in the bowels of the planet tick away the dark millennia, and the ages hang heavy on their dusty data banks. I think they take the occasional pot shot to relieve the monotony.\"\n",
        "He looked gravely at Arthur and said, \"I'm a great fan of science you know.\"\n",
        "\"Oh ... er, really?\" said Arthur, who was beginning to find the man's curious, kindly manner disconcerting.\n",
        "\"Oh, yes,\" said the old man, and simply stopped talking again.\n",
        "\"Ah,\" said Arthur, \"er ...\" He had an odd felling of being like a man in the act of adultery who is surprised when the woman's husband wanders into the room, changes his trousers, passes a few idle remarks about the weather and leaves again.\n",
        "\"You seem ill at ease,\" said the old man with polite concern.\n",
        "\"Er, no ... well, yes. Actually you see, we weren't really expecting to find anybody about in fact. I sort of gathered that you were all dead or something ...\"\n",
        "\"Dead?\" said the old man. \"Good gracious no, we have but slept.\" \"Slept?\" said Arthur incredulously.\n",
        "\n",
        "160 / DOUGLAS ADAMS\n",
        "\"Yes, through the economic recession you see,\" said the old man, apparently unconcerned about whether Arthur understood a word he was talking about or not.\n",
        "\"Er, economic recession?\"\n",
        "\"Well you see, five million years ago the Galactic economy collapsed, and seeing that custom-made planets are something of a luxury commodity you see ...\"\n",
        "He paused and looked at Arthur.\n",
        "\"You know we built planets do you?\" he asked solemnly. \"Well yes,\" said Arthur, \"I'd sort of gathered ...\"\n",
        "\"Fascinating trade,\" said the old man, and a wistful look came into his eyes, \"doing the coastlines was always my favourite. Used to have endless fun doing the little bits in fjords ... so anyway,\" he said trying to find his thread again, \"the recession came and we decided it would save us a lot of bother if we just slept through it. So we programmed the computers to revive us when it was all over.\"\n",
        "The man stifled a very slight yawn and continued.\n",
        "\"The computers were index linked to the Galactic stock market prices you see, so that we'd all be revived when everybody else had rebuilt the economy enough to afford our rather expensive services.\"\n",
        "Arthur, a regular Guardian reader, was deeply shocked at this. \"That's a pretty unpleasant way to behave isn't it?\"\n",
        "\n",
        "THE HITCHHIKER'S GUIDE TO THE GALAXY / 161\n",
        "\"Is it?\" asked the old man mildly. \"I'm sorry, I'm a bit out of touch.\"\n",
        "He pointed down into the crater.\n",
        "\"Is that robot yours?\" he said.\n",
        "\"No,\" came a thin metallic voice from the crater, \"I'm mine.\"\n",
        "\"If you'd call it a robot,\" muttered Arthur. \"It's more a sort of electronic sulking machine.\"\n",
        "\"Bring it,\" said the old man. Arthur was quite surprised to hear a note of decision suddenly present in the old man's voice. He called to Marvin who crawled up the slope making a big show of being lame, which he wasn't. \"On second thoughts,\" said the old man, \"leave it here. You must come with me. Great things are afoot.\" He turned towards his craft which, though no apparent signal had been given, now drifted quietly towards them through the dark.\n",
        "Arthur looked down at Marvin, who now made an equally big show of turning round laboriously and trudging off down into the crater again muttering sour nothings to himself.\n",
        "\"Come,\" called the old man, \"come now or you will be late.\" \"Late?\" said Arthur. \"What for?\"\n",
        "\"What is your name, human?\"\n",
        "\"Dent. Arthur Dent,\" said Arthur.\n",
        "\"Late, as in the late Dentarthurdent,\" said the old man, sternly. \"It's a sort of threat you see.\" Another wistful look came into his\n",
        "\n",
        "162 / DOUGLAS ADAMS\n",
        "tired old eyes. \"I've never been very good at them myself, but I'm told they can be very effective.\"\n",
        "Arthur blinked at him.\n",
        "\"What an extraordinary person,\" he muttered to himself.\n",
        "\"I beg your pardon?\" said the old man.\n",
        "\"Oh nothing, I'm sorry,\" said Arthur in embarrassment. \"Alright, where do we go?\"\n",
        "\"In my aircar,\" said the old man motioning Arthur to get into the craft which had settled silently next to them. \"We are going deep into the bowels of the planet where even now our race is being revived from its five-million-year slumber. Magrathea awakes.\"\n",
        "Arthur shivered involuntarily as he seated himself next to the old man. The strangeness of it, the silent bobbing movement of the craft as it soared into the night sky quite unsettled him.\n",
        "He looked at the old man, his face illuminated by the dull glow of tiny lights on the instrument panel.\n",
        "\"Excuse me,\" he said to him, \"what is your name by the way?\"\n",
        "\"My name?\" said the old man, and the same distant sadness came into his face again. He paused. \"My name,\" he said, \"... is Slartibartfast.\"\n",
        "Arthur practically choked.\n",
        "\"I beg your pardon?\" he spluttered. \"Slartibartfast,\" repeated the old man quietly.\n",
        "\n",
        "THE HITCHHIKER'S GUIDE TO THE GALAXY / 163 \"Slartibartfast?\"\n",
        "The old man looked at him gravely. \"I said it wasn't important,\" he said.\n",
        "The aircar sailed through the night.\n",
        "\n",
        "164 / DOUGLAS ADAMS\n",
        "It is an important and popular fact that things are not always what they seem. For instance, on the planet Earth, man had always assumed that he was more intelligent than dolphins because he had achieved so much - the wheel, New York, wars and so on - whilst all the dolphins had ever done was muck about in the water having a good time. But conversely, the dolphins had always believed that they were far more intelligent than man - for precisely the same reasons.\n",
        "Curiously enough, the dolphins had long known of the impending destruction of the planet Earth and had made many attempts to alert mankind of the danger; but most of their communications were misinterpreted as amusing attempts to punch footballs or whistle for tidbits, so they eventually gave up and left the Earth by their own means shortly before the Vogons arrived.\n",
        "The last ever dolphin message was misinterpreted as a surprisingly sophisticated attempt to do a double-backwards- somersault through a hoop whilst whistling the \"Star Sprangled Banner\", but in fact the message was this: So long and thanks for all the fish.\n",
        "In fact there was only one species on the planet more intelligent than dolphins, and they spent a lot of their time in behavioural research laboratories running round inside wheels and conducting frighteningly elegant and subtle experiments on man.\n",
        "The fact that once again man completely misinterpreted this relationship was entirely according to these creatures' plans.\n",
        "\n",
        "THE HITCHHIKER'S GUIDE TO THE GALAXY / 165\n",
        "Silently the aircar coasted through the cold darkness, a single soft glow of light that was utterly alone in the deep Magrathean night. It sped swiftly. Arthur's companion seemed sunk in his own thoughts, and when Arthur tried on a couple of occasions to engage him in conversation again he would simply reply by asking if he was comfortable enough, and then left it at that.\n",
        "Arthur tried to gauge the speed at which they were travelling, but the blackness outside was absolute and he was denied any reference points. The sense of motion was so soft and slight he could almost believe they were hardly moving at all.\n",
        "Then a tiny glow of light appeared in the far distance and within seconds had grown so much in size that Arthur realized it was travelling towards them at a colossal speed, and he tried to make out what sort of craft it might be. He peered at it, but was unable to discern any clear shape, and suddenly gasped in alarm as the aircraft dipped sharply and headed downwards in what seemed certain to be a collision course. Their relative velocity seemed unbelievable, and Arthur had hardly time to draw breath before it was all over. The next thing he was aware of was an insane silver blur that seemed to surround him. He twisted his head sharply round and saw a small black point dwindling rapidly in the distance behind them, and it took him several seconds to realize what had happened.\n",
        "They had plunged into a tunnel in the ground. The colossal speed had been their own relative to the glow of light which was a stationary hole in the ground, the mouth of the tunnel. The insane blur of silver was the circular wall of the tunnel down which they were shooting, apparently at several hundred miles an hour.\n",
        "He closed his eyes in terror.\n",
        "\n",
        "166 / DOUGLAS ADAMS\n",
        "After a length of time which he made no attempt to judge, he sensed a slight subsidence in their speed and some while later became aware that they were gradually gliding to a gentle halt.\n",
        "He opened his eyes again. They were still in the silver tunnel, threading and weaving their way through what appeared to be a crisscross warren of converging tunnels. When they finally stopped it was in a small chamber of curved steel. Several tunnels also had their terminus here, and at the farther end of the chamber Arthur could see a large circle of dim irritating light. It was irritating because it played tricks with the eyes, it was impossible to focus on it properly or tell how near or far it was. Arthur guessed (quite wrongly) that it might be ultra violet.\n",
        "Slartibartfast turned and regarded Arthur with his solemn old eyes.\n",
        "\"Earthman,\" he said, \"we are now deep in the heart of Magrathea.\"\n",
        "\"How did you know I was an Earthman?\" demanded Arthur.\n",
        "\"These things will become clear to you,\" said the old man gently, \"at least,\" he added with slight doubt in his voice, \"clearer than they are at the moment.\"\n",
        "He continued: \"I should warn you that the chamber we are about to pass into does not literally exist within our planet. It is a little too ... large. We are about to pass through a gateway into a vast tract of hyperspace. It may disturb you.\"\n",
        "Arthur made nervous noises.\n",
        "Slartibartfast touched a button and added, not entirely reassuringly. \"It scares the willies out of me. Hold tight.\"\n",
        "\n",
        "THE HITCHHIKER'S GUIDE TO THE GALAXY / 167\n",
        "The car shot forward straight into the circle of light, and suddenly Arthur had a fairly clear idea of what infinity looked like.\n",
        "It wasn't infinity in fact. Infinity itself looks flat and uninteresting. Looking up into the night sky is looking into infinity - distance is incomprehensible and therefore meaningless. The chamber into which the aircar emerged was anything but infinite, it was just very very big, so that it gave the impression of infinity far better than infinity itself.\n",
        "Arthur's senses bobbed and span, as, travelling at the immense speed he knew the aircar attained, they climbed slowly through the open air leaving the gateway through which they had passed an invisible pinprick in the shimmering wall behind them.\n",
        "The wall.\n",
        "The wall defied the imagination - seduced it and defeated it. The wall was so paralysingly vast and sheer that its top, bottom and sides passed away beyond the reach of sight. The mere shock of vertigo could kill a man.\n",
        "The wall appeared perfectly flat. It would take the finest laser measuring equipment to detect that as it climbed, apparently to infinity, as it dropped dizzily away, as it planed out to either side, it also curved. It met itself again thirteen light seconds away. In other words the wall formed the inside of a hollow sphere, a sphere over three million miles across and flooded with unimaginable light.\n",
        "\"Welcome,\" said Slartibartfast as the tiny speck that was the aircar, travelling now at three times the speed of sound, crept\n",
        "\n",
        "168 / DOUGLAS ADAMS\n",
        "imperceptibly forward into the mindboggling space, \"welcome,\" he said, \"to our factory floor.\"\n",
        "Arthur stared about him in a kind of wonderful horror. Ranged away before them, at distances he could neither judge nor even guess at, were a series of curious suspensions, delicate traceries of metal and light hung about shadowy spherical shapes that hung in the space.\n",
        "\"This,\" said Slartibartfast, \"is where we make most of our planets you see.\"\n",
        "\"You mean,\" said Arthur, trying to form the words, \"you mean you're starting it all up again now?\"\n",
        "\"No no, good heavens no,\" exclaimed the old man, \"no, the Galaxy isn't nearly rich enough to support us yet. No, we've been awakened to perform just one extraordinary commission for very ... special clients from another dimension. It may interest you ... there in the distance in front of us.\"\n",
        "Arthur followed the old man's finger, till he was able to pick out the floating structure he was pointing out. It was indeed the only one of the many structures that betrayed any sign of activity about it, though this was more a sublimal impression than anything one could put one's finger on.\n",
        "At the moment however a flash of light arced through the structure and revealed in stark relief the patterns that were formed on the dark sphere within. Patterns that Arthur knew, rough blobby shapes that were as familiar to him as the shapes of words, part of the furniture of his mind. For a few seconds he sat in stunned silence as the images rushed around his mind and tried to find somewhere to settle down and make sense. Part of\n",
        "\n",
        "THE HITCHHIKER'S GUIDE TO THE GALAXY / 169\n",
        "his brain told him that he knew perfectly well what he was looking at and what the shapes represented whilst another quite sensibly refused to countenance the idea and abdicated responsibility for any further thinking in that direction.\n",
        "The flash came again, and this time there could be no doubt. \"The Earth ...\" whispered Arthur.\n",
        "\"Well, the Earth Mark Two in fact,\" said Slartibartfast cheery. \"We're making a copy from our original blueprints.\"\n",
        "There was a pause.\n",
        "\"Are you trying to tell me,\" said Arthur, slowly and with control, \"that you originally ... made the Earth?\"\n",
        "\"Oh yes,\" said Slartibartfast. \"Did you ever go to a place ... I think it was called Norway?\"\n",
        "\"No,\" said Arthur, \"no, I didn't.\"\n",
        "\"Pity,\" said Slartibartfast, \"that was one of mine. Won an award you know. Lovely crinkly edges. I was most upset to hear about its destruction.\"\n",
        "\"You were upset!\"\n",
        "\"Yes. Five minutes later and it wouldn't have mattered so much. It was a quite shocking cock-up.\"\n",
        "\"Huh?\" said Arthur. \"The mice were furious.\" \"The mice were furious?\"\n",
        "\n",
        "170 / DOUGLAS ADAMS \"Oh yes,\" said the old man mildly.\n",
        "\"Yes well so I expect were the dogs and cats and duckbilled platypuses, but ...\"\n",
        "\"Ah, but they hadn't paid for it you see, had they?\"\n",
        "\"Look,\" said Arthur, \"would it save you a lot of time if I just gave up and went mad now?\"\n",
        "For a while the aircar flew on in awkward silence. Then the old man tried patiently to explain.\n",
        "\"Earthman, the planet you lived on was commissioned, paid for, and run by mice. It was destroyed five minutes before the completion of the purpose for which it was built, and we've got to build another one.\"\n",
        "Only one word registered with Arthur.\n",
        "\"Mice?\" he said. \"Indeed Earthman.\"\n",
        "\"Look, sorry - are we talking about the little white furry things with the cheese fixation and women standing on tables screaming in early sixties sit coms?\"\n",
        "Slartibartfast coughed politely.\n",
        "\"Earthman,\" he said, \"it is sometimes hard to follow your mode of speech. Remember I have been asleep inside this planet of Magrathea for five million years and know little of these early sixties sit coms of which you speak. These creatures you call mice, you see, they are not quite as they appear. They are merely the protrusion into our dimension of vast hyperintelligent\n",
        "\n",
        "THE HITCHHIKER'S GUIDE TO THE GALAXY / 171\n",
        "pan- dimensional beings. The whole business with the cheese and the squeaking is just a front.\"\n",
        "The old man paused, and with a sympathetic frown continued. \"They've been experimenting on you I'm afraid.\"\n",
        "Arthur thought about this for a second, and then his face cleared.\n",
        "\"Ah no,\" he said, \"I see the source of the misunderstanding now. No, look you see, what happened was that we used to do experiments on them. They were often used in behavioural research, Pavlov and all that sort of stuff. So what happened was hat the mice would be set all sorts of tests, learning to ring bells, run around mazes and things so that the whole nature of the learning process could be examined. From our observations of their behaviour we were able to learn all sorts of things about our own ...\"\n",
        "Arthur's voice tailed off.\n",
        "\"Such subtlety ...\" said Slartibartfast, \"one has to admire it.\" \"What?\" said Arthur.\n",
        "\"How better to disguise their real natures, and how better to guide your thinking. Suddenly running down a maze the wrong way, eating the wrong bit of cheese, unexpectedly dropping dead of myxomatosis, - if it's finely calculated the cumulative effect is enormous.\"\n",
        "He paused for effect.\n",
        "\"You see, Earthman, they really are particularly clever hyperintelligent pan -dimensional beings. Your planet and\n",
        "\n",
        "172 / DOUGLAS ADAMS\n",
        "people have formed the matrix of an organic computer running a ten- million-year research programme ...\n",
        "\"Let me tell you the whole story. It'll take a little time.\"\n",
        "\"Time,\" said Arthur weakly, \"is not currently one of my problems.\"\n",
        "\n",
        "THE HITCHHIKER'S GUIDE TO THE GALAXY / 173\n",
        "There are of course many problems connected with life, of which some of the most popular are Why are people born? Why do they die? Why do they want to spend so much of the intervening time wearing digital watches?\n",
        "Many many millions of years ago a race of hyperintelligent pan- dimensional beings (whose physical manifestation in their own pan-dimensional universe is not dissimilar to our own) got so fed up with the constant bickering about the meaning of life which used to interrupt their favourite pastime of Brockian Ultra Cricket (a curious game which involved suddenly hitting people for no readily apparent reason and then running away) that they decided to sit down and solve their problems once and for all.\n",
        "And to this end they built themselves a stupendous super computer which was so amazingly intelligent that even before the data banks had been connected up it had started from I think therefore I am and got as far as the existence of rice pudding and income tax before anyone managed to turn it off.\n",
        "It was the size of a small city.\n",
        "Its main console was installed in a specially designed executive office, mounted on an enormous executive desk of finest ultramahagony topped with rich ultrared leather. The dark carpeting was discreetly sumptuous, exotic pot plants and tastefully engraved prints of the principal computer programmers and their families were deployed liberally about the room, and stately windows looked out upon a tree-lined public square.\n",
        "On the day of the Great On-Turning two soberly dressed programmers with brief cases arrived and were shown discreetly into the office. They were aware that this day they would\n",
        "\n",
        "174 / DOUGLAS ADAMS\n",
        "represent their entire race in its greatest moment, but they conducted themselves calmly and quietly as they seated themselves deferentially before the desk, opened their brief cases and took out their leather-bound notebooks.\n",
        "Their names were Lunkwill and Fook.\n",
        "For a few moments they sat in respectful silence, then, after exchanging a quiet glance with Fook, Lunkwill leaned forward and touched a small black panel.\n",
        "The subtlest of hums indicated that the massive computer was now in total active mode. After a pause it spoke to them in a voice rich resonant and deep.\n",
        "It said: \"What is this great task for which I, Deep Thought, the second greatest computer in the Universe of Time and Space have been called into existence?\"\n",
        "Lunkwill and Fook glanced at each other in surprise.\n",
        "\"Your task, O Computer ...\" began Fook. \"No, wait a minute, this isn't right,\" said Lunkwill, worried. \"We distinctly designed this computer to be the greatest one ever and we're not making do with second best. Deep Thought,\" he addressed the computer, \"are you not as we designed you to be, the greatest most powerful computer in all time?\"\n",
        "\"I described myself as the second greatest,\" intoned Deep Thought, \"and such I am.\"\n",
        "Another worried look passed between the two programmers. Lunkwill cleared his throat.\n",
        "\n",
        "THE HITCHHIKER'S GUIDE TO THE GALAXY / 175\n",
        "\"There must be some mistake,\" he said, \"are you not a greatest computer than the Milliard Gargantubrain which can count all the atoms in a star in a millisecond?\"\n",
        "\"The Milliard Gargantubrain?\" said Deep Thought with unconcealed contempt. \"A mere abacus - mention it not.\"\n",
        "\"And are you not,\" said Fook leaning anxiously forward, \"a greater analyst than the Googleplex Star Thinker in the Seventh Galaxy of Light and Ingenuity which can calculate the trajectory of every single dust particle throughout a five-week Dangrabad Beta sand blizzard?\"\n",
        "\"A five-week sand blizzard?\" said Deep Thought haughtily. \"You ask this of me who have contemplated the very vectors of the atoms in the Big Bang itself? Molest me not with this pocket calculator stuff.\"\n",
        "The two programmers sat in uncomfortable silence for a moment. Then Lunkwill leaned forward again.\n",
        "\"But are you not,\" he said, \"a more fiendish disputant than the Great Hyperlobic Omni-Cognate Neutron Wrangler of Ciceronicus 12, the Magic and Indefatigable?\"\n",
        "\"The Great Hyperlobic Omni-Cognate Neutron Wrangler,\" said Deep Thought thoroughly rolling the r's, \"could talk all four legs off an Arcturan MegaDonkey - but only I could persuade it to go for a walk afterwards.\"\n",
        "\"Then what,\" asked Fook, \"is the problem?\"\n",
        "\"There is no problem,\" said Deep Thought with magnificent ringing tones. \"I am simply the second greatest computer in the Universe of Space and Time.\"\n",
        "\n",
        "176 / DOUGLAS ADAMS\n",
        "\"But the second?\" insisted Lunkwill. \"Why do you keep saying the second? You're surely not thinking of the Multicorticoid Perspicutron Titan Muller are you? Or the Pondermatic? Or the ...\"\n",
        "Contemptuous lights flashed across the computer's console.\n",
        "\"I spare not a single unit of thought on these cybernetic simpletons!\" he boomed. \"I speak of none but the computer that is to come after me!\" Fook was losing patience. He pushed his notebook aside and muttered, \"I think this is getting needlessly messianic.\"\n",
        "\"You know nothing of future time,\" pronounced Deep Thought, \"and yet in my teeming circuitry I can navigate the infinite delta streams of future probability and see that there must one day come a computer whose merest operational parameters I am not worthy to calculate, but which it will be my fate eventually to design.\"\n",
        "Fook sighed heavily and glanced across to Lunkwill. \"Can we get on and ask the question?\" he said. Lunkwill motioned him to wait.\n",
        "\"What computer is this of which you speak?\" he asked.\n",
        "\"I will speak of it no further in this present time,\" said Deep Thought. \"Now. Ask what else of me you will that I may function. Speak.\"\n",
        "They shrugged at each other. Fook composed himself.\n",
        "\n",
        "THE HITCHHIKER'S GUIDE TO THE GALAXY / 177\n",
        "\"O Deep Thought Computer,\" he said, \"the task we have designed you to perform is this. We want you to tell us ...\" he paused, \"... the Answer!\"\n",
        "\"The answer?\" said Deep Thought. \"The answer to what?\" \"Life!\" urged Fook.\n",
        "\"The Universe!\" said Lunkwill.\n",
        "\"Everything!\" they said in chorus.\n",
        "Deep Thought paused for a moment's reflection. \"Tricky,\" he said finally. \"But can you do it?\" Again, a significant pause.\n",
        "\"Yes,\" said Deep Thought, \"I can do it.\"\n",
        "\"There is an answer?\" said Fook with breathless excitement.\" \"A simple answer?\" added Lunkwill.\n",
        "\"Yes,\" said Deep Thought. \"Life, the Universe, and Everything. There is an answer. But,\" he added, \"I'll have to think about it.\"\n",
        "A sudden commotion destroyed the moment: the door flew open and two angry men wearing the coarse faded-blue robes and belts of the Cruxwan University burst into the room, thrusting aside the ineffectual flunkies who tried to bar their way. \"We demand admission!\" shouted the younger of the two men elbowing a pretty young secretary in the throat.\n",
        "\"Come on,\" shouted the older one, \"you can't keep us out!\" He pushed a junior programmer back through the door.\n",
        "\n",
        "178 / DOUGLAS ADAMS\n",
        "\"We demand that you can't keep us out!\" bawled the younger one, though he was now firmly inside the room and no further attempts were being made to stop him.\n",
        "\"Who are you?\" said Lunkwill, rising angrily from his seat. \"What do you want?\"\n",
        "\"I am Majikthise!\" announced the older one.\n",
        "\"And I demand that I am Vroomfondel!\" shouted the younger one.\n",
        "Majikthise turned on Vroomfondel. \"It's alright,\" he explained angrily, \"you don't need to demand that.\"\n",
        "\"Alright!\" bawled Vroomfondel banging on an nearby desk. \"I am Vroomfondel, and that is not a demand, that is a solid fact! What we demand is solid facts!\"\n",
        "\"No we don't!\" exclaimed Majikthise in irritation. \"That is precisely what we don't demand!\"\n",
        "Scarcely pausing for breath, Vroomfondel shouted, \"We don't demand solid facts! What we demand is a total absence of solid facts. I demand that I may or may not be Vroomfondel!\"\n",
        "\"But who the devil are you?\" exclaimed an outraged Fook. \"We,\" said Majikthise, \"are Philosophers.\"\n",
        "\"Though we may not be,\" said Vroomfondel waving a warning finger at the programmers.\n",
        "\"Yes we are,\" insisted Majikthise. \"We are quite definitely here as representatives of the Amalgamated Union of Philosophers,\n",
        "\n",
        "THE HITCHHIKER'S GUIDE TO THE GALAXY / 179\n",
        "Sages, Luminaries and Other Thinking Persons, and we want this machine off, and we want it off now!\"\n",
        "\"What's the problem?\" said Lunkwill.\n",
        "\"I'll tell you what the problem is mate,\" said Majikthise, \"demarcation, that's the problem!\"\n",
        "\"We demand,\" yelled Vroomfondel, \"that demarcation may or may not be the problem!\"\n",
        "\"You just let the machines get on with the adding up,\" warned Majikthise, \"and we'll take care of the eternal verities thank you very much. You want to check your legal position you do mate. Under law the Quest for Ultimate Truth is quite clearly the inalienable prerogative of your working thinkers. Any bloody machine goes and actually finds it and we're straight out of a job aren't we? I mean what's the use of our sitting up half the night arguing that there may or may not be a God if this machine only goes and gives us his bleeding phone number the next morning?\"\n",
        "\"That's right!\" shouted Vroomfondel, \"we demand rigidly defined areas of doubt and uncertainty!\"\n",
        "Suddenly a stentorian voice boomed across the room.\n",
        "\"Might I make an observation at this point?\" inquired Deep Thought.\n",
        "\"We'll go on strike!\" yelled Vroomfondel.\n",
        "\"That's right!\" agreed Majikthise. \"You'll have a national Philosopher's strike on your hands!\"\n",
        "\n",
        "180 / DOUGLAS ADAMS\n",
        "The hum level in the room suddenly increased as several ancillary bass driver units, mounted in sedately carved and varnished cabinet speakers around the room, cut in to give Deep Thought's voice a little more power.\n",
        "\"All I wanted to say,\" bellowed the computer, \"is that my circuits are now irrevocably committed to calculating the answer to the Ultimate Question of Life, the Universe, and Everything -\" he paused and satisfied himself that he now had everyone's attention, before continuing more quietly, \"but the programme will take me a little while to run.\"\n",
        "Fook glanced impatiently at his watch.\n",
        "\"How long?\" he said.\n",
        "\"Seven and a half million years,\" said Deep Thought. Lunkwill and Fook blinked at each other.\n",
        "\"Seven and a half million years ...!\" they cried in chorus.\n",
        "\"Yes,\" declaimed Deep Thought, \"I said I'd have to think about it, didn't I? And it occurs to me that running a programme like this is bound to create an enormous amount of popular publicity for the whole area of philosophy in general. Everyone's going to have their own theories about what answer I'm eventually to come up with, and who better to capitalize on that media market than you yourself? So long as you can keep disagreeing with each other violently enough and slagging each other off in the popular press, you can keep yourself on the gravy train for life. How does that sound?\"\n",
        "The two philosophers gaped at him.\n",
        "\n",
        "THE HITCHHIKER'S GUIDE TO THE GALAXY / 181\n",
        "\"Bloody hell,\" said Majikthise, \"now that is what I call thinking. Here Vroomfondel, why do we never think of things like that?\"\n",
        "\"Dunno,\" said Vroomfondel in an awed whisper, \"think our brains must be too highly trained Majikthise.\"\n",
        "So saying, they turned on their heels and walked out of the door and into a lifestyle beyond their wildest dreams.\n",
        "\n",
        "182 / DOUGLAS ADAMS\n",
        "\"Yes, very salutary,\" said Arthur, after Slartibartfast had related the salient points of the story to him, \"but I don't understand what all this has got to do with the Earth and mice and things.\"\n",
        "\"That is but the first half of the story Earthman,\" said the old man. \"If you would care to discover what happened seven and a half millions later, on the great day of the Answer, allow me to invite you to my study where you can experience the events yourself on our Sens-O-Tape records. That is unless you would care to take a quick stroll on the surface of New Earth. It's only half completed I'm afraid - we haven't even finished burying the artificial dinosaur skeletons in the crust yet, then we have the Tertiary and Quarternary Periods of the Cenozoic Era to lay down, and ...\"\n",
        "\"No thank you,\" said Arthur, \"it wouldn't be quite the same.\"\n",
        "\"No,\" said Slartibartfast, \"it won't be,\" and he turned the aircar round and headed back towards the mind-numbing wall.\n",
        "\n",
        "THE HITCHHIKER'S GUIDE TO THE GALAXY / 183\n",
        "Slartibartfast's study was a total mess, like the results of an explosion in a public library. The old man frowned as they stepped in.\n",
        "\"Terribly unfortunate,\" he said, \"a diode blew in one of the life- support computers. When we tried to revive our cleaning staff we discovered they'd been dead for nearly thirty thousand years. Who's going to clear away the bodies, that's what I want to know. Look why don't you sit yourself down over there and let me plug you in?\"\n",
        "He gestured Arthur towards a chair which looked as if it had been made out of the rib cage of a stegosaurus.\n",
        "\"It was made out of the rib cage of a stegosaurus,\" explained the old man as he pottered about fishing bits of wire out from under tottering piles of paper and drawing instruments. \"Here,\" he said, \"hold these,\" and passed a couple of stripped wire end to Arthur.\n",
        "The instant he took hold of them a bird flew straight through him.\n",
        "He was suspended in mid-air and totally invisible to himself. Beneath him was a pretty treelined city square, and all around it as far as the eye could see were white concrete buildings of airy spacious design but somewhat the worse for wear - many were cracked and stained with rain. Today however the sun was shining, a fresh breeze danced lightly through the trees, and the odd sensation that all the buildings were quietly humming was probably caused by the fact that the square and all the streets around it were thronged with cheerful excited people. Somewhere a band was playing, brightly coloured flags were fluttering in the breeze and the spirit of carnival was in the air.\n",
        "\n",
        "184 / DOUGLAS ADAMS\n",
        "Arthur felt extraordinarily lonely stuck up in the air above it all without so much as a body to his name, but before he had time to reflect on this a voice rang out across the square and called for everyone's attention.\n",
        "A man standing on a brightly dressed dais before the building which clearly dominated the square was addressing the crowd over a Tannoy.\n",
        "\"O people waiting in the Shadow of Deep Thought!\" he cried out. \"Honoured Descendants of Vroomfondel and Majikthise, the Greatest and Most Truly Interesting Pundits the Universe has ever known ... The Time of Waiting is over!\"\n",
        "Wild cheers broke out amongst the crowd. Flags, streamers and wolf whistles sailed through the air. The narrower streets looked rather like centipedes rolled over on their backs and frantically waving their legs in the air.\n",
        "\"Seven and a half million years our race has waited for this Great and Hopefully Enlightening Day!\" cried the cheer leader. \"The Day of the Answer!\"\n",
        "Hurrahs burst from the ecstatic crowd.\n",
        "\"Never again,\" cried the man, \"never again will we wake up in the morning and think Who am I? What is my purpose in life? Does it really, cosmically speaking, matter if I don't get up and go to work? For today we will finally learn once and for all the plain and simple answer to all these nagging little problems of Life, the Universe and Everything!\"\n",
        "As the crowd erupted once again, Arthur found himself gliding through the air and down towards one of the large stately\n",
        "\n",
        "THE HITCHHIKER'S GUIDE TO THE GALAXY / 185\n",
        "windows on the first floor of the building behind the dais from which the speaker was addressing the crowd.\n",
        "He experienced a moment's panic as he sailed straight through towards the window, which passed when a second or so later he found he had gone right through the solid glass without apparently touching it.\n",
        "No one in the room remarked on his peculiar arrival, which is hardly surprising as he wasn't there. He began to realize that the whole experience was merely a recorded projection which knocked six-track seventy-millimetre into a cocked hat.\n",
        "The room was much as Slartibartfast had described it. In seven and a half million years it had been well looked after and cleaned regularly every century or so. The ultramahagony desk was worn at the edges, the carpet a little faded now, but the large computer terminal sat in sparkling glory on the desk's leather top, as bright as if it had been constructed yesterday. Two severely dressed men sat respectfully before the terminal and waited.\n",
        "\"The time is nearly upon us,\" said one, and Arthur was surprised to see a word suddenly materialize in thin air just by the man's neck. The word was Loonquawl, and it flashed a couple of times and the disappeared again. Before Arthur was able to assimilate this the other man spoke and the word Phouchg appeared by his neck.\n",
        "\"Seventy-five thousand generations ago, our ancestors set this program in motion,\" the second man said, \"and in all that time we will be the first to hear the computer speak.\"\n",
        "\n",
        "186 / DOUGLAS ADAMS\n",
        "\"An awesome prospect, Phouchg,\" agreed the first man, and Arthur suddenly realized that he was watching a recording with subtitles.\n",
        "\"We are the ones who will hear,\" said Phouchg, \"the answer to the great question of Life ...!\"\n",
        "\"The Universe ...!\" said Loonquawl. \"And Everything ...!\"\n",
        "\"Shhh,\" said Loonquawl with a slight gesture, \"I think Deep Thought is preparing to speak!\"\n",
        "There was a moment's expectant pause whilst panels slowly came to life on the front of the console. Lights flashed on and off experimentally and settled down into a businesslike pattern. A soft low hum came from the communication channel.\n",
        "\"Good morning,\" said Deep Thought at last.\n",
        "\"Er ... Good morning, O Deep Thought,\" said Loonquawl nervously, \"do you have ... er, that is ...\"\n",
        "\"An answer for you?\" interrupted Deep Thought majestically. \"Yes. I have.\"\n",
        "The two men shivered with expectancy. Their waiting had not been in vain.\n",
        "\"There really is one?\" breathed Phouchg. \"There really is one,\" confirmed Deep Thought.\n",
        "\"To Everything? To the great Question of Life, the Universe and Everything?\"\n",
        "\n",
        "THE HITCHHIKER'S GUIDE TO THE GALAXY / 187 \"Yes.\"\n",
        "Both of the men had been trained for this moment, their lives had been a preparation for it, they had been selected at birth as those who would witness the answer, but even so they found themselves gasping and squirming like excited children.\n",
        "\"And you're ready to give it to us?\" urged Loonquawl. \"I am.\" \"Now?\"\n",
        "\"Now,\" said Deep Thought.\n",
        "They both licked their dry lips.\n",
        "\"Though I don't think,\" added Deep Thought, \"that you're going to like it.\"\n",
        "\"Doesn't matter!\" said Phouchg. \"We must know it! Now!\"\n",
        "\"Now?\" inquired Deep Thought.\n",
        "\"Yes! Now ...\"\n",
        "\"Alright,\" said the computer and settled into silence again. The two men fidgeted. The tension was unbearable.\n",
        "\"You're really not going to like it,\" observed Deep Thought. \"Tell us!\"\n",
        "\"Alright,\" said Deep Thought. \"The Answer to the Great Question ...\"\n",
        "\"Yes ...!\"\n",
        "\"Of Life, the Universe and Everything ...\" said Deep Thought.\n",
        "\n",
        "188 / DOUGLAS ADAMS \"Yes ...!\" \"Is ...\" said Deep Thought, and paused.\n",
        "\"Yes ...!\"\n",
        "\"Is ...\"\n",
        "\"Yes ...!!!...?\"\n",
        "\"Forty-two,\" said Deep Thought, with infinite majesty and calm.\n",
        "\n",
        "THE HITCHHIKER'S GUIDE TO THE GALAXY / 189 It was a long time before anyone spoke.\n",
        "Out of the corner of his eye Phouchg could see the sea of tense expectant faces down in the square outside.\n",
        "\"We're going to get lynched aren't we?\" he whispered.\n",
        "\"It was a tough assignment,\" said Deep Thought mildly.\n",
        "\"Forty-two!\" yelled Loonquawl. \"Is that all you've got to show for seven and a half million years' work?\" \"I checked it very thoroughly,\" said the computer, \"and that quite definitely is the answer. I think the problem, to be quite honest with you, is that you've never actually known what the question is.\"\n",
        "\"But it was the Great Question! The Ultimate Question of Life, the Universe and Everything!\" howled Loonquawl.\n",
        "\"Yes,\" said Deep Thought with the air of one who suffers fools gladly, \"but what actually is it?\"\n",
        "A slow stupefied silence crept over the men as they stared at the computer and then at each other.\n",
        "\"Well, you know, it's just Everything ... Everything ...\" offered Phouchg weakly.\n",
        "\"Exactly!\" said Deep Thought. \"So once you do know what the question actually is, you'll know what the answer means.\"\n",
        "\"Oh terrific,\" muttered Phouchg flinging aside his notebook and wiping away a tiny tear.\n",
        "\"Look, alright, alright,\" said Loonquawl, \"can you just please tell us the Question?\"\n",
        "\n",
        "190 / DOUGLAS ADAMS \"The Ultimate Question?\"\n",
        "\"Yes!\"\n",
        "\"Of Life, the Universe, and Everything?\"\n",
        "\"Yes!\"\n",
        "Deep Thought pondered this for a moment.\n",
        "\"Tricky,\" he said.\n",
        "\"But can you do it?\" cried Loonquawl.\n",
        "Deep Thought pondered this for another long moment. Finally: \"No,\" he said firmly.\n",
        "Both men collapsed on to their chairs in despair.\n",
        "\"But I'll tell you who can,\" said Deep Thought.\n",
        "They both looked up sharply.\n",
        "\"Who?\" \"Tell us!\"\n",
        "Suddenly Arthur began to feel his apparently non-existent scalp begin to crawl as he found himself moving slowly but inexorably forward towards the console, but it was only a dramatic zoom on the part of whoever had made the recording he assumed.\n",
        "\"I speak of none other than the computer that is to come after me,\" intoned Deep Thought, his voice regaining its accustomed declamatory tones. \"A computer whose merest operational parameters I am not worthy to calculate - and yet I will design it for you. A computer which can calculate the Question to the\n",
        "\n",
        "THE HITCHHIKER'S GUIDE TO THE GALAXY / 191\n",
        "Ultimate Answer, a computer of such infinite and subtle complexity that organic life itself shall form part of its operational matrix. And you yourselves shall take on new forms and go down into the computer to navigate its ten-million-year program! Yes! I shall design this computer for you. And I shall name it also unto you. And it shall be called ... The Earth.\"\n",
        "Phouchg gaped at Deep Thought.\n",
        "\"What a dull name,\" he said and great incisions appeared down the length of his body. Loonquawl too suddenly sustained horrific gashed from nowhere. The Computer console blotched and cracked, the walls flickered and crumbled and the room crashed upwards into its own ceiling ...\n",
        "Slartibartfast was standing in front of Arthur holding the two wires.\n",
        "\"End of the tape,\" he explained.\n",
        "\n",
        "192 / DOUGLAS ADAMS\n",
        "\"Zaphod! Wake up!\"\n",
        "\"Mmmmmwwwwwerrrrr?\"\n",
        "\"Hey come on, wake up.\"\n",
        "\"Just let me stick to what I'm good at, yeah?\" muttered Zaphod and rolled away from the voice back to sleep.\n",
        "\"Do you want me to kick you?\" said Ford.\n",
        "\"Would it give you a lot of pleasure?\" said Zaphod, blearily.\n",
        "\"No.\"\n",
        "\"Nor me. So what's the point? Stop bugging me.\" Zaphod curled himself up.\n",
        "\"He got a double dose of the gas,\" said Trillian looking down at him, \"two windpipes.\"\n",
        "\"And stop talking,\" said Zaphod, \"it's hard enough trying to sleep anyway. What's the matter with the ground? It's all cold and hard.\"\n",
        "\"It's gold,\" said Ford.\n",
        "With an amazingly balletic movement Zaphod was standing and scanning the horizon, because that was how far the gold ground stretched in every direction, perfectly smooth and solid. It gleamed like ... it's impossible to say what it gleamed like because nothing in the Universe gleams in quite the same way that a planet of solid gold does. \"Who put all that there?\" yelped Zaphod, goggle-eyed.\n",
        "\"Don't get excited,\" said Ford, \"it's only a catalogue.\"\n",
        "\n",
        "THE HITCHHIKER'S GUIDE TO THE GALAXY / 193 \"A who?\"\n",
        "\"A catalogue,\" said Trillian, \"an illusion.\"\n",
        "\"How can you say that?\" cried Zaphod, falling to his hands and knees and staring at the ground. He poked it and prodded it with his fingernail. It was very heavy and very slightly soft - he could mark it with his fingernail. It was very yellow and very shiny, and when he breathed on it his breath evaporated off it in that very peculiar and special way that breath evaporates off solid gold.\n",
        "\"Trillian and I came round a while ago,\" said Ford. \"We shouted and yelled till somebody came and then carried on shouting and yelling till they got fed up and put us in their planet catalogue to keep us busy till they were ready to deal with us. This is all Sens- O-Tape.\"\n",
        "Zaphod stared at him bitterly.\n",
        "\"Ah, shit,\" he said, \"you wake me up from my own perfectly good dream to show me somebody else's.\" He sat down in a huff.\n",
        "\"What's that series of valleys over there?\" he said. \"Hallmark,\" said Ford. \"We had a look.\"\n",
        "\"We didn't wake you earlier,\" said Trillian. \"The last planet was knee deep in fish.\"\n",
        "\"Fish?\"\n",
        "\"Some people like the oddest things.\"\n",
        "\"And before that,\" said Ford, \"we had platinum. Bit dull. We thought you'd like to see this one though.\"\n",
        "\n",
        "194 / DOUGLAS ADAMS\n",
        "Seas of light glared at them in one solid blaze wherever they looked.\n",
        "\"Very pretty,\" said Zaphod petulantly.\n",
        "In the sky a huge green catalogue number appeared. It flickered and changed, and when they looked around again so had the land.\n",
        "As with one voice they all went, \"Yuch.\"\n",
        "The sea was purple. The beach they were on was composed of tiny yellow and green pebbles - presumably terribly precious stones. The mountains in the distance seemed soft and undulating with red peaks. Nearby stood a solid silver beach table with a frilly mauve parasol and silver tassles.\n",
        "In the sky a huge sign appeared, replacing the catalogue number. It said, Whatever your tastes, Magrathea can cater for you. We are not proud.\n",
        "And five hundred entirely naked women dropped out of the sky on parachutes.\n",
        "In a moment the scene vanished and left them in a springtime meadow full of cows.\n",
        "\"Ow!\" said Zaphod. \"My brains!\" \"You want to talk about it?\" said Ford.\n",
        "\"Yeah, OK,\" said Zaphod, and all three sat down and ignored the scenes that came and went around them.\n",
        "\"I figure this,\" said Zaphod. \"Whatever happened to my mind, I did it. And I did it in such a way that it wouldn't be detected by\n",
        "\n",
        "THE HITCHHIKER'S GUIDE TO THE GALAXY / 195\n",
        "the government screening tests. And I wasn't to know anything about it myself. Pretty crazy, right?\"\n",
        "The other two nodded in agreement.\n",
        "\"So I reckon, what's so secret that I can't let anybody know I know it, not the Galactic Government, not even myself? And the answer is I don't know. Obviously. But I put a few things together and I can begin to guess. When did I decide to run for President? Shortly after the death of President Yooden Vranx. You remember Yooden, Ford?\"\n",
        "\"Yeah,\" said Ford, \"he was that guy we met when we were kids, the Arcturan captain. He was a gas. He gave us conkers when you bust your way into his megafreighter. Said you were the most amazing kid he'd ever met.\"\n",
        "\"What's all this?\" said Trillian.\n",
        "\"Ancient history,\" said Ford, \"when we were kids together on Betelgeuse. The Arcturan megafreighters used to carry most of the bulky trade between the Galactic Centre and the outlying regions The Betelgeuse trading scouts used to find the markets and the Arcturans would supply them. There was a lot of trouble with space pirates before they were wiped out in the Dordellis wars, and the megafreighters had to be equipped with the most fantastic defence shields known to Galactic science. They were real brutes of ships, and huge. In orbit round a planet they would eclipse the sun.\n",
        "\"One day, young Zaphod here decides to raid one. On a tri-jet scooter designed for stratosphere work, a mere kid. I mean forget it, it was crazier than a mad monkey. I went along for the ride because I'd got some very safe money on him not doing it,\n",
        "\n",
        "196 / DOUGLAS ADAMS\n",
        "and didn't want him coming back with fake evidence. So what happens? We got in his tri-jet which he had souped up into something totally other, crossed three parsecs in a matter of weeks, bust our way into a megafreighter I still don't know how, marched on to the bridge waving toy pistols and demanded conkers. A wilder thing I have not known. Lost me a year's pocket money. For what? Conkers.\" \"The captain was this really amazing guy, Yooden Vranx,\" said Zaphod. \"He gave us food, booze - stuff from really weird parts of the Galaxy - lots of conkers of course, and we had just the most incredible time. Then he teleported us back. Into the maximum security wing of Betelgeuse state prison. He was a cool guy. Went on to become President of the Galaxy.\"\n",
        "Zaphod paused.\n",
        "The scene around them was currently plunged into gloom. Dark mists swirled round them and elephantine shapes lurked indistinctly in the shadows. The air was occasionally rent with the sounds of illusory beings murdering other illusory beings. Presumably enough people must have liked this sort of thing to make it a paying proposition.\n",
        "\"Ford,\" said Zaphod quietly.\n",
        "\"Yeah?\"\n",
        "\"Just before Yooden died he came to see me.\"\n",
        "\"What? You never told me.\"\n",
        "\"No.\"\n",
        "\"What did he say? What did he come to see you about?\"\n",
        "\n",
        "THE HITCHHIKER'S GUIDE TO THE GALAXY / 197\n",
        "\"He told me about the Heart of Gold. It was his idea that I should steal it.\"\n",
        "\"His idea?\"\n",
        "\"Yeah,\" said Zaphod, \"and the only possible way of stealing it was to be at the launching ceremony.\"\n",
        "Ford gaped at him in astonishment for a moment, and then roared with laughter.\n",
        "\"Are you telling me,\" he said, \"that you set yourself up to become President of the Galaxy just to steal that ship?\"\n",
        "\"That's it,\" said Zaphod with the sort of grin that would get most people locked away in a room with soft walls.\n",
        "\"But why?\" said Ford. \"What's so important about having it?\"\n",
        "\"Dunno,\" said Zaphod, \"I think if I'd consciously known what was so important about it and what I would need it for it would have showed up on the brain screening tests and I would never have passed. I think Yooden told me a lot of things that are still locked away.\"\n",
        "\"So you think you went and mucked about inside your own brain as a result of Yooden talking to you?\"\n",
        "\"He was a hell of a talker.\" \"Yeah, but Zaphod old mate, you want to look after yourself you know.\"\n",
        "Zaphod shrugged.\n",
        "\"I mean, don't you have any inkling of the reasons for all this?\" asked Ford.\n",
        "\n",
        "198 / DOUGLAS ADAMS\n",
        "Zaphod thought hard about this and doubts seemed to cross his minds.\n",
        "\"No,\" he said at last, \"I don't seem to be letting myself into any of my secrets. Still,\" he added on fu rther reflection, \"I can understand that. I wouldn't trust myself further than I could spit a rat.\"\n",
        "A moment later, the last planet in the catalogue vanished from beneath them and the solid world resolved itself again.\n",
        "They were sitting in a plush waiting room full of glass-top tables and design awards.\n",
        "A tall Magrathean man was standing in front of them. \"The mice will see you now,\" he said.\n",
        "\n",
        "THE HITCHHIKER'S GUIDE TO THE GALAXY / 199\n",
        "\"So there you have it,\" said Slartibartfast, making a feeble and perfunctory attempt to clear away some of the appalling mess of his study. He picked up a paper from the top of a pile, but then couldn't think of anywhere else to put it, so he but it back on top of the original pile which promptly fell over. \"Deep Thought designed the Earth, we built it and you lived on it.\"\n",
        "\"And the Vogons came and destroyed it five minutes before the program was completed,\" added Arthur, not unbitterly.\n",
        "\"Yes,\" said the old man, pausing to gaze hopelessly round the room. \"Ten million years of planning and work gone just like that. Ten million years, Earthman ... can you conceive of that kind of time span? A galactic civilization could grow from a single worm five times over in that time. Gone.\" He paused.\n",
        "\"Well that's bureaucracy for you,\" he added.\n",
        "\"You know,\" said Arthur thoughtfully, \"all this explains a lot of things. All through my life I've had this strange unaccountable feeling that something was going on in the world, something big, even sinister, and no one would tell me what it was.\"\n",
        "\"No,\" said the old man, \"that's just perfectly normal paranoia. Everyone in the Universe has that.\"\n",
        "\"Everyone?\" said Arthur. \"Well, if everyone has that perhaps it means something! Perhaps somewhere outside the Universe we know ...\" \"Maybe. Who cares?\" said Slartibartfast before Arthur got too excited. \"Perhaps I'm old and tired,\" he continued, \"but I always think that the chances of finding out what really is going on are so absurdly remote that the only thing to do is to say hang the sense of it and just keep yourself occupied. Look at me: I design coastlines. I got an award for Norway.\"\n",
        "\n",
        "200 / DOUGLAS ADAMS\n",
        "He rummaged around in a pile of debris and pulled out a large perspex block with his name on it and a model of Norway moulded into it.\n",
        "\"Where's the sense in that?\" he said. \"None that I've been able to make out. I've been doing fjords in all my life. For a fleeting moment they become fashionable and I get a major award.\"\n",
        "He turned it over in his hands with a shrug and tossed it aside carelessly, but not so carelessly that it didn't land on something soft.\n",
        "\"In this replacement Earth we're building they've given me Africa to do and of course I'm doing it with all fjords again because I happen to like them, and I'm old fashioned enough to think that they give a lovely baroque feel to a continent. And they tell me it's not equatorial enough. Equatorial!\" He gave a hollow laugh. \"What does it matter? Science has achieved some wonderful things of course, but I'd far rather be happy than right any day.\"\n",
        "\"And are you?\"\n",
        "\"No. That's where it all falls down of course.\"\n",
        "\"Pity,\" said Arthur with sympathy. \"It sounded like quite a good lifestyle otherwise.\"\n",
        "Somewhere on the wall a small white light flashed.\n",
        "\"Come,\" said Slartibartfast, \"you are to meet the mice. Your arrival on the planet has caused considerable excitement. It has already been hailed, so I gather, as the third most improbable event in the history of the Universe.\"\n",
        "\"What were the first two?\"\n",
        "\n",
        "THE HITCHHIKER'S GUIDE TO THE GALAXY / 201\n",
        "\"Oh, probably just coincidences,\" said Slartibartfast carelessly. He opened the door and stood waiting for Arthur to follow.\n",
        "Arthur glanced around him once more, and then down at himself, at the sweaty dishevelled clothes he had been lying in the mud in on Thursday morning.\n",
        "\"I seem to be having tremendous difficulty with my lifestyle,\" he muttered to himself.\n",
        "\"I beg your pardon?\" said the old man mildly. \"Oh nothing,\" said Arthur, \"only joking.\"\n",
        "\n",
        "202 / DOUGLAS ADAMS\n",
        "It is of course well known that careless talk costs lives, but the full scale of the problem is not always appreciated.\n",
        "For instance, at the very moment that Arthur said \"I seem to be having tremendous difficulty with my lifestyle,\" a freak wormhole opened up in the fabric of the space-time continuum and carried his words far far back in time across almost infinite reaches of space to a distant Galaxy where strange and warlike beings were poised on the brink of frightful interstellar battle.\n",
        "The two opposing leaders were meeting for the last time.\n",
        "A dreadful silence fell across the conference table as the commander of the Vl'hurgs, resplendent in his black jewelled battle shorts, gazed levelly at the G'Gugvuntt leader squatting opposite him in a cloud of green sweet-smelling steam, and, with a million sleek and horribly beweaponed star cruisers poised to unleash electric death at his single word of command, challenged the vile creature to take back what it had said about his mother.\n",
        "The creature stirred in his sickly broiling vapour, and at that very moment the words I seem to be having tremendous difficulty with my lifestyle drifted across the conference table.\n",
        "Unfortunately, in the Vl'hurg tongue this was the most dreadful insult imaginable, and there was nothing for it but to wage terrible war for centuries.\n",
        "Eventually of course, after their Galaxy had been decimated over a few thousand years, it was realized that the whole thing had been a ghastly mistake, and so the two opposing battle fleets settled their few remaining differences in order to launch a joint attack on our own Galaxy - now positively identified as the source of the offending remark.\n",
        "\n",
        "THE HITCHHIKER'S GUIDE TO THE GALAXY / 203\n",
        "For thousands more years the mighty ships tore across the empty wastes of space and finally dived screaming on to the first planet they came across - which happened to be the Earth - where due to a terrible miscalculation of scale the entire battle fleet was accidentally swallowed by a small dog.\n",
        "Those who study the complex interplay of cause and effect in the history of the Universe say that this sort of thing is going on all the time, but that we are powerless to prevent it.\n",
        "\"It's just life,\" they say.\n",
        "A short aircar trip brought Arthur and the old Magrathean to a doorway. They left the car and went through the door into a waiting room full of glass-topped tables and perspex awards. Almost immediately, a light flashed above the door at the other side of the room and they entered.\n",
        "\"Arthur! You're safe!\" a voice cried.\n",
        "\"Am I?\" said Arthur, rather startled. \"Oh good.\"\n",
        "The lighting was rather subdued and it took him a moment or so to see Ford, Trillian and Zaphod sitting round a large table beautifully decked out with exotic dishes, strange sweetmeats and bizarre fruits. They were stuffing their faces.\n",
        "\"What happened to you?\" demanded Arthur.\n",
        "\"Well,\" said Zaphod, attacking a boneful of grilled muscle, \"our guests here have been gassing us and zapping our minds and being generally weird and have now given us a rather nice meal to make it up to us. Here,\" he said hoiking out a lump of evil smelling meat from a bowl, \"have some Vegan Rhino's cutlet. It's delicious if you happen to like that sort of thing.\"\n",
        "\n",
        "204 / DOUGLAS ADAMS\n",
        "\"Hosts?\" said Arthur. \"What hosts? I don't see any ...\"\n",
        "A small voice said, \"Welcome to lunch, Earth creature.\"\n",
        "Arthur glanced around and suddenly yelped.\n",
        "\"Ugh!\" he said. \"There are mice on the table!\"\n",
        "There was an awkward silence as everyone looked pointedly at Arthur.\n",
        "He was busy staring at two white mice sitting in what looked like whisky glasses on the table. He heard the silence and glanced around at everyone.\n",
        "\"Oh!\" he said, with sudden realization. \"Oh, I'm sorry, I wasn't quite prepared for ...\"\n",
        "\"Let me introduce you,\" said Trillian. \"Arthur this is Benji mouse.\"\n",
        "\"Hi,\" said one of the mice. His whiskers stroked what must have been a touch sensitive panel on the inside of the whisky-glass like affair, and it moved forward slightly.\n",
        "\"And this is Frankie mouse.\"\n",
        "The other mouse said, \"Pleased to meet you,\" and did likewise. Arthur gaped.\n",
        "\"But aren't they ...\"\n",
        "\"Yes,\" said Trillian, \"they are the mice I brought with me from the Earth.\"\n",
        "\n",
        "THE HITCHHIKER'S GUIDE TO THE GALAXY / 205\n",
        "She looked him in the eye and Arthur thought he detected the tiniest resigned shrug.\n",
        "\"Could you pass me that bowl of grated Arcturan Megadonkey?\" she said.\n",
        "Slartibartfast coughed politely. \"Er, excuse me,\" he said. \"Yes, thank you Slartibartfast,\" said Benji mouse sharply, \"you may go.\"\n",
        "\"What? Oh ... er, very well,\" said the old man, slightly taken aback, \"I'll just go and get on with some of my fjords then.\"\n",
        "\"Ah, well in fact that won't be necessary,\" said Frankie mouse. \"It looks very much as if we won't be needing the new Earth any longer.\" He swivelled his pink little eyes. \"Not now that we have found a native of the planet who was there seconds before it was destroyed.\"\n",
        "\"What?\" cried Slartibartfast, aghast. \"You can't mean that! I've got a thousand glaciers poised and ready to roll over Africa!\"\n",
        "\"Well perhaps you can take a quick skiing holiday before you dismantle them,\" said Frankie, acidly.\n",
        "\"Skiing holiday!\" cried the old man. \"Those glaciers are works of art! Elegantly sculptured contours, soaring pinnacles of ice, deep majestic ravines! It would be sacrilege to go skiing on high art!\"\n",
        "\"Thank you Slartibartfast,\" said Benji firmly. \"That will be all.\"\n",
        "\"Yes sir,\" said the old man coldly, \"thank you very much. Well, goodbye Earthman,\" he said to Arthur, \"hope the lifestyle comes together.\"\n",
        "\n",
        "206 / DOUGLAS ADAMS\n",
        "With a brief nod to the rest of the company he turned and walked sadly out of the room.\n",
        "Arthur stared after him not knowing what to say. \"Now,\" said Benji mouse, \"to business.\"\n",
        "Ford and Zaphod clinked their glasses together. \"To business!\" they said.\n",
        "\"I beg your pardon?\" said Benji.\n",
        "Ford looked round.\n",
        "\"Sorry, I thought you were proposing a toast,\" he said.\n",
        "The two mice scuttled impatiently around in their glass transports. Finally they composed themselves, and Benji moved forward to address Arthur.\n",
        "\"Now, Earth creature,\" he said, \"the situation we have in effect is this. We have, as you know, been more or less running your planet for the last ten million years in order to find this wretched thing called the Ultimate Question.\"\n",
        "\"Why?\" said Arthur, sharply.\n",
        "\"No - we already thought of that one,\" said Frankie interrupting, \"but it doesn't fit the answer. Why? - Forty-Two ... you see, it doesn't work.\"\n",
        "\"No,\" said Arthur, \"I mean why have you been doing it?\"\n",
        "\"Oh, I see,\" said Frankie. \"Well, eventually just habit I think, to be brutally honest. And this is more or less the point - we're sick\n",
        "\n",
        "THE HITCHHIKER'S GUIDE TO THE GALAXY / 207\n",
        "to the teeth with the whole thing, and the prospect of doing it all over again on account of those whinnet-ridden Vogons quite frankly gives me the screaming heeby jeebies, you know what I mean? It was by the merest lucky chance that Benji and I finished our particular job and left the planet early for a quick holiday, and have since manipulated our way back to Magrathea by the good offices of your friends.\"\n",
        "\"Magrathea is a gateway back to our own dimension,\" put in Benji.\n",
        "\"Since when,\" continued his murine colleague, \"we have had an offer of a quite enormously fat contract to do the 5D chat show and lecture circuit back in our own dimensional neck of the woods, and we're very much inclined to take it.\"\n",
        "\"I would, wouldn't you Ford?\" said Zaphod promptingly. \"Oh yes,\" said Ford, \"jump at it, like a shot.\"\n",
        "Arthur glanced at them, wondering what all this was leading up to.\n",
        "\"But we've got to have a product you see,\" said Frankie, \"I mean ideally we still need the Ultimate Question in some form or other.\"\n",
        "Zaphod leaned forward to Arthur.\n",
        "\"You see,\" he said, \"if they're just sitting there in the studio looking very relaxed and, you know, just mentioning that they happen to know the Answer to Life, the Universe and Everything, and then eventually have to admit that in fact it's Forty-two, then the show's probably quite short. No follow-up, you see.\"\n",
        "\n",
        "208 / DOUGLAS ADAMS\n",
        "\"We have to have something that sounds good,\" said Benji.\n",
        "\"Something that sounds good?\" exclaimed Arthur. \"An Ultimate Question that sounds good? From a couple of mice?\"\n",
        "The mice bristled.\n",
        "\"Well, I mean, yes idealism, yes the dignity of pure research, yes the pursuit of truth in all its forms, but there comes a point I'm afraid where you begin to suspect that if there's any real truth, it's that the entire multi-dimensional infinity of the Universe is almost certainly being run by a bunch of maniacs. And if it comes to a choice between spending yet another ten million years finding that out, and on the other hand just taking the money and running, then I for one could do with the exercise,\" said Frankie.\n",
        "\"But ...\" started Arthur, hopelessly. \"Hey, will you get this, Earthman,\" interrupted Zaphod. \"You are a last generation product of that computer matrix, right, and you were there right up to the moment your planet got the finger, yeah?\"\n",
        "\"Er ...\"\n",
        "\"So your brain was an organic part of the penultimate configuration of the computer programme,\" said Ford, rather lucidly he thought.\n",
        "\"Right?\" said Zaphod.\n",
        "\"Well,\" said Arthur doubtfully. He wasn't aware of ever having felt an organic part of anything. He had always seen this as one of his problems.\n",
        "\n",
        "THE HITCHHIKER'S GUIDE TO THE GALAXY / 209\n",
        "\"In other words,\" said Benji, steering his curious little vehicle right over to Arthur, \"there's a good chance that the structure of the question is encoded in the structure of your brain - so we want to buy it off you.\"\n",
        "\"What, the question?\" said Arthur.\n",
        "\"Yes,\" said Ford and Trillian.\n",
        "\"For lots of money,\" said Zaphod.\n",
        "\"No, no,\" said Frankie, \"it's the brain we want to buy.\" \"What!\"\n",
        "\"I thought you said you could just read his brain electronical\\-ly,\" pro\\-tes\\-ted Ford.\n",
        "\"Oh yes,\" said Frankie, \"but we'd have to get it out first. It's got to be prepared.\"\n",
        "\"Treated,\" said Benji. \"Diced.\"\n",
        "\"Thank you,\" shouted Arthur, tipping up his chair and backing away from the table in horror.\n",
        "\"It could always be replaced,\" said Benji reasonably, \"if you think it's important.\"\n",
        "\"Yes, an electronic brain,\" said Frankie, \"a simple one would suffice.\"\n",
        "\"A simple one!\" wailed Arthur. \"Yeah,\" said Zaphod with a sudden evil grin, \"you'd just have to program it to say What? and\n",
        "\n",
        "210 / DOUGLAS ADAMS\n",
        "I don't understand and Where's the tea? - who'd know the difference?\"\n",
        "\"What?\" cried Arthur, backing away still further. \"See what I mean?\" said Zaphod and howled with pain because of something that Trillian did at that moment.\n",
        "\"I'd notice the difference,\" said Arthur.\n",
        "\"No you wouldn't,\" said Frankie mouse, \"you'd be programmed not to.\"\n",
        "Ford made for the door.\n",
        "\"Look, I'm sorry, mice old lads,\" he said. \"I don't think we've got a deal.\"\n",
        "\"I rather think we have to have a deal,\" said the mice in chorus, all the charm vanishing fro their piping little voices in an instant. With a tiny whining shriek their two glass transports lifted themselves off the table, and swung through the air towards Arthur, who stumbled further backwards into a blind corner, utterly unable to cope or think of anything.\n",
        "Trillian grabbed him desperately by the arm and tried to drag him towards the door, which Ford and Zaphod were struggling to open, but Arthur was dead weight - he seemed hypnotized by the airborne rodents swooping towards him.\n",
        "She screamed at him, but he just gaped.\n",
        "With one more yank, Ford and Zaphod got the door open. On the other side of it was a small pack of rather ugly men who they could only assume were the heavy mob of Magrathea. Not only\n",
        "\n",
        "THE HITCHHIKER'S GUIDE TO THE GALAXY / 211\n",
        "were they ugly themselves, but the medical equipment they carried with them was also far from pretty. They charged.\n",
        "So - Arthur was about to have his head cut open, Trillian was unable to help him, and Ford and Zaphod were about to be set upon by several thugs a great deal heavier and more sharply armed than they were.\n",
        "All in all it was extremely fortunate that at that moment every alarm on the planet burst into an earsplitting din.\n",
        "\n",
        "212 / DOUGLAS ADAMS\n",
        "\"Emergency! Emergency!\" blared the klaxons throughout Ma\\- gra\\-thea. \"Hos\\-tile ship has landed on planet. Armed intruders in section 8A. Defence stations, defence stations!\"\n",
        "The two mice sniffed irritably round the fragments of their glass transports where they lay shattered on the floor.\n",
        "\"Damnation,\" muttered Frankie mouse, \"all that fuss over two pounds of Earthling brain.\" He scuttled round and about, his pink eyes flashing, his fine white coat bristling with static.\n",
        "\"The only thing we can do now,\" said Benji, crouching and stroking his whiskers in thought, \"is to try and fake a question, invent one that will sound plausible.\" \"Difficult,\" said Frankie. He thought. \"How about What's yellow and dangerous?\"\n",
        "Benji considered this for a moment.\n",
        "\"No, no good,\" he said. \"Doesn't fit the answer.\"\n",
        "They sank into silence for a few seconds.\n",
        "\"Alright,\" said Benji. \"What do you get if you multiply six by seven?\"\n",
        "\"No, no, too literal, too factual,\" said Frankie, \"wouldn't sustain the punters' interest.\"\n",
        "Again they thought.\n",
        "Then Frankie said: \"Here's a thought. How many roads must a man walk down?\"\n",
        "\"Ah,\" said Benji. \"Aha, now that does sound promising!\" He rolled the phrase around a little. \"Yes,\" he said, \"that's excellent! Sounds very significant without actually tying you down to\n",
        "\n",
        "THE HITCHHIKER'S GUIDE TO THE GALAXY / 213\n",
        "meaning anything at all. How many roads must a man walk down? Forty-two. Excellent, excellent, that'll fox 'em. Frankie baby, we are made!\"\n",
        "They performed a scampering dance in their excitement.\n",
        "Near them on the floor lay several rather ugly men who had been hit about the head with some heavy design awards.\n",
        "Half a mile away, four figures pounded up a corridor looking for a way out. They emerged into a wide open-plan computer bay. They glanced about wildly.\n",
        "\"Which way do you reckon Zaphod?\" said Ford.\n",
        "\"At a wild guess, I'd say down here,\" said Zaphod, running off down to the right between a computer bank and the wall. As the others started after him he was brought up short by a Kill-O-Zap energy bolt that cracked through the air inches in front of him and fried a small section of adjacent wall.\n",
        "A voice on a loud hailer said, \"OK Beeblebrox, hold it right there. We've got you covered.\"\n",
        "\"Cops!\" hissed Zaphod, and span around in a crouch. \"You want to try a guess at all, Ford?\"\n",
        "\"OK, this way,\" said Ford, and the four of them ran down a gangway between two computer banks.\n",
        "At the end of the gangway appeared a heavily armoured and space- suited figure waving a vicious Kill-O-Zap gun.\n",
        "\n",
        "214 / DOUGLAS ADAMS\n",
        "\"We don't want to shoot you, Beeblebrox!\" shouted the figure. \"Suits me fine!\" shouted Zaphod back and dived down a wide gap between two data process units.\n",
        "The others swerved in behind him.\n",
        "\"There are two of them,\" said Trillian. \"We're cornered.\"\n",
        "They squeezed themselves down in an angle between a large computer data bank and the wall.\n",
        "They held their breath and waited.\n",
        "Suddenly the air exploded with energy bolts as both the cops opened fire on them simultaneously.\n",
        "\"Hey, they're shooting at us,\" said Arthur, crouching in a tight ball, \"I thought they said they didn't want to do that.\"\n",
        "\"Yeah, I thought they said that,\" agreed Ford. Zaphod stuck a head up for a dangerous moment.\n",
        "\"Hey,\" he said, \"I thought you said you didn't want to shoot us!\" and ducked again.\n",
        "They waited.\n",
        "After a moment a voice replied, \"It isn't easy being a cop!\" \"What did he say?\" whispered Ford in astonishment.\n",
        "\"He said it isn't easy being a cop.\"\n",
        "\"Well surely that's his problem isn't it?\"\n",
        "\"I'd have thought so.\"\n",
        "\n",
        "THE HITCHHIKER'S GUIDE TO THE GALAXY / 215\n",
        "Ford shouted out, \"Hey listen! I think we've got enough problems on our own having you shooting at us, so if you could avoid laying your problems on us as well, I think we'd all find it easier to cope!\"\n",
        "Another pause, and then the loud hailer again.\n",
        "\"Now see here, guy,\" said the voice on the loud hailer, \"you're not dealing with any dumb two-bit trigger-pumping morons with low hairlines, little piggy eyes and no conversation, we're a couple of intelligent caring guys that you'd probably quite like if you met us socially! I don't go around gratuitously shooting people and then bragging about it afterwards in seedy space-rangers bars, like some cops I could mention! I go around shooting people gratuitously and then I agonize about it afterwards for hours to my girlfriend!\"\n",
        "\"And I write novels!\" chimed in the other cop. \"Though I haven't had any of them published yet, so I better warn you, I'm in a meeeean mood!\"\n",
        "Ford's eyes popped halfway out of their sockets. \"Who are these guys?\" he said.\n",
        "\"Dunno,\" said Zaphod, \"I think I preferred it when they were shooting.\"\n",
        "\"So are you going to come quietly,\" shouted one of the cops again, \"or are you going to let us blast you out?\"\n",
        "\"Which would you prefer?\" shouted Ford.\n",
        "A millisecond later the air about them started to fry again, as bolt after bolt of Kill-O-Zap hurled itself into the computer bank in front of them.\n",
        "\n",
        "216 / DOUGLAS ADAMS\n",
        "The fusillade continued for several seconds at unbearable intensity.\n",
        "When it stopped, there were a few seconds of near quietness ad the echoes died away.\n",
        "\"You still there?\" called one of the cops.\n",
        "\"Yes,\" they called back.\n",
        "\"We didn't enjoy doing that at all,\" shouted the other cop. \"We could tell,\" shouted Ford.\n",
        "\"Now, listen to this, Beeblebrox, and you better listen good!\" \"Why?\" shouted Back Zaphod.\n",
        "\"Because,\" shouted the cop, \"it's going to be very intelligent, and quite interesting and humane! Now either you all give yourselves up now and let us beat you up a bit, though not very much of course because we are firmly opposed to needless violence, or we blow up this entire planet and possibly one or two others we noticed on our way out here!\"\n",
        "\"But that's crazy!\" cried Trillian. \"You wouldn't do that!\"\n",
        "\"Oh yes we would,\" shouted the cop, \"wouldn't we?\" he asked the other one.\n",
        "\"Oh yes, we'd have to, no question,\" the other one called back. \"But why?\" demanded Trillian.\n",
        "\n",
        "THE HITCHHIKER'S GUIDE TO THE GALAXY / 217\n",
        "\"Because there are some things you have to do even if you are an enlightened liberal cop who knows all about sensitivity and everything!\"\n",
        "\"I just don't believe these guys,\" muttered Ford, shaking his head.\n",
        "One cop shouted to the other, \"Shall we shoot them again for a bit?\"\n",
        "\"Yeah, why not?\" They let fly another electric barrage.\n",
        "The heat and noise was quite fantastic. Slowly, the computer bank was beginning to disintegrate. The front had almost all melted away, and thick rivulets of molten metal were winding their way back towards where they were squatting. They huddled further back and waited for the end.\n",
        "\n",
        "218 / DOUGLAS ADAMS But the end never came, at least not then.\n",
        "Quite suddenly the barrage stopped, and the sudden silence afterwards was punctuated by a couple of strangled gurgles and thuds.\n",
        "The four stared at each other.\n",
        "\"What happened?\" said Arthur.\n",
        "\"They stopped,\" said Zaphod with a shrug. \"Why?\"\n",
        "\"Dunno, do you want to go and ask them?\" \"No.\"\n",
        "They waited.\n",
        "\"Hello?\" called out Ford.\n",
        "No answer.\n",
        "\"That's odd.\"\n",
        "\"Perhaps it's a trap.\"\n",
        "\"They haven't the wit.\"\n",
        "\"What were those thuds?\"\n",
        "\"Dunno.\"\n",
        "They waited for a few more seconds.\n",
        "\"Right,\" said Ford, \"I'm going to have a look.\"\n",
        "\n",
        "THE HITCHHIKER'S GUIDE TO THE GALAXY / 219 He glanced round at the others.\n",
        "\"Is no one going to say, No you can't possibly, let me go instead?\" They all shook their heads.\n",
        "\"Oh well,\" he said, and stood up. For a moment, nothing happened.\n",
        "Then, after a second or so, nothing continued to happen. Ford peered through the thick smoke that was billowing out of the burning computer.\n",
        "Cautiously he stepped out into the open.\n",
        "Still nothing happened.\n",
        "Twenty yards away he could dimly see through the smoke the space-suited figure of one of the cops. He was lying in a crumpled heap on the ground. Twenty yards in the other direction lay the second man. No one else was anywhere to be seen.\n",
        "This struck Ford as being extremely odd.\n",
        "Slowly, nervously, he walked towards the first one. The body lay reassuringly still as he approached it, and continued to lie reassuringly still as he reached it and put his foot down on the Kill-O-Zap gun that still dangled from its limp fingers.\n",
        "He reached down and picked it up, meeting no resistance. The cop was quite clearly dead.\n",
        "\n",
        "220 / DOUGLAS ADAMS\n",
        "A quick examination revealed him to be from Blagulon Kappa - he was a methane-breathing life form, dependent on his space suit for survival in the thin oxygen atmosphere of Magrathea.\n",
        "The tiny life-support system computer on his backpack appeared unexpectedly to have blown up.\n",
        "Ford poked around in it in considerable astonishment. These miniature suit computers usually had the full back-up of the main computer back on the ship, with which they were directly linked through the sub-etha. Such a system was fail-safe in all circumstances other than total feedback malfunction, which was unheard of.\n",
        "He hurried over to the other prone figure, and discovered that exactly the same impossible thing had happened to him, presumably simultaneously.\n",
        "He called the others over to look. They came, shared his astonishment, but not his curiosity.\n",
        "\"Let's get shot out of this hole,\" said Zaphod. \"If whatever I'm supposed to be looking for is here, I don't want it.\" He grabbed the second Kill-O-Zap gun, blasted a perfectly harmless accounting computer and rushed out into the corridor, followed by the others. He very nearly blasted hell out of an aircar that stood waiting for them a few yards away.\n",
        "The aircar was empty, but Arthur recognized it as belonging to Slartibartfast.\n",
        "It had a note from him pinned to part of its sparse instrument panel. The note had an arrow drawn on it, pointing at one of the controls.\n",
        "\n",
        "THE HITCHHIKER'S GUIDE TO THE GALAXY / 221 It said, This is probably the best button to press.\n",
        "\n",
        "222 / DOUGLAS ADAMS\n",
        "The aircar rocketed them at speeds in excess of R17 through the steel tunnels that lead out onto the appalling surface of the planet which was now in the grip of yet another drear morning twilight. Ghastly grey lights congealed on the land.\n",
        "R is a velocity measure, defined as a reasonable speed of travel that is consistent with health, mental wellbeing and not being more than say five minutes late. It is therefore clearly an almost infinitely variable figure according to circumstances, since the first two factors vary not only with speed taken as an absolute, but also with awareness of the third factor. Unless handled with tranquility this equation can result in considerable stress, ulcers and even death.\n",
        "R17 is not a fixed velocity, but it is clearly far too fast.\n",
        "The aircar flung itself through the air at R17 and above, deposited them next to the Heart of Gold which stood starkly on the frozen ground like a bleached bone, and then precipitately hurled itself back in the direction whence they had come, presumably on important business of its own.\n",
        "Shivering, the four of them stood and looked at the ship.\n",
        "Beside it stood another one.\n",
        "It was the Blagulon Kappa policecraft, a bulbous sharklike affair, slate green in colour and smothered with black stencilled letters of varying degrees of size and unfriendliness. The letters informed anyone who cared to read them as to where the ship was from, what section of the police it was assigned to, and where the power feeds should be connected.\n",
        "It seemed somehow unnaturally dark and silent, even for a ship whose two-man crew was at that moment lying asphyxicated in a\n",
        "\n",
        "THE HITCHHIKER'S GUIDE TO THE GALAXY / 223\n",
        "smoke-filled chamber several miles beneath the ground. It is one of those curious things that is impossible to explain or define, but one can sense when a ship is completely dead.\n",
        "Ford could sense it and found it most mysterious - a ship and two policemen seemed to have gone spontaneously dead. In his experience the Universe simply didn't work like that.\n",
        "The other three could sense it too, but they could sense the bitter cold even more and hurried back into the Heart of Gold suffering from an acute attack of no curiosity.\n",
        "Ford stayed, and went to examine the Blagulon ship. As he walked, he nearly tripped over an inert steel figure lying face down in the cold dust.\n",
        "\"Marvin!\" he exclaimed. \"What are you doing?\" \"Don't feel you have to take any notice of me, please,\" came a muffled drone.\n",
        "\"But how are you, metalman?\" said Ford.\n",
        "\"Very depressed.\"\n",
        "\"What's up?\"\n",
        "\"I don't know,\" said Marvin, \"I've never been there.\"\n",
        "\"Why,\" said Ford squatting down beside him and shivering, \"are you lying face down in the dust?\"\n",
        "\"It's a very effective way of being wretched,\" said Marvin. \"Don't pretend you want to talk to me, I know you hate me.\"\n",
        "\"No I don't.\"\n",
        "\n",
        "224 / DOUGLAS ADAMS\n",
        "\"Yes you do, everybody does. It's part of the shape of the Universe. I only have to talk to somebody and they begin to hate me. Even robots hate me. If you just ignore me I expect I shall probably go away.\"\n",
        "He jacked himself up to his feet and stood resolutely facing the opposite direction.\n",
        "\"That ship hated me,\" he said dejectedly, indicating the policecraft.\n",
        "\"That ship?\" said Ford in sudden excitement. \"What happened to it? Do you know?\"\n",
        "\"It hated me because I talked to it.\"\n",
        "\"You talked to it?\" exclaimed Ford. \"What do you mean you talked to it?\"\n",
        "\"Simple. I got very bored and depressed, so I went and plugged myself in to its external computer feed. I talked to the computer at great length and explained my view of the Universe to it,\" said Marvin.\n",
        "\"And what happened?\" pressed Ford.\n",
        "\"It committed suicide,\" said Marvin and stalked off back to the Heart of Gold.\n",
        "\n",
        "THE HITCHHIKER'S GUIDE TO THE GALAXY / 225\n",
        "That night, as the Heart of Gold was busy putting a few light years between itself and the Horsehead Nebula, Zaphod lounged under the small palm tree on the bridge trying to bang his brain into shape with massive Pan Galactic Gargle Blasters; Ford and Trillian sat in a corner discussing life and matters arising from it; and Arthur took to his bed to flip through Ford's copy of The Hitch Hiker's Guide to the Galaxy. Since he was going to live in the place, he reasoned, he'd better start finding out something about it.\n",
        "He came across this entry.\n",
        "It said: 'The History of every major Galactic Civilization tends to pass through three distinct and recognizable phases, those of Survival, Inquiry and Sophistication, otherwise known as the How, Why and Where phases.\n",
        "\"For instance, the first phase is characterized by the question How can we eat? the second by the question Why do we eat? and the third by the question Where shall we have lunch?\"\n",
        "He got no further before the ship's intercom buzzed into life. \"Hey Earthman? You hungry kid?\" said Zaphod's voice.\n",
        "\"Er, well yes, a little peckish I suppose,\" said Arthur.\n",
        "\"OK baby, hold tight,\" said Zaphod. \"We'll take in a quick bite at the Restaurant at the End of the Universe.\"\n",
        "\n",
        "226 / DOUGLAS ADAMS\n",
        "{What's President?}\n",
        "President: full title President of the Imperial Galactic Government.\n",
        "The term Imperial is kept though it is now an anachronism. The hereditary Emperor is nearly dead and has been so for many centuries. In the last moments of his dying coma he was locked in a statis field which keeps him in a state of perpetual unchangingness. All his heirs are now long dead, and this means that without any drastic political upheaval, power has simply and effectively moved a rung or two down the ladder, and is now seen to be vested in a body which used to act simply as advisers to the Emperor - an elected Governmental assembly headed by a President elected by that assembly. In fact it vests in no such place.\n",
        "The President in particular is very much a figurehead - he wields no real power whatsoever. He is apparently chosen by the government, but the qualities he is required to display are not those of leadership but those of finely judged outrage. For this reason the President is always a controversial choice, always an infuriating but fascinating character. His job is not to wield power but to draw attention away from it. On those criteria Zaphod Beeblebrox is one of the most successful Presidents the Galaxy has ever had - he has already spent two of his ten Presidential years in prison for fraud. Very very few people realize that the President and the Government have virtually no power at all, and of these very few people only six know whence ultimate political power is wielded. Most of the others secretly believe that the ultimate decision-making process is handled by a computer. They couldn't be more wrong.\n",
        "{About Ford Perfect}\n",
        "\n",
        "THE HITCHHIKER'S GUIDE TO THE GALAXY / 227\n",
        "Ford Prefect's original name is only pronuncible in an obscure Betelgeusian dialect, now virtually extinct since the Great Collapsing Hrung Disaster of Gal./Sid./Year 03758 which wiped out all the old Praxibetel communities on Betelgeuse Seven. Ford's father was the only man on the entire planet to survive the Great Collapsing Hrung disaster, by an extraordinary coincidence that he was never able satisfactorily to explain. The whole episode is shrouded in deep mystery: in fact no one ever knew what a Hrung was nor why it had chosen to collapse on Betelgeuse Seven particularly. Ford's father, magnanimously waving aside the clouds of suspicion that had inevitably settled around him, came to live on Betelgeuse Five where he both fathered and uncled Ford; in memory of his now dead race he christened him in the ancient Praxibetel tongue.\n",
        "Because Ford never learned to say his original name, his father eventually died of shame, which is still a terminal disease in some parts of the Galaxy. The other kids at school nicknamed him Ix, which in the language of Betelgeuse Five translates as \"boy who is not able satisfactorily to explain what a Hrung is, nor why it should choose to collapse on Betelgeuse Seven\".\n",
        "\"\"\""
      ]
    },
    {
      "cell_type": "markdown",
      "metadata": {
        "id": "EZvgFuaXcHFT"
      },
      "source": [
        "We can leverage our tokenizer to count the number of tokens for us!"
      ]
    },
    {
      "cell_type": "code",
      "execution_count": 2,
      "metadata": {
        "id": "HaKPOdSjbifn"
      },
      "outputs": [],
      "source": [
        "import tiktoken\n",
        "\n",
        "enc = tiktoken.encoding_for_model(\"gpt-3.5-turbo\")"
      ]
    },
    {
      "cell_type": "code",
      "execution_count": 3,
      "metadata": {
        "colab": {
          "base_uri": "https://localhost:8080/"
        },
        "id": "NtDiSMxpE4Xi",
        "outputId": "886fd517-9128-45ca-9fbd-5152ae7f146b"
      },
      "outputs": [
        {
          "data": {
            "text/plain": [
              "63676"
            ]
          },
          "execution_count": 3,
          "metadata": {},
          "output_type": "execute_result"
        }
      ],
      "source": [
        "len(enc.encode(context))"
      ]
    },
    {
      "cell_type": "markdown",
      "metadata": {
        "id": "5oUuZpAicLdm"
      },
      "source": [
        "The full set comes in at a whopping *636,144* tokens.\n",
        "\n",
        "So, we have too much context. What can we do?\n",
        "\n",
        "Well, the first thing that might enter your mind is: \"Use a model with more context window\", and we could definitely do that! However, even `gpt-4-32k` wouldn't be able to fit that whole text in the context window at once.\n",
        "\n",
        "So, we can try splitting our document up into little pieces - that way, we can avoid providing too much context.\n",
        "\n",
        "We have another problem now.\n",
        "\n",
        "If we split our document up into little pieces, and we can't put all of them in the prompt. How do we decide which to include in the prompt?!\n",
        "\n",
        "> NOTE: Content splitting/chunking strategies are an active area of research and iterative developement. There is no \"one size fits all\" approach to chunking/splitting at this moment. Use your best judgement to determine chunking strategies!\n",
        "\n",
        "In order to conceptualize the following processes - let's create a toy context set!"
      ]
    },
    {
      "cell_type": "markdown",
      "metadata": {
        "id": "UPCiOPwUfbqn"
      },
      "source": [
        "### TextSplitting aka Chunking\n",
        "\n",
        "We'll use the `RecursiveCharacterTextSplitter` to create our toy example.\n",
        "\n",
        "It will split based on the following rules:\n",
        "\n",
        "- Each chunk has a maximum size of 100 tokens\n",
        "- It will try and split first on the `\\n\\n` character, then on the `\\n`, then on the `<SPACE>` character, and finally it will split on individual tokens.\n",
        "\n",
        "Let's implement it and see the results!"
      ]
    },
    {
      "cell_type": "code",
      "execution_count": 16,
      "metadata": {
        "id": "nLW9AfDKfVHn"
      },
      "outputs": [],
      "source": [
        "from langchain.text_splitter import RecursiveCharacterTextSplitter\n",
        "\n",
        "\n",
        "def tiktoken_len(text):\n",
        "    tokens = tiktoken.encoding_for_model(\"gpt-3.5-turbo\").encode(\n",
        "        text,\n",
        "    )\n",
        "    return len(tokens)\n",
        "\n",
        "\n",
        "text_splitter = RecursiveCharacterTextSplitter(\n",
        "    chunk_size=100,\n",
        "    chunk_overlap=0,\n",
        "    length_function=tiktoken_len,\n",
        ")"
      ]
    },
    {
      "cell_type": "code",
      "execution_count": 45,
      "metadata": {
        "id": "nPYPBe2ngT9N"
      },
      "outputs": [],
      "source": [
        "chunks = text_splitter.split_text(CONTEXT)"
      ]
    },
    {
      "cell_type": "code",
      "execution_count": 46,
      "metadata": {
        "colab": {
          "base_uri": "https://localhost:8080/"
        },
        "id": "n_RGVlTihaQX",
        "outputId": "2791edb4-89d1-4772-afe4-77e7618e669d"
      },
      "outputs": [
        {
          "data": {
            "text/plain": [
              "3"
            ]
          },
          "execution_count": 46,
          "metadata": {},
          "output_type": "execute_result"
        }
      ],
      "source": [
        "len(chunks)"
      ]
    },
    {
      "cell_type": "code",
      "execution_count": 47,
      "metadata": {
        "colab": {
          "base_uri": "https://localhost:8080/"
        },
        "id": "rTYny2xchS_Z",
        "outputId": "5b5c1858-9302-48a6-f2ea-441e3cd6c4d9"
      },
      "outputs": [
        {
          "name": "stdout",
          "output_type": "stream",
          "text": [
            "LangChain Expression Language or LCEL is a declarative way to easily compose chains together. There are several benefits to writing chains in this manner (as opposed to writing normal code):\n",
            "\n",
            "Async, Batch, and Streaming Support Any chain constructed this way will automatically have full sync, async, batch, and streaming support. This makes it easy to prototype a chain in a Jupyter notebook using the sync interface, and then expose it as an async streaming interface.\n",
            "----\n",
            "Fallbacks The non-determinism of LLMs makes it important to be able to handle errors gracefully. With LCEL you can easily attach fallbacks to any chain.\n",
            "\n",
            "Parallelism Since LLM applications involve (sometimes long) API calls, it often becomes important to run things in parallel. With LCEL syntax, any components that can be run in parallel automatically are.\n",
            "----\n",
            "Seamless LangSmith Tracing Integration As your chains get more and more complex, it becomes increasingly important to understand what exactly is happening at every step. With LCEL, all steps are automatically logged to LangSmith for maximal observability and debuggability.\n",
            "----\n"
          ]
        }
      ],
      "source": [
        "for chunk in chunks:\n",
        "    print(chunk)\n",
        "    print(\"----\")"
      ]
    },
    {
      "cell_type": "markdown",
      "metadata": {
        "id": "98hOgu5Yhefv"
      },
      "source": [
        "As is shown in our result, we've split each section into 100 token chunks - cleanly separated by `\\n\\n` characters!"
      ]
    },
    {
      "cell_type": "markdown",
      "metadata": {
        "id": "3PTiJ2utMpqq"
      },
      "source": [
        "####🏗️ Activity #1:\n",
        "\n",
        "While there's nothing specifically wrong with the chunking method used above - it is a naive approach that is not sensitive to specific data formats.\n",
        "\n",
        "Brainstorm some ideas that would split large single documents into smaller documents.\n",
        "\n",
        "1. `Sentence Boundary Splitting` -  This method ensures that each chunk contains complete sentences, making each piece more meaningful on its own.\n",
        "2. `Semantic Understanding Splitting` - Can use topic modelling, clustering or similarity metrics to chunk similar themes or topics in one chunk\n",
        "3. `Window Sliding with Overlap` - This is a modification to the naive approach, by including an overlap length, which acts like a sliding window and helps mainting context accross chunks. "
      ]
    },
    {
      "cell_type": "markdown",
      "metadata": {
        "id": "rj18Rjafhp7d"
      },
      "source": [
        "## Embeddings and Dense Vector Search\n",
        "\n",
        "Now that we have our individual chunks, we need a system to correctly select the relevant pieces of information to answer our query.\n",
        "\n",
        "This sounds like a perfect job for embeddings!\n",
        "\n",
        "If you come from an NLP background, embeddings are something you might be intimately familiar with - otherwise, you might find the topic a bit...dense. (this attempt at a joke will make more sense later)\n",
        "\n",
        "In all seriousness, embeddings are a powerful piece of the NLP puzzle, so let's dive in!\n",
        "\n",
        "> NOTE: While this notebook language/NLP-centric, embeddings have uses beyond just text!"
      ]
    },
    {
      "cell_type": "markdown",
      "metadata": {
        "id": "pYMtraxPjglX"
      },
      "source": [
        "### Why Do We Even Need Embeddings?\n",
        "\n",
        "In order to fully understand what Embeddings are, we first need to understand why we have them!\n",
        "\n",
        "Machine Learning algorithms, ranging from the very big to the very small, all have one thing in common:\n",
        "\n",
        "They need numeric inputs.\n",
        "\n",
        "So we need a process by which to translate the domain we live in, dominated by images, audio, language, and more, into the domain of the machine: Numbers.\n",
        "\n",
        "Another thing we want to be able to do is capture \"semantic information\" about words/phrases so that we can use algorithmic approaches to determine if words are closely related or not!\n",
        "\n",
        "So, we need to come up with a process that does these two things well:\n",
        "\n",
        "- Convert non-numeric data into numeric-data\n",
        "- Capture potential semantic relationships between individual pieces of data"
      ]
    },
    {
      "cell_type": "markdown",
      "metadata": {
        "id": "FSyKc5vkjjNE"
      },
      "source": [
        "### How Do Embeddings Capture Semantic Relationships?\n",
        "\n",
        "In a simplified sense, embeddings map a word or phrase into n-dimensional space with a dense continuous vector, where each dimension in the vector represents some \"latent feature\" of the data.\n",
        "\n",
        "This is best represented in a classic example:\n",
        "\n",
        "![image](https://i.imgur.com/K5eQtmH.png)\n",
        "\n",
        "As can be seen in the extremely simplified example: The X_1 axis represents age, and the X_2 axis represents hair.\n",
        "\n",
        "The relationship of \"puppy -> dog\" reflects the same relationship as \"baby -> adult\", but dogs are (typically) hairier than humans. However, adults typically have more hair than babies - so they are shifted slightly closer to dogs on the X_2 axis!\n",
        "\n",
        "Now, this is a simplified and contrived example - but it is *essentially* the mechanism by which embeddings capture semantic information.\n",
        "\n",
        "In reality, the dimensions don't sincerely represent hard-concepts like \"age\" or \"hair\", but it's useful as a way to think about how the semantic relationships are captured.\n",
        "\n",
        "Alright, with some history behind us - let's examine how these might help us choose relevant context."
      ]
    },
    {
      "cell_type": "markdown",
      "metadata": {
        "id": "tKOOY91Onern"
      },
      "source": [
        "Let's begin with a simple example - simply looking at how close to embedding vectors are for a given phrase.\n",
        "\n",
        "When we use the term \"close\" in this notebook - we're referring to a distance measure called \"cosine similarity\".\n",
        "\n",
        "We discussed above that if two embeddings are close - they are semantically similar, cosine similarity gives us a quick way to measure how similar two vectors are!\n",
        "\n",
        "Closeness is measured from 1 to -1, with 1 being extremely close and -1 being extremely close to opposite in meaning.\n",
        "\n",
        "Let's implement it with Numpy below."
      ]
    },
    {
      "cell_type": "code",
      "execution_count": 20,
      "metadata": {
        "id": "EVnhmxF4iD7P"
      },
      "outputs": [],
      "source": [
        "import numpy as np\n",
        "from numpy.linalg import norm\n",
        "\n",
        "\n",
        "def cosine_similarity(vec_1, vec_2):\n",
        "    return np.dot(vec_1, vec_2) / (norm(vec_1) * norm(vec_2))"
      ]
    },
    {
      "cell_type": "markdown",
      "metadata": {
        "id": "okr5PMwBpjYE"
      },
      "source": [
        "We're going to be using OpenAI's `text-embedding-3-small` today.\n",
        "\n",
        "In order to choose our embeddings model, we'll refer to the MTEB leaberboard - which can be found [here](https://huggingface.co/spaces/mteb/leaderboard)!\n",
        "\n",
        "The basic logic is: We sort by our desired task - in this case `Retrieval Average (15 Datasets)`, and we're going to pick a model that performs well on that task - to keep cost in mind, we'll go with the `text-embedding-3-small` over the `text-embedding-3-large` since there's only a separation of ~5 points between the two on this task - but the cost is a significant factor less for the `small` version of the model."
      ]
    },
    {
      "cell_type": "code",
      "execution_count": 21,
      "metadata": {
        "id": "quNjOLWspOVN"
      },
      "outputs": [],
      "source": [
        "from langchain_openai.embeddings import OpenAIEmbeddings\n",
        "\n",
        "embedding_model = OpenAIEmbeddings(model=\"text-embedding-3-small\")"
      ]
    },
    {
      "cell_type": "markdown",
      "metadata": {
        "id": "JU3Qpbs2pxj_"
      },
      "source": [
        "Let's grab some vectors and see how they're related!"
      ]
    },
    {
      "cell_type": "code",
      "execution_count": 22,
      "metadata": {
        "id": "C_uPM1llpSVt"
      },
      "outputs": [],
      "source": [
        "puppy_vec = embedding_model.embed_query(\"puppy\")\n",
        "dog_vec = embedding_model.embed_query(\"dog\")"
      ]
    },
    {
      "cell_type": "markdown",
      "metadata": {
        "id": "6OMzg_Pyp4qV"
      },
      "source": [
        "Let's do a quick check to ensure they're all the correct dimension."
      ]
    },
    {
      "cell_type": "markdown",
      "metadata": {
        "id": "dsGZ92hm9IeX"
      },
      "source": [
        "####❓ Question #2:\n",
        "\n",
        "What is the embedding dimension, given that we're using `text-embedding-3-small`?\n",
        "\n",
        "> HINT: Check out the [docs](https://platform.openai.com/docs/guides/embeddings) to help you answer this question."
      ]
    },
    {
      "cell_type": "markdown",
      "metadata": {},
      "source": [
        "Answer: 1536"
      ]
    },
    {
      "cell_type": "code",
      "execution_count": 24,
      "metadata": {},
      "outputs": [
        {
          "data": {
            "text/plain": [
              "1536"
            ]
          },
          "execution_count": 24,
          "metadata": {},
          "output_type": "execute_result"
        }
      ],
      "source": [
        "len(dog_vec)"
      ]
    },
    {
      "cell_type": "markdown",
      "metadata": {
        "id": "PIl5RQ98qFVu"
      },
      "source": [
        "Now, let's see how \"puppy\" and \"dog\" are related to eachother!"
      ]
    },
    {
      "cell_type": "code",
      "execution_count": 25,
      "metadata": {
        "colab": {
          "base_uri": "https://localhost:8080/"
        },
        "id": "GVn0WjMNqJrD",
        "outputId": "fb331f4c-b942-4862-aec7-709edf70c027"
      },
      "outputs": [
        {
          "data": {
            "text/plain": [
              "0.5590390640733375"
            ]
          },
          "execution_count": 25,
          "metadata": {},
          "output_type": "execute_result"
        }
      ],
      "source": [
        "cosine_similarity(puppy_vec, dog_vec)"
      ]
    },
    {
      "cell_type": "markdown",
      "metadata": {
        "id": "LfozbFmTielw"
      },
      "source": [
        "We can repeat the experiment for things we might expect to be unrelated, as well:\n",
        "\n"
      ]
    },
    {
      "cell_type": "code",
      "execution_count": 26,
      "metadata": {
        "id": "8PO-ONaJikDX"
      },
      "outputs": [],
      "source": [
        "puppy_vec = embedding_model.embed_query(\"puppy\")\n",
        "ice_vec = embedding_model.embed_query(\"ice cube\")"
      ]
    },
    {
      "cell_type": "code",
      "execution_count": 27,
      "metadata": {
        "colab": {
          "base_uri": "https://localhost:8080/"
        },
        "id": "a-BYB5-WipM0",
        "outputId": "12372d9a-982a-470b-dd61-fa5dc4bf113d"
      },
      "outputs": [
        {
          "data": {
            "text/plain": [
              "0.20360854219716315"
            ]
          },
          "execution_count": 27,
          "metadata": {},
          "output_type": "execute_result"
        }
      ],
      "source": [
        "cosine_similarity(puppy_vec, ice_vec)"
      ]
    },
    {
      "cell_type": "markdown",
      "metadata": {
        "id": "X-AweaFtisKS"
      },
      "source": [
        "As expected, we get an unrelated score!"
      ]
    },
    {
      "cell_type": "markdown",
      "metadata": {
        "id": "fG9MnpJSsSUg"
      },
      "source": [
        "Great!\n",
        "\n",
        "Now, let's extend it to our example.\n",
        "\n",
        "What we want to do is find the most related phrases to our query - so what we need to do is find the dense continuous vector representations for each of the chunks in our courpus - and then compare them against the dense continuous vector representations of our query.\n",
        "\n",
        "In simpler terms:\n",
        "\n",
        "Compare the embedding of our query with the embeddings of each of our chunks!"
      ]
    },
    {
      "cell_type": "markdown",
      "metadata": {
        "id": "ByK-zb0FsnqR"
      },
      "source": [
        "### Finding the Embeddings for Our Chunks\n",
        "\n",
        "First, let's find all our embeddings for each chunk and store them in a convenient format for later."
      ]
    },
    {
      "cell_type": "code",
      "execution_count": 28,
      "metadata": {
        "id": "ZHl-u6Fxske9"
      },
      "outputs": [],
      "source": [
        "embeddings_dict = {}\n",
        "\n",
        "for chunk in chunks:\n",
        "    embeddings_dict[chunk] = embedding_model.embed_query(chunk)"
      ]
    },
    {
      "cell_type": "code",
      "execution_count": 29,
      "metadata": {
        "colab": {
          "base_uri": "https://localhost:8080/"
        },
        "id": "RhJ9wY2etK7y",
        "outputId": "ab4b35c9-5a70-477d-96fc-49bf8ee8e11d"
      },
      "outputs": [
        {
          "name": "stdout",
          "output_type": "stream",
          "text": [
            "Chunk - LangChain Expression Language or LCEL is a declarative way to easily compose chains together. There are several benefits to writing chains in this manner (as opposed to writing normal code):\n",
            "\n",
            "Async, Batch, and Streaming Support Any chain constructed this way will automatically have full sync, async, batch, and streaming support. This makes it easy to prototype a chain in a Jupyter notebook using the sync interface, and then expose it as an async streaming interface.\n",
            "---\n",
            "Embedding - Vector of Size: 1536\n",
            "\n",
            "\n",
            "\n",
            "Chunk - Fallbacks The non-determinism of LLMs makes it important to be able to handle errors gracefully. With LCEL you can easily attach fallbacks to any chain.\n",
            "\n",
            "Parallelism Since LLM applications involve (sometimes long) API calls, it often becomes important to run things in parallel. With LCEL syntax, any components that can be run in parallel automatically are.\n",
            "---\n",
            "Embedding - Vector of Size: 1536\n",
            "\n",
            "\n",
            "\n",
            "Chunk - Seamless LangSmith Tracing Integration As your chains get more and more complex, it becomes increasingly important to understand what exactly is happening at every step. With LCEL, all steps are automatically logged to LangSmith for maximal observability and debuggability.\n",
            "---\n",
            "Embedding - Vector of Size: 1536\n",
            "\n",
            "\n",
            "\n"
          ]
        }
      ],
      "source": [
        "for k, v in embeddings_dict.items():\n",
        "    print(f\"Chunk - {k}\")\n",
        "    print(\"---\")\n",
        "    print(f\"Embedding - Vector of Size: {len(v)}\")\n",
        "    print(\"\\n\\n\")"
      ]
    },
    {
      "cell_type": "markdown",
      "metadata": {
        "id": "SOxYybdNtkWv"
      },
      "source": [
        "Okay, great. Let's create a query - and then embed it!"
      ]
    },
    {
      "cell_type": "code",
      "execution_count": 30,
      "metadata": {
        "colab": {
          "base_uri": "https://localhost:8080/"
        },
        "id": "FQD5Zwl1tLrZ",
        "outputId": "bfa56ab9-ee1d-4748-b806-a43a92c33ba5"
      },
      "outputs": [
        {
          "name": "stdout",
          "output_type": "stream",
          "text": [
            "Vector of Size: 1536\n"
          ]
        }
      ],
      "source": [
        "query = \"Can LCEL help take code from the notebook to production?\"\n",
        "\n",
        "query_vector = embedding_model.embed_query(query)\n",
        "print(f\"Vector of Size: {len(query_vector)}\")"
      ]
    },
    {
      "cell_type": "markdown",
      "metadata": {
        "id": "kkJhyvgEt5Vt"
      },
      "source": [
        "Now, let's compare it against each existing chunk's embedding by using cosine similarity."
      ]
    },
    {
      "cell_type": "code",
      "execution_count": 31,
      "metadata": {
        "colab": {
          "base_uri": "https://localhost:8080/"
        },
        "id": "MwnJ0uYQt-G_",
        "outputId": "d2971742-4f79-4abe-c20b-b40701d69d16"
      },
      "outputs": [
        {
          "name": "stdout",
          "output_type": "stream",
          "text": [
            "LangChain Expression Language or LCEL is a declarative way to easily compose chains together. There are several benefits to writing chains in this manner (as opposed to writing normal code):\n",
            "\n",
            "Async, Batch, and Streaming Support Any chain constructed this way will automatically have full sync, async, batch, and streaming support. This makes it easy to prototype a chain in a Jupyter notebook using the sync interface, and then expose it as an async streaming interface.\n",
            "0.5372562043448952\n"
          ]
        }
      ],
      "source": [
        "max_similarity = -float(\"inf\")\n",
        "closest_chunk = \"\"\n",
        "\n",
        "for chunk, chunk_vector in embeddings_dict.items():\n",
        "    cosine_similarity_score = cosine_similarity(chunk_vector, query_vector)\n",
        "\n",
        "    if cosine_similarity_score > max_similarity:\n",
        "        closest_chunk = chunk\n",
        "        max_similarity = cosine_similarity_score\n",
        "\n",
        "print(closest_chunk)\n",
        "print(max_similarity)"
      ]
    },
    {
      "cell_type": "markdown",
      "metadata": {
        "id": "JDC7HS7iumN-"
      },
      "source": [
        "And we get the expected result, which is the passage that specifically mentions prototyping in a Jupyter Notebook!"
      ]
    },
    {
      "cell_type": "markdown",
      "metadata": {
        "id": "UPJexL1kuw45"
      },
      "source": [
        "### Creating a Retriever\n",
        "\n",
        "Now that we have an idea of how we're getting our most relevant information - let's see how we could create a pipeline that would automatically extract the closest chunk to our query and use it as context for our prompt!\n",
        "\n",
        "First, we'll wrap the above in a helper function!"
      ]
    },
    {
      "cell_type": "code",
      "execution_count": 32,
      "metadata": {
        "id": "tnLpo26pu8-1"
      },
      "outputs": [],
      "source": [
        "def retrieve_context(query, embeddings_dict, embedding_model):\n",
        "    query_vector = embedding_model.embed_query(query)\n",
        "    max_similarity = -float(\"inf\")\n",
        "    closest_chunk = \"\"\n",
        "\n",
        "    for chunk, chunk_vector in embeddings_dict.items():\n",
        "        cosine_similarity_score = cosine_similarity(chunk_vector, query_vector)\n",
        "\n",
        "        if cosine_similarity_score > max_similarity:\n",
        "            closest_chunk = chunk\n",
        "            max_similarity = cosine_similarity_score\n",
        "\n",
        "    return closest_chunk"
      ]
    },
    {
      "cell_type": "markdown",
      "metadata": {
        "id": "ytrINkVrvL1Q"
      },
      "source": [
        "Now, let's add it to our pipeline!"
      ]
    },
    {
      "cell_type": "code",
      "execution_count": 33,
      "metadata": {
        "id": "Q26pl1osvNmL"
      },
      "outputs": [],
      "source": [
        "def simple_rag(query, embeddings_dict, embedding_model, chat_chain):\n",
        "    context = retrieve_context(query, embeddings_dict, embedding_model)\n",
        "\n",
        "    response = chat_chain.invoke({\"query\": query, \"context\": context})\n",
        "\n",
        "    return_package = {\n",
        "        \"query\": query,\n",
        "        \"response\": response,\n",
        "        \"retriever_context\": context,\n",
        "    }\n",
        "\n",
        "    return return_package"
      ]
    },
    {
      "cell_type": "code",
      "execution_count": 34,
      "metadata": {
        "colab": {
          "base_uri": "https://localhost:8080/"
        },
        "id": "UHjbWxTAvtLS",
        "outputId": "6801e6ba-8413-4a86-c736-9a359163081f"
      },
      "outputs": [
        {
          "data": {
            "text/plain": [
              "{'query': 'Can LCEL help take code from the notebook to production?',\n",
              " 'response': AIMessage(content='Yes, LCEL can help take code from the notebook to production by providing full sync, async, batch, and streaming support for any chain constructed using this language. This makes it easy to prototype a chain in a Jupyter notebook using the sync interface and then expose it as an async streaming interface for production use.', response_metadata={'token_usage': {'completion_tokens': 63, 'prompt_tokens': 152, 'total_tokens': 215}, 'model_name': 'gpt-3.5-turbo', 'system_fingerprint': 'fp_d9767fc5b9', 'finish_reason': 'stop', 'logprobs': None}, id='run-08ee865b-5f4c-4c59-83ce-f6739a046906-0'),\n",
              " 'retriever_context': 'LangChain Expression Language or LCEL is a declarative way to easily compose chains together. There are several benefits to writing chains in this manner (as opposed to writing normal code):\\n\\nAsync, Batch, and Streaming Support Any chain constructed this way will automatically have full sync, async, batch, and streaming support. This makes it easy to prototype a chain in a Jupyter notebook using the sync interface, and then expose it as an async streaming interface.'}"
            ]
          },
          "execution_count": 34,
          "metadata": {},
          "output_type": "execute_result"
        }
      ],
      "source": [
        "simple_rag(\n",
        "    \"Can LCEL help take code from the notebook to production?\",\n",
        "    embeddings_dict,\n",
        "    embedding_model,\n",
        "    chat_chain,\n",
        ")"
      ]
    },
    {
      "cell_type": "code",
      "execution_count": 37,
      "metadata": {},
      "outputs": [
        {
          "data": {
            "text/plain": [
              "{'query': 'What does LCEL do that makes it more reliable at scale?',\n",
              " 'response': AIMessage(content='LCEL provides full sync, async, batch, and streaming support, making it more reliable at scale. This allows for easy prototyping in a Jupyter notebook using the sync interface and then exposing it as an async streaming interface, ensuring scalability and flexibility in handling a large volume of data.', response_metadata={'token_usage': {'completion_tokens': 58, 'prompt_tokens': 153, 'total_tokens': 211}, 'model_name': 'gpt-3.5-turbo', 'system_fingerprint': 'fp_d9767fc5b9', 'finish_reason': 'stop', 'logprobs': None}, id='run-a1c7c6d2-b38f-49f3-8832-eae7f4b83b34-0'),\n",
              " 'retriever_context': 'LangChain Expression Language or LCEL is a declarative way to easily compose chains together. There are several benefits to writing chains in this manner (as opposed to writing normal code):\\n\\nAsync, Batch, and Streaming Support Any chain constructed this way will automatically have full sync, async, batch, and streaming support. This makes it easy to prototype a chain in a Jupyter notebook using the sync interface, and then expose it as an async streaming interface.'}"
            ]
          },
          "execution_count": 37,
          "metadata": {},
          "output_type": "execute_result"
        }
      ],
      "source": [
        "simple_rag(\n",
        "    \"What does LCEL do that makes it more reliable at scale?\",\n",
        "    embeddings_dict,\n",
        "    embedding_model,\n",
        "    chat_chain,\n",
        ")"
      ]
    },
    {
      "cell_type": "markdown",
      "metadata": {
        "id": "cD2URVX3O3XJ"
      },
      "source": [
        "####❓ Question #3:\n",
        "\n",
        "What does LCEL do that makes it more reliable at scale?\n",
        "\n",
        "> HINT: Use your newly created `simple_rag` to help you answer this question!"
      ]
    },
    {
      "cell_type": "markdown",
      "metadata": {},
      "source": [
        "Answer: LCEL provides full sync, async, batch, and streaming support, making it more reliable at scale."
      ]
    },
    {
      "cell_type": "markdown",
      "metadata": {
        "id": "FfYsBu45-0pL"
      },
      "source": [
        "# 🤝 Breakout Room #2"
      ]
    },
    {
      "cell_type": "markdown",
      "metadata": {
        "id": "Cx2AOb-QHwJm"
      },
      "source": [
        "## Task #3: Create a Simple RAG Application Using Qdrant, OpenAI, and LCEL\n",
        "\n",
        "Now that we have a grasp on how LCEL works, and how we can use LangChain and OpenAI to interact with our data - let's step it up a notch and incorporate Qdrant!"
      ]
    },
    {
      "cell_type": "markdown",
      "metadata": {
        "id": "XYJB3IxEwpnh"
      },
      "source": [
        "## LangChain Powered RAG\n",
        "\n",
        "First and foremost, LangChain provides a convenient way to store our chunks and their embeddings.\n",
        "\n",
        "It's called a `VectorStore`!\n",
        "\n",
        "We'll be using Qdrant as our `VectorStore` today. You can read more about it [here](https://qdrant.tech/documentation/).\n",
        "\n",
        "Think of a `VectorStore` as a smart way to house your chunks and their associated embedding vectors. The implementation of the `VectorStore` also allows for smarter and more efficient search of our embedding vectors - as the method we used above would not scale well as we got into the millions of chunks.\n",
        "\n",
        "Otherwise, the process remains relatively similar under the hood!\n",
        "\n",
        "Let's use [The Ultimate Hitchhiker's Guide](https://jaydixit.com/files/PDFs/TheultimateHitchhikersGuide.pdf) as our data today!"
      ]
    },
    {
      "cell_type": "markdown",
      "metadata": {
        "id": "pBErqPRgxgZR"
      },
      "source": [
        "### Data Collection\n",
        "\n",
        "We'll be leveraging the `PyMUPDFLoader` to load our PDF directly from the web!"
      ]
    },
    {
      "cell_type": "code",
      "execution_count": 48,
      "metadata": {
        "id": "-AHA9L3Jxo3r"
      },
      "outputs": [],
      "source": [
        "from langchain.document_loaders import PyMuPDFLoader\n",
        "\n",
        "docs = PyMuPDFLoader(\n",
        "    \"https://www.deyeshigh.co.uk/downloads/literacy/world_book_day/the_hitchhiker_s_guide_to_the_galaxy.pdf\"\n",
        ").load()"
      ]
    },
    {
      "cell_type": "markdown",
      "metadata": {
        "id": "uH7ZPVJLx6Cn"
      },
      "source": [
        "### Chunking Our Documents"
      ]
    },
    {
      "cell_type": "markdown",
      "metadata": {
        "id": "NsSCRQUSyBKT"
      },
      "source": [
        "Let's do the same process as we did before with our `RecursiveCharacterTextSplitter` - but this time we'll use ~200 tokens as our max chunk size!"
      ]
    },
    {
      "cell_type": "code",
      "execution_count": 49,
      "metadata": {
        "id": "SzolG1FLx2f_"
      },
      "outputs": [],
      "source": [
        "text_splitter = RecursiveCharacterTextSplitter(\n",
        "    chunk_size=200,\n",
        "    chunk_overlap=0,\n",
        "    length_function=tiktoken_len,\n",
        ")\n",
        "\n",
        "split_chunks = text_splitter.split_documents(docs)"
      ]
    },
    {
      "cell_type": "code",
      "execution_count": 50,
      "metadata": {
        "colab": {
          "base_uri": "https://localhost:8080/"
        },
        "id": "fpV4f1eXyXVJ",
        "outputId": "eec7df70-56d4-433a-a870-ad143c6f0a6d"
      },
      "outputs": [
        {
          "data": {
            "text/plain": [
              "517"
            ]
          },
          "execution_count": 50,
          "metadata": {},
          "output_type": "execute_result"
        }
      ],
      "source": [
        "len(split_chunks)"
      ]
    },
    {
      "cell_type": "markdown",
      "metadata": {
        "id": "YTJ60Ck6ybe_"
      },
      "source": [
        "Alright, now we have 516 ~200 token long documents.\n",
        "\n",
        "Let's verify the process worked as intended by checking our max document length."
      ]
    },
    {
      "cell_type": "code",
      "execution_count": 51,
      "metadata": {
        "colab": {
          "base_uri": "https://localhost:8080/"
        },
        "id": "950mB338yZR8",
        "outputId": "91f274c3-1117-43ad-f6af-03bf4974e776"
      },
      "outputs": [
        {
          "name": "stdout",
          "output_type": "stream",
          "text": [
            "189\n"
          ]
        }
      ],
      "source": [
        "max_chunk_length = 0\n",
        "\n",
        "for chunk in split_chunks:\n",
        "    max_chunk_length = max(max_chunk_length, tiktoken_len(chunk.page_content))\n",
        "\n",
        "print(max_chunk_length)"
      ]
    },
    {
      "cell_type": "markdown",
      "metadata": {
        "id": "TDt3RufQy1cP"
      },
      "source": [
        "Perfect! Now we can carry on to creating and storing our embeddings."
      ]
    },
    {
      "cell_type": "markdown",
      "metadata": {
        "id": "kocCe4zLy5qT"
      },
      "source": [
        "### Embeddings and Vector Storage\n",
        "\n",
        "We'll use the `text-embedding-3-small` embedding model again - and `Qdrant` to store all our embedding vectors for easy retrieval later!"
      ]
    },
    {
      "cell_type": "code",
      "execution_count": 52,
      "metadata": {
        "id": "7M0X1eVlWPFf"
      },
      "outputs": [],
      "source": [
        "from langchain_community.vectorstores import Qdrant\n",
        "\n",
        "qdrant_vectorstore = Qdrant.from_documents(\n",
        "    split_chunks,\n",
        "    embedding_model,\n",
        "    location=\":memory:\",\n",
        "    collection_name=\"Hitchiker's Guide\",\n",
        ")"
      ]
    },
    {
      "cell_type": "markdown",
      "metadata": {
        "id": "d-NDvjfzXhVp"
      },
      "source": [
        "Now let's set up our retriever, just as we saw before, but this time using LangChain's simple `as_retriever()` method!"
      ]
    },
    {
      "cell_type": "code",
      "execution_count": 53,
      "metadata": {
        "id": "Edjx19YBXavZ"
      },
      "outputs": [],
      "source": [
        "qdrant_retriever = qdrant_vectorstore.as_retriever()"
      ]
    },
    {
      "cell_type": "markdown",
      "metadata": {
        "id": "B1OM0DiYcOj-"
      },
      "source": [
        "#### Back to the Flow"
      ]
    },
    {
      "cell_type": "markdown",
      "metadata": {
        "id": "J7apXaEBzQai"
      },
      "source": [
        "We're ready to move to the next step!"
      ]
    },
    {
      "cell_type": "markdown",
      "metadata": {
        "id": "xMhcU37dzV5k"
      },
      "source": [
        "### Setting up our RAG\n",
        "\n",
        "We'll use the LCEL we touched on earlier to create a RAG chain.\n",
        "\n",
        "Let's think through each part:\n",
        "\n",
        "1. First we need to retrieve context\n",
        "2. We need to pipe that context to our model\n",
        "3. We need to parse that output\n",
        "\n",
        "Let's start by setting up our prompt again, just so it's fresh in our minds!"
      ]
    },
    {
      "cell_type": "markdown",
      "metadata": {
        "id": "oatgDa7cOXWV"
      },
      "source": [
        "#### 🏗️ Activity #2:\n",
        "\n",
        "Complete the prompt so that your RAG application answers queries based on the context provided, but *does not* answer queries if the context is unrelated to the query."
      ]
    },
    {
      "cell_type": "code",
      "execution_count": 54,
      "metadata": {
        "id": "TE5tick_YPJj"
      },
      "outputs": [],
      "source": [
        "RAG_PROMPT = \"\"\"\n",
        "CONTEXT:\n",
        "{context}\n",
        "\n",
        "QUERY:\n",
        "{question}\n",
        "\n",
        "Answer the query above only using the context provided. If you don't know the answer, simply say 'I don't know'.\n",
        "\"\"\"\n",
        "\n",
        "rag_prompt = ChatPromptTemplate.from_template(RAG_PROMPT)"
      ]
    },
    {
      "cell_type": "markdown",
      "metadata": {
        "id": "tZKadufhc2RL"
      },
      "source": [
        "#### Our RAG Chain\n",
        "\n",
        "Notice how we have a bit of a more complex chain this time - that's because we want to return our sources with the response.\n",
        "\n",
        "Let's break down the chain step-by-step:\n",
        "\n",
        "1. We invoke the chain with the `question` item. Notice how we only need to provide `question` since both the retreiver and the `\"question\"` object depend on it.\n",
        "  - We also chain our `\"question\"` into our `retriever`! This is what ultimately collects the context through Qdrant.\n",
        "2. We assign our collected context to a `RunnablePassthrough()` from the previous object. This is going to let us simply pass it through to the next step, but still allow us to run that section of the chain.\n",
        "3. We finally collect our response by chaining our prompt, which expects both a `\"question\"` and `\"context\"`, into our `llm`. We also, collect the `\"context\"` again so we can output it in the final response object.\n",
        "\n",
        "The key thing to keep in mind here is that we need to pass our context through *after* we've retrieved it - to populate the object in a way that doesn't require us to call it or try and use it for something else."
      ]
    },
    {
      "cell_type": "code",
      "execution_count": 55,
      "metadata": {
        "id": "VnGthXpzzo-R"
      },
      "outputs": [],
      "source": [
        "from operator import itemgetter\n",
        "from langchain.schema.output_parser import StrOutputParser\n",
        "from langchain.schema.runnable import RunnablePassthrough\n",
        "\n",
        "retrieval_augmented_qa_chain = (\n",
        "    # INVOKE CHAIN WITH: {\"question\" : \"<<SOME USER QUESTION>>\"}\n",
        "    # \"question\" : populated by getting the value of the \"question\" key\n",
        "    # \"context\"  : populated by getting the value of the \"question\" key and chaining it into the base_retriever\n",
        "    {\n",
        "        \"context\": itemgetter(\"question\") | qdrant_retriever,\n",
        "        \"question\": itemgetter(\"question\"),\n",
        "    }\n",
        "    # \"context\"  : is assigned to a RunnablePassthrough object (will not be called or considered in the next step)\n",
        "    #              by getting the value of the \"context\" key from the previous step\n",
        "    | RunnablePassthrough.assign(context=itemgetter(\"context\"))\n",
        "    # \"response\" : the \"context\" and \"question\" values are used to format our prompt object and then piped\n",
        "    #              into the LLM and stored in a key called \"response\"\n",
        "    # \"context\"  : populated by getting the value of the \"context\" key from the previous step\n",
        "    | {\"response\": rag_prompt | openai_chat_model, \"context\": itemgetter(\"context\")}\n",
        ")"
      ]
    },
    {
      "cell_type": "markdown",
      "metadata": {
        "id": "h0KAPrtFMtRd"
      },
      "source": [
        "Let's get a visual understanding of our chain!"
      ]
    },
    {
      "cell_type": "code",
      "execution_count": 56,
      "metadata": {
        "colab": {
          "base_uri": "https://localhost:8080/"
        },
        "id": "ceq3JfVLM74-",
        "outputId": "9a220163-05bb-4cb0-a620-66ad6fe1d04c"
      },
      "outputs": [],
      "source": [
        "!pip install -qU grandalf"
      ]
    },
    {
      "cell_type": "code",
      "execution_count": 57,
      "metadata": {
        "colab": {
          "base_uri": "https://localhost:8080/"
        },
        "id": "y8ocIXNGMsue",
        "outputId": "9e51c77e-e4d1-41f0-afd8-c6f3d598c61d"
      },
      "outputs": [
        {
          "name": "stdout",
          "output_type": "stream",
          "text": [
            "                       +---------------------------------+                         \n",
            "                       | Parallel<context,question>Input |                         \n",
            "                       +---------------------------------+                         \n",
            "                           *****                   ****                            \n",
            "                        ***                            ****                        \n",
            "                     ***                                   ****                    \n",
            "+--------------------------------+                             **                  \n",
            "| Lambda(itemgetter('question')) |                              *                  \n",
            "+--------------------------------+                              *                  \n",
            "                 *                                              *                  \n",
            "                 *                                              *                  \n",
            "                 *                                              *                  \n",
            "     +----------------------+                   +--------------------------------+ \n",
            "     | VectorStoreRetriever |                   | Lambda(itemgetter('question')) | \n",
            "     +----------------------+                   +--------------------------------+ \n",
            "                           *****                   *****                           \n",
            "                                ***             ***                                \n",
            "                                   ***       ***                                   \n",
            "                       +----------------------------------+                        \n",
            "                       | Parallel<context,question>Output |                        \n",
            "                       +----------------------------------+                        \n",
            "                                         *                                         \n",
            "                                         *                                         \n",
            "                                         *                                         \n",
            "                            +------------------------+                             \n",
            "                            | Parallel<context>Input |                             \n",
            "                            +------------------------+                             \n",
            "                              ****               ****                              \n",
            "                           ***                       ***                           \n",
            "                         **                             **                         \n",
            "     +-------------------------------+              +-------------+                \n",
            "     | Lambda(itemgetter('context')) |              | Passthrough |                \n",
            "     +-------------------------------+              +-------------+                \n",
            "                              ****               ****                              \n",
            "                                  ***         ***                                  \n",
            "                                     **     **                                     \n",
            "                           +-------------------------+                             \n",
            "                           | Parallel<context>Output |                             \n",
            "                           +-------------------------+                             \n",
            "                                         *                                         \n",
            "                                         *                                         \n",
            "                                         *                                         \n",
            "                       +---------------------------------+                         \n",
            "                       | Parallel<response,context>Input |                         \n",
            "                       +---------------------------------+                         \n",
            "                             ***                  ****                             \n",
            "                         ****                         ***                          \n",
            "                       **                                ****                      \n",
            "         +--------------------+                              **                    \n",
            "         | ChatPromptTemplate |                               *                    \n",
            "         +--------------------+                               *                    \n",
            "                    *                                         *                    \n",
            "                    *                                         *                    \n",
            "                    *                                         *                    \n",
            "             +------------+                  +-------------------------------+     \n",
            "             | ChatOpenAI |                  | Lambda(itemgetter('context')) |     \n",
            "             +------------+**                +-------------------------------+     \n",
            "                             ***                  ***                              \n",
            "                                ****          ****                                 \n",
            "                                    **      **                                     \n",
            "                       +----------------------------------+                        \n",
            "                       | Parallel<response,context>Output |                        \n",
            "                       +----------------------------------+                        \n"
          ]
        }
      ],
      "source": [
        "print(retrieval_augmented_qa_chain.get_graph().draw_ascii())"
      ]
    },
    {
      "cell_type": "markdown",
      "metadata": {
        "id": "1bQVzN_eX1M2"
      },
      "source": [
        "Let's try another visual representation:\n",
        "\n",
        "![image](https://i.imgur.com/Ad31AhL.png)"
      ]
    },
    {
      "cell_type": "markdown",
      "metadata": {
        "id": "_0C5CFRHOxtB"
      },
      "source": [
        "Let's test our chain out!"
      ]
    },
    {
      "cell_type": "code",
      "execution_count": 58,
      "metadata": {
        "id": "JSDyVefDaue4"
      },
      "outputs": [],
      "source": [
        "response = retrieval_augmented_qa_chain.invoke(\n",
        "    {\n",
        "        \"question\": \"What is the significance of towels in Douglas Adam's Hitchhicker's Guide?\"\n",
        "    }\n",
        ")"
      ]
    },
    {
      "cell_type": "code",
      "execution_count": 59,
      "metadata": {
        "colab": {
          "base_uri": "https://localhost:8080/",
          "height": 70
        },
        "id": "yfEAoG3HLC3J",
        "outputId": "ecd0a464-c76b-4723-e807-a533ef6b1dc2"
      },
      "outputs": [
        {
          "data": {
            "text/plain": [
              "\"In Douglas Adams' Hitchhiker's Guide, towels are described as the most massively useful thing a hitchhiker can have. They can be used for a variety of purposes, such as waving as a distress signal, drying off, and even having immense psychological value. The presence of a towel signifies to others that the hitchhiker is well-prepared and capable, leading them to assume the hitchhiker also has other essential items like a toothbrush, face flannel, and soap. It is a symbol of readiness and resourcefulness in the world of hitchhiking.\""
            ]
          },
          "execution_count": 59,
          "metadata": {},
          "output_type": "execute_result"
        }
      ],
      "source": [
        "response[\"response\"].content"
      ]
    },
    {
      "cell_type": "code",
      "execution_count": 60,
      "metadata": {
        "colab": {
          "base_uri": "https://localhost:8080/"
        },
        "id": "FSZFdCM5LFoq",
        "outputId": "9a853f7c-65d8-4772-e54c-d3e6a2ccf526"
      },
      "outputs": [
        {
          "name": "stdout",
          "output_type": "stream",
          "text": [
            "Context:\n",
            "page_content=\"28  /  D O U G L A S  A D A M S  \\nthis device was in fact that most remarkable of all books ever to \\ncome out of the great publishing corporations of Ursa Minor - \\nThe Hitch Hiker's Guide to the Galaxy.  The reason why it was \\npublished in the form of a micro sub meson electronic \\ncomponent is that if it were printed in normal book form, an \\ninterstellar hitch hiker would require several inconveniently \\nlarge buildings to carry it around in. \\nBeneath that in Ford Prefect's satchel were a few biros, a \\nnotepad, and a largish bath towel from Marks and Spencer. \\nThe Hitch Hiker's Guide to the Galaxy has a few things to say on \\nthe subject of towels. \\nA towel, it says, is about the most massively useful thing an\" metadata={'source': 'https://www.deyeshigh.co.uk/downloads/literacy/world_book_day/the_hitchhiker_s_guide_to_the_galaxy.pdf', 'file_path': 'https://www.deyeshigh.co.uk/downloads/literacy/world_book_day/the_hitchhiker_s_guide_to_the_galaxy.pdf', 'page': 27, 'total_pages': 227, 'format': 'PDF 1.3', 'title': \"Hitchhiker's Guide to the Galaxy\", 'author': 'Douglas Adams', 'subject': 'document version 1.0', 'keywords': 'hanomag <01name@iname.com>', 'creator': \"Hitchhiker's Guide to the Galaxy.doc (Preview) - Microsoft Word\", 'producer': 'Acrobat PDFWriter 4.0 for Windows NT', 'creationDate': 'D:20010213123949', 'modDate': \"D:20010213124359-08'00'\", 'trapped': '', 'encryption': 'Standard V1 R2 40-bit RC4', '_id': '6e21635a338f46898f1b493e5610561b', '_collection_name': \"Hitchiker's Guide\"}\n",
            "----\n",
            "Context:\n",
            "page_content=\"you can't see it, it can't see you - daft as a bush, but very \\nravenous); you can wave your towel in emergencies as a distress \\nsignal, and of course dry yourself off with it if it still seems to be \\nclean enough. \\nMore importantly, a towel has immense psychological value.  For \\nsome reason, if a strag (strag: non-hitch hiker) discovers that a \\nhitch hiker has his towel with him, he will automatically assume \\nthat he is also in possession of a toothbrush, face flannel, soap, tin\" metadata={'source': 'https://www.deyeshigh.co.uk/downloads/literacy/world_book_day/the_hitchhiker_s_guide_to_the_galaxy.pdf', 'file_path': 'https://www.deyeshigh.co.uk/downloads/literacy/world_book_day/the_hitchhiker_s_guide_to_the_galaxy.pdf', 'page': 27, 'total_pages': 227, 'format': 'PDF 1.3', 'title': \"Hitchhiker's Guide to the Galaxy\", 'author': 'Douglas Adams', 'subject': 'document version 1.0', 'keywords': 'hanomag <01name@iname.com>', 'creator': \"Hitchhiker's Guide to the Galaxy.doc (Preview) - Microsoft Word\", 'producer': 'Acrobat PDFWriter 4.0 for Windows NT', 'creationDate': 'D:20010213123949', 'modDate': \"D:20010213124359-08'00'\", 'trapped': '', 'encryption': 'Standard V1 R2 40-bit RC4', '_id': '8b3f45fbe8af41b7957345e05c288f28', '_collection_name': \"Hitchiker's Guide\"}\n",
            "----\n",
            "Context:\n",
            "page_content='T H E  H I T C H H I K E R \\' S  G U I D E  T O  T H E  G A L A X Y  /  29  \\nof biscuits, flask, compass, map, ball of string, gnat spray, wet \\nweather gear, space suit etc., etc.  Furthermore, the strag will \\nthen happily lend the hitch hiker any of these or a dozen other \\nitems that the hitch hiker might accidentally have \"lost\".  What \\nthe strag will think is that any man who can hitch the length and \\nbreadth of the galaxy, rough it, slum it, struggle against terrible \\nodds, win through, and still knows where his towel is is clearly a \\nman to be reckoned with. \\nHence a phrase which has passed into hitch hiking slang, as in' metadata={'source': 'https://www.deyeshigh.co.uk/downloads/literacy/world_book_day/the_hitchhiker_s_guide_to_the_galaxy.pdf', 'file_path': 'https://www.deyeshigh.co.uk/downloads/literacy/world_book_day/the_hitchhiker_s_guide_to_the_galaxy.pdf', 'page': 28, 'total_pages': 227, 'format': 'PDF 1.3', 'title': \"Hitchhiker's Guide to the Galaxy\", 'author': 'Douglas Adams', 'subject': 'document version 1.0', 'keywords': 'hanomag <01name@iname.com>', 'creator': \"Hitchhiker's Guide to the Galaxy.doc (Preview) - Microsoft Word\", 'producer': 'Acrobat PDFWriter 4.0 for Windows NT', 'creationDate': 'D:20010213123949', 'modDate': \"D:20010213124359-08'00'\", 'trapped': '', 'encryption': 'Standard V1 R2 40-bit RC4', '_id': '97d36d58bc56423fbf78c9c59732daea', '_collection_name': \"Hitchiker's Guide\"}\n",
            "----\n",
            "Context:\n",
            "page_content='\"Hey, you sass that hoopy Ford Prefect? There\\'s a frood who \\nreally knows where his towel is.\" (Sass: know, be aware of, meet, \\nhave sex with; hoopy: really together guy; frood: really amazingly \\ntogether guy.) \\nNestling quietly on top of the towel in Ford Prefect\\'s satchel, the \\nSub-Etha Sens-O-Matic began to wink more quickly.  Miles above \\nthe surface of the planet the huge yellow somethings began to fan \\nout.  At Jodrell Bank, someone decided it was time for a nice \\nrelaxing cup of tea. \\n\"You got a towel with you?\" said Ford Prefect suddenly to Arthur. \\nArthur, struggling through his third pint, looked round at him. \\n\"Why? What, no ...  should I have?\" He had given up being' metadata={'source': 'https://www.deyeshigh.co.uk/downloads/literacy/world_book_day/the_hitchhiker_s_guide_to_the_galaxy.pdf', 'file_path': 'https://www.deyeshigh.co.uk/downloads/literacy/world_book_day/the_hitchhiker_s_guide_to_the_galaxy.pdf', 'page': 28, 'total_pages': 227, 'format': 'PDF 1.3', 'title': \"Hitchhiker's Guide to the Galaxy\", 'author': 'Douglas Adams', 'subject': 'document version 1.0', 'keywords': 'hanomag <01name@iname.com>', 'creator': \"Hitchhiker's Guide to the Galaxy.doc (Preview) - Microsoft Word\", 'producer': 'Acrobat PDFWriter 4.0 for Windows NT', 'creationDate': 'D:20010213123949', 'modDate': \"D:20010213124359-08'00'\", 'trapped': '', 'encryption': 'Standard V1 R2 40-bit RC4', '_id': 'eb8c734a55a8461da1f61743f5789798', '_collection_name': \"Hitchiker's Guide\"}\n",
            "----\n"
          ]
        }
      ],
      "source": [
        "for context in response[\"context\"]:\n",
        "    print(\"Context:\")\n",
        "    print(context)\n",
        "    print(\"----\")"
      ]
    },
    {
      "cell_type": "markdown",
      "metadata": {
        "id": "nagiJ6l6noPL"
      },
      "source": [
        "Let's see if it can handle a query that is totally unrelated to the source documents."
      ]
    },
    {
      "cell_type": "code",
      "execution_count": 61,
      "metadata": {
        "id": "HOd2nJKZnsty"
      },
      "outputs": [],
      "source": [
        "response = retrieval_augmented_qa_chain.invoke(\n",
        "    {\"question\": \"What is the airspeed velocity of an unladen swallow?\"}\n",
        ")"
      ]
    },
    {
      "cell_type": "code",
      "execution_count": 62,
      "metadata": {
        "colab": {
          "base_uri": "https://localhost:8080/",
          "height": 35
        },
        "id": "TmLCKNGZLTh6",
        "outputId": "a68a9a96-28de-408f-ba6b-935c5ee46c44"
      },
      "outputs": [
        {
          "data": {
            "text/plain": [
              "\"I don't know.\""
            ]
          },
          "execution_count": 62,
          "metadata": {},
          "output_type": "execute_result"
        }
      ],
      "source": [
        "response[\"response\"].content"
      ]
    },
    {
      "cell_type": "code",
      "execution_count": 63,
      "metadata": {},
      "outputs": [],
      "source": [
        "response = retrieval_augmented_qa_chain.invoke(\n",
        "    {\"question\": \"Where does Arthur Dent meet Marvin?\"}\n",
        ")"
      ]
    },
    {
      "cell_type": "code",
      "execution_count": 65,
      "metadata": {},
      "outputs": [
        {
          "data": {
            "text/plain": [
              "'Arthur Dent meets Marvin while they are both in a corridor, with Marvin still moaning about the pain in his diodes.'"
            ]
          },
          "execution_count": 65,
          "metadata": {},
          "output_type": "execute_result"
        }
      ],
      "source": [
        "response[\"response\"].content"
      ]
    },
    {
      "cell_type": "markdown",
      "metadata": {
        "id": "EvkSiGXrPMYw"
      },
      "source": [
        "####❓ Question #4:\n",
        "\n",
        "Where does Arthur Dent meet Marvin?\n",
        "\n",
        "> HINT: Use your RAG Chain to answer this question.\n"
      ]
    },
    {
      "cell_type": "markdown",
      "metadata": {},
      "source": [
        "Answer: Arthur Dent meets Marvin while they are both in a corridor, with Marvin still moaning about the pain in his diodes."
      ]
    },
    {
      "cell_type": "markdown",
      "metadata": {},
      "source": [
        "## Another Way"
      ]
    },
    {
      "cell_type": "code",
      "execution_count": 98,
      "metadata": {},
      "outputs": [],
      "source": [
        "from operator import itemgetter\n",
        "from langchain_core.runnables import RunnablePassthrough, RunnableParallel\n",
        "\n",
        "rag_chain = RunnableParallel(\n",
        "    {\n",
        "        \"context\": itemgetter(\"question\") | qdrant_retriever,\n",
        "        \"question\": RunnablePassthrough(),\n",
        "    }\n",
        ") | {\"response\": rag_prompt | openai_chat_model, \"context\": itemgetter(\"context\")}"
      ]
    },
    {
      "cell_type": "code",
      "execution_count": 99,
      "metadata": {},
      "outputs": [
        {
          "data": {
            "text/plain": [
              "{'response': AIMessage(content='Arthur Dent meets Marvin in a corridor where Marvin is trudging along, moaning about a pain in all the diodes down his left-hand side.', response_metadata={'token_usage': {'completion_tokens': 30, 'prompt_tokens': 1822, 'total_tokens': 1852}, 'model_name': 'gpt-3.5-turbo', 'system_fingerprint': 'fp_d9767fc5b9', 'finish_reason': 'stop', 'logprobs': None}, id='run-6871065d-ce1f-4797-ba1b-a0ac28db432c-0'),\n",
              " 'context': [Document(page_content='being lame, which he wasn\\'t.  \"On second thoughts,\" said the old \\nman, \"leave it here.  You must come with me.  Great things are \\nafoot.\" He turned towards his craft which, though no apparent \\nsignal had been given, now drifted quietly towards them through \\nthe dark. \\nArthur looked down at Marvin, who now made an equally big \\nshow of turning round laboriously and trudging off down into \\nthe crater again muttering sour nothings to himself. \\n\"Come,\" called the old man, \"come now or you will be late.\" \\n\"Late?\" said Arthur.  \"What for?\" \\n\"What is your name, human?\" \\n\"Dent.  Arthur Dent,\" said Arthur. \\n\"Late, as in t\\nhe late Dentarthurdent,\" said the old man, sternly.', metadata={'source': 'https://www.deyeshigh.co.uk/downloads/literacy/world_book_day/the_hitchhiker_s_guide_to_the_galaxy.pdf', 'file_path': 'https://www.deyeshigh.co.uk/downloads/literacy/world_book_day/the_hitchhiker_s_guide_to_the_galaxy.pdf', 'page': 160, 'total_pages': 227, 'format': 'PDF 1.3', 'title': \"Hitchhiker's Guide to the Galaxy\", 'author': 'Douglas Adams', 'subject': 'document version 1.0', 'keywords': 'hanomag <01name@iname.com>', 'creator': \"Hitchhiker's Guide to the Galaxy.doc (Preview) - Microsoft Word\", 'producer': 'Acrobat PDFWriter 4.0 for Windows NT', 'creationDate': 'D:20010213123949', 'modDate': \"D:20010213124359-08'00'\", 'trapped': '', 'encryption': 'Standard V1 R2 40-bit RC4', '_id': '20a3bc66c9584cd69b0a3cabbdeb81fd', '_collection_name': \"Hitchiker's Guide\"}),\n",
              "  Document(page_content='108  / D O U G L A S  A D A M S  \\nMarvin trudged on down the corridor, still moaning. \\n\"...  and then of course I\\'ve got this terrible pain in all the diodes \\ndown my left hand side ...\" \\n\"No?\" said Arthur grimly as he walked along beside him.  \\n\"Really?\" \\n\"Oh yes,\" said Marvin, \"I mean I\\'ve asked for them to be replaced \\nbut no one ever listens.\" \\n\"I can imagine.\" \\nVague whistling and humming noises were coming from Ford.  \\n\"Well well well,\" he kept saying to himself, \"Zaphod Beeblebrox \\n...\" \\nSuddenly Marvin stopped, and held up a hand. \\n\"You know what\\'s happened now of course?\" \\n\"No, what?\" said Arthur, who didn\\'t what to know.', metadata={'source': 'https://www.deyeshigh.co.uk/downloads/literacy/world_book_day/the_hitchhiker_s_guide_to_the_galaxy.pdf', 'file_path': 'https://www.deyeshigh.co.uk/downloads/literacy/world_book_day/the_hitchhiker_s_guide_to_the_galaxy.pdf', 'page': 107, 'total_pages': 227, 'format': 'PDF 1.3', 'title': \"Hitchhiker's Guide to the Galaxy\", 'author': 'Douglas Adams', 'subject': 'document version 1.0', 'keywords': 'hanomag <01name@iname.com>', 'creator': \"Hitchhiker's Guide to the Galaxy.doc (Preview) - Microsoft Word\", 'producer': 'Acrobat PDFWriter 4.0 for Windows NT', 'creationDate': 'D:20010213123949', 'modDate': \"D:20010213124359-08'00'\", 'trapped': '', 'encryption': 'Standard V1 R2 40-bit RC4', '_id': 'e48d9d335e0447c3baa88b57e166ec53', '_collection_name': \"Hitchiker's Guide\"}),\n",
              "  Document(page_content='\"I\\'m sure we can come to some arrangement,\" said Ford.  \"Excuse \\nme!\" he shouted. \\nMr Prosser (who was arguing with a spokesman for the bulldozer \\ndrivers about whether or not Arthur Dent constituted a mental \\nhealth hazard, and how much they should get paid if he did) \\nlooked around.  He was surprised and slightly alarmed to find \\nthat Arthur had company. \\n\"Yes? Hello?\" he called.  \"Has Mr Dent come to his senses yet?\" \\n\"Can we for the moment,\" called Ford, \"assume that he hasn\\'t?\" \\n\"Well?\" sighed Mr Prosser.', metadata={'source': 'https://www.deyeshigh.co.uk/downloads/literacy/world_book_day/the_hitchhiker_s_guide_to_the_galaxy.pdf', 'file_path': 'https://www.deyeshigh.co.uk/downloads/literacy/world_book_day/the_hitchhiker_s_guide_to_the_galaxy.pdf', 'page': 16, 'total_pages': 227, 'format': 'PDF 1.3', 'title': \"Hitchhiker's Guide to the Galaxy\", 'author': 'Douglas Adams', 'subject': 'document version 1.0', 'keywords': 'hanomag <01name@iname.com>', 'creator': \"Hitchhiker's Guide to the Galaxy.doc (Preview) - Microsoft Word\", 'producer': 'Acrobat PDFWriter 4.0 for Windows NT', 'creationDate': 'D:20010213123949', 'modDate': \"D:20010213124359-08'00'\", 'trapped': '', 'encryption': 'Standard V1 R2 40-bit RC4', '_id': '2cb168737fe14ea78491c3b1b4a2dcdf', '_collection_name': \"Hitchiker's Guide\"}),\n",
              "  Document(page_content='want me to sit in a corner and rust, or just fall apart where I\\'m \\nstanding?\" \\n\"Yeah, just show them in would you Marvin?\" came another \\nvoice. \\nArthur looked at Ford and was astonished to see him laughing. \\n\"What\\'s ...?\" \\n\"Shhh,\" said Ford, \"come in.\" \\nHe stepped through into the bridge. \\nArthur followed him in nervously and was astonished to see a \\nman lolling back in a chair with his feet on a control console \\npicking the teeth in his right-hand head with his left hand.  The \\nright-hand head seemed to be thoroughly preoccupied with this \\ntask, but the left-hand one was grinning a broad, relaxed, \\nnonchalant grin.  The number of things that Arthur couldn\\'t', metadata={'source': 'https://www.deyeshigh.co.uk/downloads/literacy/world_book_day/the_hitchhiker_s_guide_to_the_galaxy.pdf', 'file_path': 'https://www.deyeshigh.co.uk/downloads/literacy/world_book_day/the_hitchhiker_s_guide_to_the_galaxy.pdf', 'page': 108, 'total_pages': 227, 'format': 'PDF 1.3', 'title': \"Hitchhiker's Guide to the Galaxy\", 'author': 'Douglas Adams', 'subject': 'document version 1.0', 'keywords': 'hanomag <01name@iname.com>', 'creator': \"Hitchhiker's Guide to the Galaxy.doc (Preview) - Microsoft Word\", 'producer': 'Acrobat PDFWriter 4.0 for Windows NT', 'creationDate': 'D:20010213123949', 'modDate': \"D:20010213124359-08'00'\", 'trapped': '', 'encryption': 'Standard V1 R2 40-bit RC4', '_id': '96332f76aac544eba01e6706afdf9024', '_collection_name': \"Hitchiker's Guide\"})]}"
            ]
          },
          "execution_count": 99,
          "metadata": {},
          "output_type": "execute_result"
        }
      ],
      "source": [
        "rag_chain.invoke({\"question\": \"Where does Arthur Dent meet Marvin\"})"
      ]
    },
    {
      "cell_type": "code",
      "execution_count": 73,
      "metadata": {},
      "outputs": [
        {
          "data": {
            "text/plain": [
              "{'response': AIMessage(content='Arthur Dent meets Marvin while they are both in a corridor, with Marvin still moaning about the pain in his diodes.', response_metadata={'token_usage': {'completion_tokens': 25, 'prompt_tokens': 1843, 'total_tokens': 1868}, 'model_name': 'gpt-3.5-turbo', 'system_fingerprint': 'fp_d9767fc5b9', 'finish_reason': 'stop', 'logprobs': None}, id='run-12c926d9-a0cc-44aa-91c7-09bbeee1941f-0'),\n",
              " 'context': [Document(page_content='being lame, which he wasn\\'t.  \"On second thoughts,\" said the old \\nman, \"leave it here.  You must come with me.  Great things are \\nafoot.\" He turned towards his craft which, though no apparent \\nsignal had been given, now drifted quietly towards them through \\nthe dark. \\nArthur looked down at Marvin, who now made an equally big \\nshow of turning round laboriously and trudging off down into \\nthe crater again muttering sour nothings to himself. \\n\"Come,\" called the old man, \"come now or you will be late.\" \\n\"Late?\" said Arthur.  \"What for?\" \\n\"What is your name, human?\" \\n\"Dent.  Arthur Dent,\" said Arthur. \\n\"Late, as in t\\nhe late Dentarthurdent,\" said the old man, sternly.', metadata={'source': 'https://www.deyeshigh.co.uk/downloads/literacy/world_book_day/the_hitchhiker_s_guide_to_the_galaxy.pdf', 'file_path': 'https://www.deyeshigh.co.uk/downloads/literacy/world_book_day/the_hitchhiker_s_guide_to_the_galaxy.pdf', 'page': 160, 'total_pages': 227, 'format': 'PDF 1.3', 'title': \"Hitchhiker's Guide to the Galaxy\", 'author': 'Douglas Adams', 'subject': 'document version 1.0', 'keywords': 'hanomag <01name@iname.com>', 'creator': \"Hitchhiker's Guide to the Galaxy.doc (Preview) - Microsoft Word\", 'producer': 'Acrobat PDFWriter 4.0 for Windows NT', 'creationDate': 'D:20010213123949', 'modDate': \"D:20010213124359-08'00'\", 'trapped': '', 'encryption': 'Standard V1 R2 40-bit RC4', '_id': '20a3bc66c9584cd69b0a3cabbdeb81fd', '_collection_name': \"Hitchiker's Guide\"}),\n",
              "  Document(page_content='108  / D O U G L A S  A D A M S  \\nMarvin trudged on down the corridor, still moaning. \\n\"...  and then of course I\\'ve got this terrible pain in all the diodes \\ndown my left hand side ...\" \\n\"No?\" said Arthur grimly as he walked along beside him.  \\n\"Really?\" \\n\"Oh yes,\" said Marvin, \"I mean I\\'ve asked for them to be replaced \\nbut no one ever listens.\" \\n\"I can imagine.\" \\nVague whistling and humming noises were coming from Ford.  \\n\"Well well well,\" he kept saying to himself, \"Zaphod Beeblebrox \\n...\" \\nSuddenly Marvin stopped, and held up a hand. \\n\"You know what\\'s happened now of course?\" \\n\"No, what?\" said Arthur, who didn\\'t what to know.', metadata={'source': 'https://www.deyeshigh.co.uk/downloads/literacy/world_book_day/the_hitchhiker_s_guide_to_the_galaxy.pdf', 'file_path': 'https://www.deyeshigh.co.uk/downloads/literacy/world_book_day/the_hitchhiker_s_guide_to_the_galaxy.pdf', 'page': 107, 'total_pages': 227, 'format': 'PDF 1.3', 'title': \"Hitchhiker's Guide to the Galaxy\", 'author': 'Douglas Adams', 'subject': 'document version 1.0', 'keywords': 'hanomag <01name@iname.com>', 'creator': \"Hitchhiker's Guide to the Galaxy.doc (Preview) - Microsoft Word\", 'producer': 'Acrobat PDFWriter 4.0 for Windows NT', 'creationDate': 'D:20010213123949', 'modDate': \"D:20010213124359-08'00'\", 'trapped': '', 'encryption': 'Standard V1 R2 40-bit RC4', '_id': 'e48d9d335e0447c3baa88b57e166ec53', '_collection_name': \"Hitchiker's Guide\"}),\n",
              "  Document(page_content='\"I\\'m sure we can come to some arrangement,\" said Ford.  \"Excuse \\nme!\" he shouted. \\nMr Prosser (who was arguing with a spokesman for the bulldozer \\ndrivers about whether or not Arthur Dent constituted a mental \\nhealth hazard, and how much they should get paid if he did) \\nlooked around.  He was surprised and slightly alarmed to find \\nthat Arthur had company. \\n\"Yes? Hello?\" he called.  \"Has Mr Dent come to his senses yet?\" \\n\"Can we for the moment,\" called Ford, \"assume that he hasn\\'t?\" \\n\"Well?\" sighed Mr Prosser.', metadata={'source': 'https://www.deyeshigh.co.uk/downloads/literacy/world_book_day/the_hitchhiker_s_guide_to_the_galaxy.pdf', 'file_path': 'https://www.deyeshigh.co.uk/downloads/literacy/world_book_day/the_hitchhiker_s_guide_to_the_galaxy.pdf', 'page': 16, 'total_pages': 227, 'format': 'PDF 1.3', 'title': \"Hitchhiker's Guide to the Galaxy\", 'author': 'Douglas Adams', 'subject': 'document version 1.0', 'keywords': 'hanomag <01name@iname.com>', 'creator': \"Hitchhiker's Guide to the Galaxy.doc (Preview) - Microsoft Word\", 'producer': 'Acrobat PDFWriter 4.0 for Windows NT', 'creationDate': 'D:20010213123949', 'modDate': \"D:20010213124359-08'00'\", 'trapped': '', 'encryption': 'Standard V1 R2 40-bit RC4', '_id': '2cb168737fe14ea78491c3b1b4a2dcdf', '_collection_name': \"Hitchiker's Guide\"}),\n",
              "  Document(page_content='12  /  D O U G L A S  A D A M S  \\nfrom a small planet in the vicinity of Betelgeuse and not from \\nGuildford as he usually claimed. \\nArthur Dent had never, ever suspected this. \\nThis friend of his had first arrived on the planet some fifteen \\nEarth years previously, and he had worked hard to blend himself \\ninto Earth society - with, it must be said, some success.  For \\ninstance he had spent those fifteen years pretending to be an out \\nof work actor, which was plausible enough. \\nHe had made one careless blunder though, because he had \\nskimped a bit on his preparatory research.  The information he \\nhad gathered had led him to choose the name \"Ford Prefect\" as \\nbeing nicely inconspicuous. \\nHe was not conspicuously tall, his features were striking but not', metadata={'source': 'https://www.deyeshigh.co.uk/downloads/literacy/world_book_day/the_hitchhiker_s_guide_to_the_galaxy.pdf', 'file_path': 'https://www.deyeshigh.co.uk/downloads/literacy/world_book_day/the_hitchhiker_s_guide_to_the_galaxy.pdf', 'page': 11, 'total_pages': 227, 'format': 'PDF 1.3', 'title': \"Hitchhiker's Guide to the Galaxy\", 'author': 'Douglas Adams', 'subject': 'document version 1.0', 'keywords': 'hanomag <01name@iname.com>', 'creator': \"Hitchhiker's Guide to the Galaxy.doc (Preview) - Microsoft Word\", 'producer': 'Acrobat PDFWriter 4.0 for Windows NT', 'creationDate': 'D:20010213123949', 'modDate': \"D:20010213124359-08'00'\", 'trapped': '', 'encryption': 'Standard V1 R2 40-bit RC4', '_id': 'cd817c6d90de4e999414c8b2e3ec0c16', '_collection_name': \"Hitchiker's Guide\"})]}"
            ]
          },
          "execution_count": 73,
          "metadata": {},
          "output_type": "execute_result"
        }
      ],
      "source": [
        "response"
      ]
    },
    {
      "cell_type": "code",
      "execution_count": 86,
      "metadata": {},
      "outputs": [
        {
          "name": "stdout",
          "output_type": "stream",
          "text": [
            "                        +---------------------------------+                     \n",
            "                        | Parallel<context,question>Input |                     \n",
            "                        +---------------------------------+                     \n",
            "                           *****                   *****                        \n",
            "                        ***                             ***                     \n",
            "                     ***                                   *****                \n",
            "+--------------------------------+                              **              \n",
            "| Lambda(itemgetter('question')) |                               *              \n",
            "+--------------------------------+                               *              \n",
            "                 *                                               *              \n",
            "                 *                                               *              \n",
            "                 *                                               *              \n",
            "     +----------------------+                             +-------------+       \n",
            "     | VectorStoreRetriever |                             | Passthrough |       \n",
            "     +----------------------+                           **+-------------+       \n",
            "                           *****                   *****                        \n",
            "                                ***             ***                             \n",
            "                                   ***       ***                                \n",
            "                       +----------------------------------+                     \n",
            "                       | Parallel<context,question>Output |                     \n",
            "                       +----------------------------------+                     \n",
            "                                         *                                      \n",
            "                                         *                                      \n",
            "                                         *                                      \n",
            "                        +---------------------------------+                     \n",
            "                        | Parallel<response,context>Input |                     \n",
            "                        +---------------------------------+                     \n",
            "                              ***                 ****                          \n",
            "                          ****                        ***                       \n",
            "                        **                               ****                   \n",
            "         +--------------------+                              **                 \n",
            "         | ChatPromptTemplate |                               *                 \n",
            "         +--------------------+                               *                 \n",
            "                    *                                         *                 \n",
            "                    *                                         *                 \n",
            "                    *                                         *                 \n",
            "             +------------+                   +-------------------------------+ \n",
            "             | ChatOpenAI |                   | Lambda(itemgetter('context')) | \n",
            "             +------------+***                +-------------------------------+ \n",
            "                              ***                 ***                           \n",
            "                                 ****         ****                              \n",
            "                                     **     **                                  \n",
            "                       +----------------------------------+                     \n",
            "                       | Parallel<response,context>Output |                     \n",
            "                       +----------------------------------+                     \n"
          ]
        }
      ],
      "source": [
        "print(rag_chain.get_graph().draw_ascii())"
      ]
    },
    {
      "cell_type": "code",
      "execution_count": null,
      "metadata": {},
      "outputs": [],
      "source": []
    }
  ],
  "metadata": {
    "accelerator": "GPU",
    "colab": {
      "gpuType": "T4",
      "machine_shape": "hm",
      "provenance": []
    },
    "kernelspec": {
      "display_name": "Python 3",
      "name": "python3"
    },
    "language_info": {
      "codemirror_mode": {
        "name": "ipython",
        "version": 3
      },
      "file_extension": ".py",
      "mimetype": "text/x-python",
      "name": "python",
      "nbconvert_exporter": "python",
      "pygments_lexer": "ipython3",
      "version": "3.11.8"
    }
  },
  "nbformat": 4,
  "nbformat_minor": 0
}
